{
 "cells": [
  {
   "cell_type": "markdown",
   "id": "9c381f7a",
   "metadata": {},
   "source": [
    "# Bag of Words (MLP Model)\n",
    "Disclaimer: As the flow of the data preparation are similar to the baseline file, we will not be further explaining repeated concepts except models generated or when necessary.\n",
    "\n",
    "This file aims to generate a suitable model for Bag of Words features. Hence, the focus of this file is to create a model of obtainable standards for comparison among the various other models (present in other files). The comparison of the models and other classifiers will be shown and elaborated in the report itself. As mentioned in the report, the 3 tsv files will not be concatenated (and split again) to ensure a balanced training, validation and test dataset to a certain extent. This ensures more accurate and efficient machine learning techniques to obtain results. "
   ]
  },
  {
   "cell_type": "code",
   "execution_count": 1,
   "id": "18c75c03",
   "metadata": {},
   "outputs": [
    {
     "name": "stdout",
     "output_type": "stream",
     "text": [
      "Requirement already satisfied: scikit-multilearn in /Users/jolynngkaiying/opt/anaconda3/lib/python3.9/site-packages (0.2.0)\n",
      "Note: you may need to restart the kernel to use updated packages.\n"
     ]
    }
   ],
   "source": [
    "pip install scikit-multilearn"
   ]
  },
  {
   "cell_type": "code",
   "execution_count": 2,
   "id": "be0198bc",
   "metadata": {},
   "outputs": [
    {
     "name": "stdout",
     "output_type": "stream",
     "text": [
      "Requirement already satisfied: gensim in /Users/jolynngkaiying/opt/anaconda3/lib/python3.9/site-packages (4.1.2)\n",
      "Requirement already satisfied: smart-open>=1.8.1 in /Users/jolynngkaiying/opt/anaconda3/lib/python3.9/site-packages (from gensim) (5.1.0)\n",
      "Requirement already satisfied: scipy>=0.18.1 in /Users/jolynngkaiying/opt/anaconda3/lib/python3.9/site-packages (from gensim) (1.7.3)\n",
      "Requirement already satisfied: numpy>=1.17.0 in /Users/jolynngkaiying/opt/anaconda3/lib/python3.9/site-packages (from gensim) (1.21.5)\n",
      "Note: you may need to restart the kernel to use updated packages.\n"
     ]
    }
   ],
   "source": [
    "pip install gensim"
   ]
  },
  {
   "cell_type": "code",
   "execution_count": 3,
   "id": "1040f967",
   "metadata": {},
   "outputs": [
    {
     "name": "stdout",
     "output_type": "stream",
     "text": [
      "Requirement already satisfied: emoji in /Users/jolynngkaiying/opt/anaconda3/lib/python3.9/site-packages (2.0.0)\n",
      "Note: you may need to restart the kernel to use updated packages.\n"
     ]
    }
   ],
   "source": [
    "pip install emoji"
   ]
  },
  {
   "cell_type": "code",
   "execution_count": 6,
   "id": "17fba2d7",
   "metadata": {},
   "outputs": [
    {
     "name": "stdout",
     "output_type": "stream",
     "text": [
      "Collecting prettytable\n",
      "  Downloading prettytable-3.4.0-py3-none-any.whl (27 kB)\n",
      "Requirement already satisfied: wcwidth in /Users/jolynngkaiying/opt/anaconda3/lib/python3.9/site-packages (from prettytable) (0.2.5)\n",
      "Installing collected packages: prettytable\n",
      "Successfully installed prettytable-3.4.0\n",
      "Note: you may need to restart the kernel to use updated packages.\n"
     ]
    }
   ],
   "source": [
    "pip install prettytable"
   ]
  },
  {
   "cell_type": "code",
   "execution_count": 3,
   "id": "852877f6",
   "metadata": {},
   "outputs": [],
   "source": [
    "#required libraries imported to run project\n",
    "import nltk\n",
    "import numpy as np\n",
    "import pandas as pd\n",
    "import plotly.graph_objects as go\n",
    "import emoji\n",
    "import re\n",
    "import nltk\n",
    "import seaborn as sns\n",
    "import skmultilearn\n",
    "from keras_tuner.tuners import Hyperband\n",
    "from keras.models import Sequential, Model\n",
    "from keras import layers\n",
    "from keras import Input\n",
    "from sklearn.pipeline import Pipeline\n",
    "from bs4 import BeautifulSoup\n",
    "from nltk.corpus import stopwords\n",
    "from matplotlib import pyplot as plt\n",
    "from nltk.stem import WordNetLemmatizer\n",
    "from sklearn.multioutput import MultiOutputClassifier\n",
    "from keras.callbacks import EarlyStopping, ModelCheckpoint\n",
    "from sklearn.multiclass import OneVsRestClassifier\n",
    "from skmultilearn.problem_transform import BinaryRelevance\n",
    "from sklearn.feature_extraction.text import CountVectorizer\n",
    "from sklearn.model_selection import train_test_split\n",
    "from sklearn.feature_extraction import text\n",
    "from sklearn.linear_model import LogisticRegression\n",
    "from gensim.models import Word2Vec\n",
    "from sklearn.decomposition import PCA\n",
    "from tensorflow.keras.models import Sequential\n",
    "import tensorflow as tf\n",
    "from tensorflow.keras.optimizers import Adam\n",
    "from prettytable import PrettyTable\n",
    "from sklearn.metrics import confusion_matrix, precision_score, recall_score, f1_score, cohen_kappa_score\n",
    "from tensorflow.keras.layers import Embedding, Dense\n",
    "from tensorflow.keras import regularizers\n",
    "from sklearn.metrics import classification_report,confusion_matrix,balanced_accuracy_score,cohen_kappa_score,roc_auc_score"
   ]
  },
  {
   "cell_type": "code",
   "execution_count": 4,
   "id": "2bf36d1b",
   "metadata": {},
   "outputs": [
    {
     "name": "stderr",
     "output_type": "stream",
     "text": [
      "[nltk_data] Downloading package stopwords to\n",
      "[nltk_data]     /Users/jolynngkaiying/nltk_data...\n",
      "[nltk_data]   Package stopwords is already up-to-date!\n",
      "[nltk_data] Downloading package wordnet to\n",
      "[nltk_data]     /Users/jolynngkaiying/nltk_data...\n",
      "[nltk_data]   Package wordnet is already up-to-date!\n",
      "[nltk_data] Downloading package punkt to\n",
      "[nltk_data]     /Users/jolynngkaiying/nltk_data...\n",
      "[nltk_data]   Package punkt is already up-to-date!\n",
      "[nltk_data] Downloading package omw-1.4 to\n",
      "[nltk_data]     /Users/jolynngkaiying/nltk_data...\n",
      "[nltk_data]   Package omw-1.4 is already up-to-date!\n"
     ]
    },
    {
     "data": {
      "text/plain": [
       "True"
      ]
     },
     "execution_count": 4,
     "metadata": {},
     "output_type": "execute_result"
    }
   ],
   "source": [
    "nltk.download('stopwords')\n",
    "nltk.download('wordnet')\n",
    "nltk.download('punkt')\n",
    "nltk.download('omw-1.4')"
   ]
  },
  {
   "cell_type": "code",
   "execution_count": 5,
   "id": "d1053dff",
   "metadata": {},
   "outputs": [],
   "source": [
    "# A list of contractions from http://stackoverflow.com/questions/19790188/expanding-english-language-contractions-in-python\n",
    "contractions_map = { \n",
    "\"ain't\": \"am not\",\n",
    "\"aren't\": \"are not\",\n",
    "\"can't\": \"cannot\",\n",
    "\"can't've\": \"cannot have\",\n",
    "\"'cause\": \"because\",\n",
    "\"could've\": \"could have\",\n",
    "\"couldn't\": \"could not\",\n",
    "\"couldn't've\": \"could not have\",\n",
    "\"didn't\": \"did not\",\n",
    "\"doesn't\": \"does not\",\n",
    "\"don't\": \"do not\",\n",
    "\"hadn't\": \"had not\",\n",
    "\"hadn't've\": \"had not have\",\n",
    "\"hasn't\": \"has not\",\n",
    "\"haven't\": \"have not\",\n",
    "\"he'd\": \"he would\",\n",
    "\"he'd've\": \"he would have\",\n",
    "\"he'll\": \"he will\",\n",
    "\"he's\": \"he is\",\n",
    "\"how'd\": \"how did\",\n",
    "\"how'll\": \"how will\",\n",
    "\"how's\": \"how is\",\n",
    "\"i'd\": \"i would\",\n",
    "\"i'll\": \"i will\",\n",
    "\"i'm\": \"i am\",\n",
    "\"i've\": \"i have\",\n",
    "\"isn't\": \"is not\",\n",
    "\"it'd\": \"it would\",\n",
    "\"it'll\": \"it will\",\n",
    "\"it's\": \"it is\",\n",
    "\"let's\": \"let us\",\n",
    "\"ma'am\": \"madam\",\n",
    "\"mayn't\": \"may not\",\n",
    "\"might've\": \"might have\",\n",
    "\"mightn't\": \"might not\",\n",
    "\"must've\": \"must have\",\n",
    "\"mustn't\": \"must not\",\n",
    "\"needn't\": \"need not\",\n",
    "\"oughtn't\": \"ought not\",\n",
    "\"shan't\": \"shall not\",\n",
    "\"sha'n't\": \"shall not\",\n",
    "\"she'd\": \"she would\",\n",
    "\"she'll\": \"she will\",\n",
    "\"she's\": \"she is\",\n",
    "\"should've\": \"should have\",\n",
    "\"shouldn't\": \"should not\",\n",
    "\"that'd\": \"that would\",\n",
    "\"that's\": \"that is\",\n",
    "\"there'd\": \"there had\",\n",
    "\"there's\": \"there is\",\n",
    "\"they'd\": \"they would\",\n",
    "\"they'll\": \"they will\",\n",
    "\"they're\": \"they are\",\n",
    "\"they've\": \"they have\",\n",
    "\"wasn't\": \"was not\",\n",
    "\"we'd\": \"we would\",\n",
    "\"we'll\": \"we will\",\n",
    "\"we're\": \"we are\",\n",
    "\"we've\": \"we have\",\n",
    "\"weren't\": \"were not\",\n",
    "\"what'll\": \"what will\",\n",
    "\"what're\": \"what are\",\n",
    "\"what's\": \"what is\",\n",
    "\"what've\": \"what have\",\n",
    "\"where'd\": \"where did\",\n",
    "\"where's\": \"where is\",\n",
    "\"who'll\": \"who will\",\n",
    "\"who's\": \"who is\",\n",
    "\"won't\": \"will not\",\n",
    "\"wouldn't\": \"would not\",\n",
    "\"you'd\": \"you would\",\n",
    "\"you'll\": \"you will\",\n",
    "\"you're\": \"you are\"\n",
    "}"
   ]
  },
  {
   "cell_type": "code",
   "execution_count": 6,
   "id": "94c8625a",
   "metadata": {},
   "outputs": [],
   "source": [
    "def contractions(text, mapping):\n",
    "    '''Clean contraction using contraction mapping'''    \n",
    "    specials = [\"’\", \"‘\", \"´\", \"`\"]\n",
    "    for s in specials:\n",
    "        text = text.replace(s, \"'\")\n",
    "    for word in mapping.keys():\n",
    "        if \"\"+word+\"\" in text:\n",
    "            text = text.replace(\"\"+word+\"\", \"\"+mapping[word]+\"\")\n",
    "\n",
    "    return text\n",
    "\n",
    "def clean_text(text, remove_stopwords=True):\n",
    "    text = emoji.demojize(text)\n",
    "    text = text.lower()\n",
    "\n",
    "    template = re.compile(r'https?://\\S+|www\\.\\S+') #Removes website links\n",
    "    text = template.sub(r'', text)\n",
    "    text = contractions(text, contractions_map)\n",
    "    \n",
    "    soup = BeautifulSoup(text, 'lxml') #Removes HTML tags\n",
    "    only_text = soup.get_text()\n",
    "    text = only_text\n",
    "    text = re.sub(r'\\<a href', ' ', text)\n",
    "    text = re.sub(r\"[^a-zA-Z\\d]\", \" \", text) #Remove special Charecters\n",
    "    text = re.sub(r'&amp;', '', text) \n",
    "    text = re.sub(' +', ' ', text) #Remove Extra Spaces\n",
    "    text = text.strip() # remove spaces at the beginning and at the end of string \n",
    "\n",
    "    \n",
    "    # remove stopwords\n",
    "    if remove_stopwords:\n",
    "        text = text.split()\n",
    "        stops = set(stopwords.words(\"english\"))\n",
    "        text = [w for w in text if not w in stops]\n",
    "        text = \" \".join(text)\n",
    "\n",
    "    # Tokenize each word\n",
    "    text =  nltk.WordPunctTokenizer().tokenize(text)\n",
    "    \n",
    "    # Lemmatize each token\n",
    "    lemm = nltk.stem.WordNetLemmatizer()\n",
    "    text = list(map(lambda word:list(map(lemm.lemmatize, word)), text))\n",
    "    words = [*map(''.join, text)]\n",
    "    full_test = [*map(''.join, words)]\n",
    "    return full_test"
   ]
  },
  {
   "cell_type": "code",
   "execution_count": 7,
   "id": "9a758709",
   "metadata": {},
   "outputs": [],
   "source": [
    "train_df = pd.read_csv(\"dataset/train.tsv\",sep='\\t')\n",
    "val_df = pd.read_csv(\"dataset/dev.tsv\",sep='\\t')\n",
    "test_df = pd.read_csv(\"dataset/test.tsv\",sep='\\t')"
   ]
  },
  {
   "cell_type": "code",
   "execution_count": 8,
   "id": "d881584e",
   "metadata": {},
   "outputs": [],
   "source": [
    "train_df['List of classes'] = train_df['emotion'].apply(lambda x: x.split(','))\n",
    "val_df['List of classes'] = val_df['emotion'].apply(lambda x: x.split(','))\n",
    "test_df['List of classes'] = test_df['emotion'].apply(lambda x: x.split(','))"
   ]
  },
  {
   "cell_type": "code",
   "execution_count": 9,
   "id": "94f89f65",
   "metadata": {},
   "outputs": [],
   "source": [
    "import json\n",
    "with open('dataset/ekman_mapping.json') as file:\n",
    "    ekman_mapping = json.load(file)"
   ]
  },
  {
   "cell_type": "code",
   "execution_count": 10,
   "id": "31f8cdec",
   "metadata": {},
   "outputs": [
    {
     "name": "stdout",
     "output_type": "stream",
     "text": [
      "['admiration', 'amusement', 'anger', 'annoyance', 'approval', 'caring', 'confusion', 'curiosity', 'desire', 'disappointment', 'disapproval', 'disgust', 'embarrassment', 'excitement', 'fear', 'gratitude', 'grief', 'joy', 'love', 'nervousness', 'optimism', 'pride', 'realization', 'relief', 'remorse', 'sadness', 'surprise', 'neutral']\n"
     ]
    }
   ],
   "source": [
    "emotion_file = open(\"dataset/emotions.txt\", \"r\")\n",
    "emotion_list = emotion_file.read()\n",
    "emotion_list = emotion_list.split(\"\\n\")\n",
    "print(emotion_list)"
   ]
  },
  {
   "cell_type": "code",
   "execution_count": 11,
   "id": "34e17fd3",
   "metadata": {},
   "outputs": [],
   "source": [
    "def idx2class(idx_list):\n",
    "    arr = []\n",
    "    for i in idx_list:\n",
    "        arr.append(emotion_list[int(i)])\n",
    "    return arr\n",
    "\n",
    "def EmotionMapping(emotion_list):\n",
    "    map_list = []\n",
    "    \n",
    "    for i in emotion_list:\n",
    "        if i in ekman_mapping['anger']:\n",
    "            map_list.append('anger')\n",
    "        if i in ekman_mapping['disgust']:\n",
    "            map_list.append('disgust')\n",
    "        if i in ekman_mapping['fear']:\n",
    "            map_list.append('fear')\n",
    "        if i in ekman_mapping['joy']:\n",
    "            map_list.append('joy')\n",
    "        if i in ekman_mapping['sadness']:\n",
    "            map_list.append('sadness')\n",
    "        if i in ekman_mapping['surprise']:\n",
    "            map_list.append('surprise')\n",
    "        if i == 'neutral':\n",
    "            map_list.append('neutral')\n",
    "            \n",
    "    return map_list\n",
    "\n",
    "\n",
    "train_df['Emotions'] = train_df['List of classes'].apply(idx2class)\n",
    "val_df['Emotions'] = val_df['List of classes'].apply(idx2class)\n",
    "test_df['Emotions'] = test_df['List of classes'].apply(idx2class)"
   ]
  },
  {
   "cell_type": "code",
   "execution_count": 12,
   "id": "0153f635",
   "metadata": {},
   "outputs": [],
   "source": [
    "train_df['Mapped Emotions'] = train_df['Emotions'].apply(EmotionMapping)\n",
    "val_df['Mapped Emotions'] = val_df['Emotions'].apply(EmotionMapping)\n",
    "test_df['Mapped Emotions'] = test_df['Emotions'].apply(EmotionMapping)"
   ]
  },
  {
   "cell_type": "code",
   "execution_count": 13,
   "id": "fe4328f0",
   "metadata": {},
   "outputs": [],
   "source": [
    "from sklearn.preprocessing import MultiLabelBinarizer\n",
    "one_hot = MultiLabelBinarizer()\n",
    "y = pd.DataFrame(one_hot.fit_transform(train_df['Mapped Emotions']), columns=one_hot.classes_)\n",
    "train_df = train_df.join(y)\n",
    "\n",
    "y = pd.DataFrame(one_hot.fit_transform(val_df['Mapped Emotions']), columns=one_hot.classes_)\n",
    "val_df = val_df.join(y)\n",
    "\n",
    "y = pd.DataFrame(one_hot.fit_transform(test_df['Mapped Emotions']), columns=one_hot.classes_)\n",
    "test_df = test_df.join(y)"
   ]
  },
  {
   "cell_type": "code",
   "execution_count": 14,
   "id": "96e69e4a",
   "metadata": {},
   "outputs": [],
   "source": [
    "#drop any columns that we will not be using\n",
    "train_df = train_df.drop(train_df[train_df.neutral == 1].index)\n",
    "train_df.drop(['neutral'], axis=1, inplace =True)\n",
    "train_df=train_df.reset_index(drop=True)\n",
    "\n",
    "val_df = val_df.drop(val_df[val_df.neutral == 1].index)\n",
    "val_df.drop(['neutral'], axis=1, inplace =True)\n",
    "val_df=val_df.reset_index(drop=True)\n",
    "\n",
    "test_df = test_df.drop(test_df[test_df.neutral == 1].index)\n",
    "test_df.drop(['neutral'], axis=1, inplace =True)\n",
    "test_df=test_df.reset_index(drop=True)"
   ]
  },
  {
   "cell_type": "code",
   "execution_count": 15,
   "id": "1ba45d8f",
   "metadata": {},
   "outputs": [],
   "source": [
    "train_df.drop(['emotion', 'id','List of classes', 'Emotions','Mapped Emotions'], axis=1, inplace=True)\n",
    "val_df.drop(['emotion', 'id','List of classes', 'Emotions','Mapped Emotions'], axis=1, inplace=True)\n",
    "test_df.drop(['emotion', 'id','List of classes', 'Emotions','Mapped Emotions'], axis=1, inplace=True)"
   ]
  },
  {
   "cell_type": "code",
   "execution_count": 16,
   "id": "26e3f2c3",
   "metadata": {},
   "outputs": [
    {
     "name": "stderr",
     "output_type": "stream",
     "text": [
      "/Users/jolynngkaiying/opt/anaconda3/lib/python3.9/site-packages/bs4/__init__.py:435: MarkupResemblesLocatorWarning: The input looks more like a filename than markup. You may want to open this file and pass the filehandle into Beautiful Soup.\n",
      "  warnings.warn(\n",
      "/Users/jolynngkaiying/opt/anaconda3/lib/python3.9/site-packages/bs4/__init__.py:435: MarkupResemblesLocatorWarning: The input looks more like a filename than markup. You may want to open this file and pass the filehandle into Beautiful Soup.\n",
      "  warnings.warn(\n",
      "/Users/jolynngkaiying/opt/anaconda3/lib/python3.9/site-packages/bs4/__init__.py:435: MarkupResemblesLocatorWarning: The input looks more like a filename than markup. You may want to open this file and pass the filehandle into Beautiful Soup.\n",
      "  warnings.warn(\n"
     ]
    }
   ],
   "source": [
    "#generate cleaned words and text - train data\n",
    "train_df['words'] = train_df.text.apply(clean_text)\n",
    "temp=list(train_df['words'])\n",
    "train_df['filtered'] = [*map(' '.join, temp)]\n",
    "\n",
    "#generate cleaned words and text - val data\n",
    "val_df['words'] = val_df.text.apply(clean_text)\n",
    "temp=list(val_df['words'])\n",
    "val_df['filtered'] = [*map(' '.join, temp)]\n",
    "\n",
    "#generate cleaned words and text - test data\n",
    "test_df['words'] = test_df.text.apply(clean_text)\n",
    "temp=list(test_df['words'])\n",
    "test_df['filtered'] = [*map(' '.join, temp)]"
   ]
  },
  {
   "cell_type": "markdown",
   "id": "d85aec5b",
   "metadata": {},
   "source": [
    "### Create functions to plot the accuracy and loss graphs\n",
    "\n",
    "#### Loss VS Accuracy\n",
    "We have functions that perform the action of plotting of loss and accuracy to be used later in the project when building a model. This is because we would be analysing both graphs to ensure that the model is performing as accurately as possible.\n",
    "\n",
    "We would be using accuracy as our metrics at compilation as we can assume the dataset is balanced due to the used of a pre-selected training dataset. This is because accuracy is affected by the number of samples available. However, in this case as the dataset is still multi-label we will take into consideration other factors to ensure optimal results when creating models as accuracy would only show the performace of the classifier at guessing. We should be using 'scoring rules' such as \"loss functions that map predicted probabilities and corresponding observed outcomes to loss values, which are minimized in expectation by the true probabilities (p,1−p)\".\n",
    "\n",
    "Hence, in order to ensure optimal performance of the model. We would plot both accuracy and loss graphs when building and improving on our models to ensure that the model is underfit/overfit/goodfit."
   ]
  },
  {
   "cell_type": "code",
   "execution_count": 21,
   "id": "3a231345",
   "metadata": {},
   "outputs": [],
   "source": [
    "def plot_accuracy(acc, val_acc):\n",
    "    '''plot training accuracy and validation accuracy'''\n",
    "    plt.clf() #clear any existing figures\n",
    "    epochs = range(1, len(acc)+1) #get a number of epochs\n",
    "    #assign values for each axis\n",
    "    plt.plot(epochs, acc, 'bo', label=\"Accuracy\")\n",
    "    plt.plot(epochs, val_acc, 'b', label=\"Validation accuracy\")\n",
    "    #set a title of graph and labels of each axis\n",
    "    plt.title(\"Training and validation accuracy\")\n",
    "    plt.xlabel('Epochs')\n",
    "    plt.ylabel(\"Accuracy\")\n",
    "    plt.legend()\n",
    "    plt.show()\n",
    "\n",
    "def plot_loss(loss, val_loss):\n",
    "    '''plot training loss and validation loss on the graph'''\n",
    "    plt.clf() #clear any existing figures\n",
    "    epochs = range(1, len(loss)+1) #get a number of epochs\n",
    "    #assign values for each axis\n",
    "    plt.plot(epochs, loss, 'bo', label=\"Loss\")\n",
    "    plt.plot(epochs, val_loss, 'b', label=\"validation loss\")\n",
    "    #set a title of graph and labels of each axis\n",
    "    plt.title(\"Training Loss & Validation Loss\")\n",
    "    plt.xlabel('Epochs')\n",
    "    plt.ylabel('Loss')\n",
    "    plt.legend()\n",
    "    plt.show()"
   ]
  },
  {
   "cell_type": "markdown",
   "id": "888e39c4",
   "metadata": {},
   "source": [
    "### Bag of Words\n",
    "Using feature extraction, we use count vectorizer to obtain our bag of words"
   ]
  },
  {
   "cell_type": "code",
   "execution_count": 17,
   "id": "cf4c4f9d",
   "metadata": {},
   "outputs": [],
   "source": [
    "count_vect = CountVectorizer(stop_words = \"english\")\n",
    "X_train = count_vect.fit_transform(train_df.filtered).toarray()\n",
    "X_val = count_vect.transform(val_df.filtered).toarray()\n",
    "X_test = count_vect.transform(test_df.filtered).toarray()"
   ]
  },
  {
   "cell_type": "code",
   "execution_count": 18,
   "id": "d4e094bc",
   "metadata": {},
   "outputs": [
    {
     "name": "stdout",
     "output_type": "stream",
     "text": [
      "Y train shape:  (29191, 6)\n",
      "Y test shape:  (3640, 6)\n",
      "Y test shape:  (3660, 6)\n"
     ]
    }
   ],
   "source": [
    "#emotion labels - 6 labels\n",
    "col = ['anger','disgust','fear','joy','sadness', 'surprise']\n",
    "\n",
    "y_train = train_df[col]\n",
    "y_val = val_df[col]\n",
    "y_test = test_df[col]\n",
    "\n",
    "print(\"Y train shape: \",y_train.shape)\n",
    "print(\"Y test shape: \",y_test.shape)\n",
    "print(\"Y test shape: \",y_val.shape)"
   ]
  },
  {
   "cell_type": "code",
   "execution_count": 124,
   "id": "ce2696d4",
   "metadata": {},
   "outputs": [
    {
     "name": "stdout",
     "output_type": "stream",
     "text": [
      "train_text (29191, 20163)\n",
      "train_labels (29191, 6)\n",
      "val_text (3660, 20163)\n",
      "val_labels (3660, 6)\n",
      "test_text (3640, 20163)\n",
      "test_labels (3640, 6)\n"
     ]
    }
   ],
   "source": [
    "print('train_text', X_train.shape)\n",
    "print('train_labels', y_train.shape)\n",
    "print('val_text', X_val.shape)\n",
    "print('val_labels', y_val.shape)\n",
    "print('test_text', X_test.shape)\n",
    "print('test_labels', y_test.shape)"
   ]
  },
  {
   "cell_type": "markdown",
   "id": "91e5d966",
   "metadata": {},
   "source": [
    "### Underfit Model\n",
    "The first model would be fairly simple, having the minimum requirements that we need to have statistical power. Which is to have an accuracy higher than 16.67. Our model will only have the required last activation layer sigmoid and the loss function binary_crossentropy."
   ]
  },
  {
   "cell_type": "code",
   "execution_count": 26,
   "id": "06792687",
   "metadata": {},
   "outputs": [
    {
     "name": "stdout",
     "output_type": "stream",
     "text": [
      "Model: \"model\"\n",
      "_________________________________________________________________\n",
      " Layer (type)                Output Shape              Param #   \n",
      "=================================================================\n",
      " input_1 (InputLayer)        [(None, 20163)]           0         \n",
      "                                                                 \n",
      " dense (Dense)               (None, 128)               2580992   \n",
      "                                                                 \n",
      " dense_1 (Dense)             (None, 6)                 774       \n",
      "                                                                 \n",
      "=================================================================\n",
      "Total params: 2,581,766\n",
      "Trainable params: 2,581,766\n",
      "Non-trainable params: 0\n",
      "_________________________________________________________________\n"
     ]
    },
    {
     "name": "stderr",
     "output_type": "stream",
     "text": [
      "2022-08-30 09:00:33.675231: I tensorflow/core/platform/cpu_feature_guard.cc:193] This TensorFlow binary is optimized with oneAPI Deep Neural Network Library (oneDNN) to use the following CPU instructions in performance-critical operations:  AVX2 FMA\n",
      "To enable them in other operations, rebuild TensorFlow with the appropriate compiler flags.\n"
     ]
    }
   ],
   "source": [
    "input_tensor = Input(shape=X_train.shape[1:])\n",
    "x = layers.Dense(128, activation='relu')(input_tensor)\n",
    "output_tensor = layers.Dense(6, activation='sigmoid')(x)\n",
    "model_bow_underfit = Model(input_tensor, output_tensor)\n",
    "model_bow_underfit.summary()\n",
    "\n",
    "model_bow_underfit.compile(optimizer=tf.keras.optimizers.Adam(learning_rate=0.000001), loss='binary_crossentropy',metrics=['accuracy'])\n",
    "history_model_bow_underfit = model_bow_underfit.fit(X_train, y_train,epochs=5,batch_size=64,validation_data = (X_val, y_val), verbose=0)"
   ]
  },
  {
   "cell_type": "code",
   "execution_count": 27,
   "id": "b1bdb940",
   "metadata": {},
   "outputs": [
    {
     "data": {
      "image/png": "[encoded data removed]",
      "text/plain": [
       "<Figure size 432x288 with 1 Axes>"
      ]
     },
     "metadata": {
      "needs_background": "light"
     },
     "output_type": "display_data"
    }
   ],
   "source": [
    "plot_loss(history_model_bow_underfit.history['loss'], history_model_bow_underfit.history['val_loss'])"
   ]
  },
  {
   "cell_type": "code",
   "execution_count": 28,
   "id": "e6c686ba",
   "metadata": {},
   "outputs": [
    {
     "data": {
      "image/png": "[encoded data removed]",
      "text/plain": [
       "<Figure size 432x288 with 1 Axes>"
      ]
     },
     "metadata": {
      "needs_background": "light"
     },
     "output_type": "display_data"
    }
   ],
   "source": [
    "plot_accuracy(history_model_bow_underfit.history['accuracy'], history_model_bow_underfit.history['val_accuracy'])"
   ]
  },
  {
   "cell_type": "code",
   "execution_count": 29,
   "id": "360d4a1c",
   "metadata": {},
   "outputs": [
    {
     "name": "stdout",
     "output_type": "stream",
     "text": [
      "115/115 [==============================] - 0s 4ms/step - loss: 0.6885 - accuracy: 0.1781\n"
     ]
    }
   ],
   "source": [
    "test_loss, test_acc = model_bow_underfit.evaluate(X_val, y_val)"
   ]
  },
  {
   "cell_type": "markdown",
   "id": "be9029dd",
   "metadata": {},
   "source": [
    "### Overfit Model\n",
    "After developing a model that is able to do better than the baseline, we need to develop a model that overfits. As the aim of this project is to create a model that stands on the line between overfitting and underfitting, we now need to cross the line to develop a model that overfits.\n",
    "\n",
    "Here, we would be making the model bigger or increasing the training until the model's performance on the validation data starts degrading. This is when overfitting has been achieved."
   ]
  },
  {
   "cell_type": "code",
   "execution_count": 30,
   "id": "38bec345",
   "metadata": {},
   "outputs": [
    {
     "name": "stdout",
     "output_type": "stream",
     "text": [
      "Model: \"model_1\"\n",
      "_________________________________________________________________\n",
      " Layer (type)                Output Shape              Param #   \n",
      "=================================================================\n",
      " input_2 (InputLayer)        [(None, 20163)]           0         \n",
      "                                                                 \n",
      " dense_2 (Dense)             (None, 6)                 120984    \n",
      "                                                                 \n",
      " dense_3 (Dense)             (None, 6)                 42        \n",
      "                                                                 \n",
      "=================================================================\n",
      "Total params: 121,026\n",
      "Trainable params: 121,026\n",
      "Non-trainable params: 0\n",
      "_________________________________________________________________\n"
     ]
    }
   ],
   "source": [
    "input_tensor = Input(shape=X_train.shape[1:])\n",
    "x = layers.Dense(6, activation='relu')(input_tensor)\n",
    "output_tensor = layers.Dense(6, activation='sigmoid')(x)\n",
    "model_bow_overfit = Model(input_tensor, output_tensor)\n",
    "model_bow_overfit.summary()\n",
    "\n",
    "model_bow_overfit.compile(optimizer='adam', loss='binary_crossentropy',metrics=['accuracy'])\n",
    "history_model_bow_overfit = model_bow_overfit.fit(X_train, y_train,epochs=20,batch_size=64,validation_data = (X_val, y_val), verbose=0)"
   ]
  },
  {
   "cell_type": "code",
   "execution_count": 31,
   "id": "f53195c3",
   "metadata": {},
   "outputs": [
    {
     "data": {
      "image/png": "[encoded data removed]",
      "text/plain": [
       "<Figure size 432x288 with 1 Axes>"
      ]
     },
     "metadata": {
      "needs_background": "light"
     },
     "output_type": "display_data"
    }
   ],
   "source": [
    "plot_loss(history_model_bow_overfit.history['loss'], history_model_bow_overfit.history['val_loss'])"
   ]
  },
  {
   "cell_type": "code",
   "execution_count": 32,
   "id": "1375517e",
   "metadata": {},
   "outputs": [
    {
     "data": {
      "image/png": "[encoded data removed]",
      "text/plain": [
       "<Figure size 432x288 with 1 Axes>"
      ]
     },
     "metadata": {
      "needs_background": "light"
     },
     "output_type": "display_data"
    }
   ],
   "source": [
    "plot_accuracy(history_model_bow_overfit.history['accuracy'], history_model_bow_overfit.history['val_accuracy'])"
   ]
  },
  {
   "cell_type": "code",
   "execution_count": 33,
   "id": "0b0787f1",
   "metadata": {},
   "outputs": [
    {
     "name": "stdout",
     "output_type": "stream",
     "text": [
      "115/115 [==============================] - 0s 2ms/step - loss: 0.3496 - accuracy: 0.6664\n"
     ]
    }
   ],
   "source": [
    "test_loss, test_acc = model_bow_overfit.evaluate(X_val, y_val)"
   ]
  },
  {
   "cell_type": "markdown",
   "id": "a07207d5",
   "metadata": {},
   "source": [
    "### Good Model\n",
    "After creating a model that overfits, we need to modify the model until the line we mentioned above, is found. This can be done using various methods such as tuning the hyper-parameters.\n",
    "\n",
    "When the model is initialised, we will evaluate the network on the complete test set."
   ]
  },
  {
   "cell_type": "code",
   "execution_count": 34,
   "id": "29ad57a8",
   "metadata": {},
   "outputs": [
    {
     "name": "stdout",
     "output_type": "stream",
     "text": [
      "Model: \"model_2\"\n",
      "_________________________________________________________________\n",
      " Layer (type)                Output Shape              Param #   \n",
      "=================================================================\n",
      " input_3 (InputLayer)        [(None, 20163)]           0         \n",
      "                                                                 \n",
      " dense_4 (Dense)             (None, 64)                1290496   \n",
      "                                                                 \n",
      " dense_5 (Dense)             (None, 6)                 390       \n",
      "                                                                 \n",
      "=================================================================\n",
      "Total params: 1,290,886\n",
      "Trainable params: 1,290,886\n",
      "Non-trainable params: 0\n",
      "_________________________________________________________________\n"
     ]
    }
   ],
   "source": [
    "input_tensor = Input(shape=X_train.shape[1:])\n",
    "x = layers.Dense(64, activation='relu')(input_tensor)\n",
    "output_tensor = layers.Dense(6, activation='sigmoid')(x)\n",
    "model_bow_goodfit = Model(input_tensor, output_tensor)\n",
    "model_bow_goodfit.summary()\n",
    "\n",
    "model_bow_goodfit.compile(optimizer=tf.keras.optimizers.Adam(learning_rate=0.00001), loss='binary_crossentropy',metrics=['accuracy'])\n",
    "history_model_bow_goodfit = model_bow_goodfit.fit(X_train, y_train,epochs=20,batch_size=256,validation_data = (X_val, y_val), verbose=0)"
   ]
  },
  {
   "cell_type": "code",
   "execution_count": 35,
   "id": "42cb7f10",
   "metadata": {},
   "outputs": [
    {
     "data": {
      "image/png": "[encoded data removed]",
      "text/plain": [
       "<Figure size 432x288 with 1 Axes>"
      ]
     },
     "metadata": {
      "needs_background": "light"
     },
     "output_type": "display_data"
    }
   ],
   "source": [
    "plot_loss(history_model_bow_goodfit.history['loss'], history_model_bow_goodfit.history['val_loss'])"
   ]
  },
  {
   "cell_type": "code",
   "execution_count": 36,
   "id": "42d90475",
   "metadata": {},
   "outputs": [
    {
     "data": {
      "image/png": "[encoded data removed]",
      "text/plain": [
       "<Figure size 432x288 with 1 Axes>"
      ]
     },
     "metadata": {
      "needs_background": "light"
     },
     "output_type": "display_data"
    }
   ],
   "source": [
    "plot_accuracy(history_model_bow_goodfit.history['accuracy'], history_model_bow_goodfit.history['val_accuracy'])"
   ]
  },
  {
   "cell_type": "markdown",
   "id": "db60d0d3",
   "metadata": {},
   "source": [
    "We evaluate the good-fit model to obtain results of loss and accuracy"
   ]
  },
  {
   "cell_type": "code",
   "execution_count": 37,
   "id": "30e31463",
   "metadata": {},
   "outputs": [
    {
     "name": "stdout",
     "output_type": "stream",
     "text": [
      "115/115 [==============================] - 0s 3ms/step - loss: 0.6054 - accuracy: 0.5705\n"
     ]
    }
   ],
   "source": [
    "test_loss, test_acc = model_bow_goodfit.evaluate(X_val, y_val)"
   ]
  },
  {
   "cell_type": "markdown",
   "id": "732b94e8",
   "metadata": {},
   "source": [
    "### Running hyper tuning based on Good Model\n",
    "Although we have managed to generate a goodfit model of satisfactory standards, at 57% accuracy which is better than a naive guess of 16.6% accuracy (at best). We will attempt to achieve better accuracy, by using Hyperband from the keras library to perform automated hyper parameter tuning.\n",
    "\n",
    "Below we create a function to build our model, this helps define the hyperparameter search space and the model architecture."
   ]
  },
  {
   "cell_type": "code",
   "execution_count": 21,
   "id": "82bcf5e8",
   "metadata": {},
   "outputs": [],
   "source": [
    "def model_builder(hp):\n",
    "    hp_learning_rate = hp.Choice('learning_rate', values=[1e-2, 1e-3, 1e-4])\n",
    "    input_tensor = Input(shape=X_train.shape[1:])\n",
    "    \n",
    "    x = layers.Dense(units=hp.Choice('dense1_layer', values=[16,32,64,128,256,512]), activation = 'relu',\n",
    "                   kernel_regularizer=tf.keras.regularizers.L1(hp.Float('dense1_L1', min_value=0.00001, max_value=0.001)))(input_tensor)\n",
    "    x = layers.Dense(units=hp.Choice('dense2_layer', values=[16,32,64,128,256,512]), activation = 'relu',\n",
    "                   kernel_regularizer=tf.keras.regularizers.L1(hp.Float('dense2_L1', min_value=0.00001, max_value=0.001)))(x)\n",
    "   \n",
    "    output_tensor = layers.Dense(6, activation = 'sigmoid')(x)\n",
    "    model = Model(input_tensor, output_tensor)\n",
    "    tf.random.set_seed(37)\n",
    "    model.compile(optimizer=tf.keras.optimizers.Adam(learning_rate=hp_learning_rate),loss='binary_crossentropy', metrics=['accuracy'])\n",
    "    return model"
   ]
  },
  {
   "cell_type": "markdown",
   "id": "561da266",
   "metadata": {},
   "source": [
    "Instantiate the Hyperband tuner and perform hypertuning"
   ]
  },
  {
   "cell_type": "code",
   "execution_count": 87,
   "id": "0fde1a6a",
   "metadata": {},
   "outputs": [],
   "source": [
    "tuner = Hyperband(\n",
    "    hypermodel=model_builder,\n",
    "    max_epochs=10,\n",
    "    objective='val_accuracy',\n",
    "    factor=3,\n",
    "    directory='bow_models/',\n",
    "    project_name='bow'\n",
    ")"
   ]
  },
  {
   "cell_type": "code",
   "execution_count": 88,
   "id": "18466467",
   "metadata": {},
   "outputs": [
    {
     "name": "stdout",
     "output_type": "stream",
     "text": [
      "Search space summary\n",
      "Default search space size: 5\n",
      "learning_rate (Choice)\n",
      "{'default': 0.01, 'conditions': [], 'values': [0.01, 0.001, 0.0001], 'ordered': True}\n",
      "dense1_layer (Choice)\n",
      "{'default': 16, 'conditions': [], 'values': [16, 32, 64, 128, 256, 512], 'ordered': True}\n",
      "dense1_L1 (Float)\n",
      "{'default': 1e-05, 'conditions': [], 'min_value': 1e-05, 'max_value': 0.001, 'step': None, 'sampling': None}\n",
      "dense2_layer (Choice)\n",
      "{'default': 16, 'conditions': [], 'values': [16, 32, 64, 128, 256, 512], 'ordered': True}\n",
      "dense2_L1 (Float)\n",
      "{'default': 1e-05, 'conditions': [], 'min_value': 1e-05, 'max_value': 0.001, 'step': None, 'sampling': None}\n"
     ]
    }
   ],
   "source": [
    "tuner.search_space_summary()"
   ]
  },
  {
   "cell_type": "markdown",
   "id": "52e48712",
   "metadata": {},
   "source": [
    "We use a callback called EarlyStopping to stop the training when validation loss has reached a certain value, or when no improvements are made for 5 epochs."
   ]
  },
  {
   "cell_type": "code",
   "execution_count": 89,
   "id": "c066a97a",
   "metadata": {
    "scrolled": true
   },
   "outputs": [
    {
     "name": "stdout",
     "output_type": "stream",
     "text": [
      "Trial 30 Complete [00h 01m 40s]\n",
      "val_accuracy: 0.6185792088508606\n",
      "\n",
      "Best val_accuracy So Far: 0.7016393542289734\n",
      "Total elapsed time: 00h 24m 54s\n",
      "INFO:tensorflow:Oracle triggered exit\n"
     ]
    }
   ],
   "source": [
    "tuner.search(X_train, y_train, epochs = 30, validation_data = (X_val,y_val), batch_size= 128, callbacks = [EarlyStopping(monitor='val_loss', patience=5)])"
   ]
  },
  {
   "cell_type": "code",
   "execution_count": 90,
   "id": "2ea927dd",
   "metadata": {},
   "outputs": [
    {
     "name": "stdout",
     "output_type": "stream",
     "text": [
      "{'learning_rate': 0.01, 'dense1_layer': 64, 'dense1_L1': 9.256972738859784e-05, 'dense2_layer': 256, 'dense2_L1': 8.084121981402795e-05, 'tuner/epochs': 10, 'tuner/initial_epoch': 4, 'tuner/bracket': 2, 'tuner/round': 2, 'tuner/trial_id': '0012'}\n"
     ]
    }
   ],
   "source": [
    "best_hps=tuner.get_best_hyperparameters()[0]\n",
    "print(best_hps.values)"
   ]
  },
  {
   "cell_type": "markdown",
   "id": "36465695",
   "metadata": {},
   "source": [
    "Build the model with the optimal hyper-parameters and obtain the optimal number of epochs to train the model."
   ]
  },
  {
   "cell_type": "code",
   "execution_count": 91,
   "id": "0b9f7243",
   "metadata": {},
   "outputs": [
    {
     "name": "stdout",
     "output_type": "stream",
     "text": [
      "Best epoch: 13\n"
     ]
    }
   ],
   "source": [
    "best_model_tuner = tuner.hypermodel.build(best_hps)\n",
    "histry_best_tunder =best_model_tuner.fit(X_train, y_train, epochs=30, validation_data=(X_val,y_val), batch_size= 128, verbose=0)\n",
    "tf.random.set_seed(37)\n",
    "val_acc_per_epoch = histry_best_tunder.history['val_accuracy']\n",
    "best_epoch = val_acc_per_epoch.index(max(val_acc_per_epoch)) + 1\n",
    "print('Best epoch: %d' % (best_epoch,))"
   ]
  },
  {
   "cell_type": "markdown",
   "id": "a65a7057",
   "metadata": {},
   "source": [
    "We retrain the hyper-tuned model using the best epochs and evaluate to obtain the loss and accuracy results."
   ]
  },
  {
   "cell_type": "code",
   "execution_count": 93,
   "id": "371b7d67",
   "metadata": {},
   "outputs": [],
   "source": [
    "hypermodel = tuner.hypermodel.build(best_hps)\n",
    "# Retrain the model\n",
    "history = hypermodel.fit(X_train, y_train, epochs=best_epoch, validation_data=(X_val,y_val), batch_size= 128, verbose=0)"
   ]
  },
  {
   "cell_type": "code",
   "execution_count": 94,
   "id": "9e7e1414",
   "metadata": {},
   "outputs": [
    {
     "name": "stdout",
     "output_type": "stream",
     "text": [
      "114/114 [==============================] - 1s 4ms/step - loss: 0.4862 - accuracy: 0.6918\n",
      "[test loss, test accuracy]: [0.4862273931503296, 0.6917582154273987]\n"
     ]
    }
   ],
   "source": [
    "eval_result = hypermodel.evaluate(X_test, y_test)\n",
    "print(\"[test loss, test accuracy]:\", eval_result)"
   ]
  },
  {
   "cell_type": "markdown",
   "id": "62e85b81",
   "metadata": {},
   "source": [
    "### Training models on full train data\n",
    "Now that we have the final models/networks, we will perform the training on the complete training set instead of the partial training set. Hence, we have concatenated both the training and validation text and labels below. In addition, the evaluation function generates a table to compare the metrics of the manually tuned model and the hyper-tuned model by keras Hyperband."
   ]
  },
  {
   "cell_type": "code",
   "execution_count": 109,
   "id": "5aaeb183",
   "metadata": {},
   "outputs": [],
   "source": [
    "summary_table = PrettyTable([\"Loss\",\"Accuracy\",\"Precision\",\"Recall\",\"F1\",\"Cohen Kappa\",\"Model\"])\n",
    "\n",
    "def evaluation (x_test, y_test,x_val, y_val,model,model_name):\n",
    "    test_loss, test_acc = model.evaluate(x_val, y_val)\n",
    "    \n",
    "    y_pred = model.predict(x_test)\n",
    "    Y_test=y_test.values.argmax(axis=1)\n",
    "    Y_pred = np.argmax(y_pred,axis=1)\n",
    "\n",
    "    cm = confusion_matrix(Y_test, Y_pred)\n",
    "    p = precision_score(Y_test, Y_pred, average='weighted')\n",
    "    r = recall_score(Y_test, Y_pred, average='weighted')\n",
    "    f = f1_score(Y_test,Y_pred, average='weighted')\n",
    "    ck = cohen_kappa_score(Y_test, Y_pred)\n",
    "    \n",
    "    values = [test_loss,test_acc,p,r,f,ck]\n",
    "    rounded_row = [round(elem, 3) for elem in values]\n",
    "    rounded_row.append(model_name)\n",
    "    \n",
    "    summary_table.add_row(rounded_row)"
   ]
  },
  {
   "cell_type": "markdown",
   "id": "0ab4a299",
   "metadata": {},
   "source": [
    "### Manually-tuned model"
   ]
  },
  {
   "cell_type": "code",
   "execution_count": 110,
   "id": "7f571abd",
   "metadata": {},
   "outputs": [
    {
     "name": "stdout",
     "output_type": "stream",
     "text": [
      "Model: \"model_7\"\n",
      "_________________________________________________________________\n",
      " Layer (type)                Output Shape              Param #   \n",
      "=================================================================\n",
      " input_8 (InputLayer)        [(None, 20163)]           0         \n",
      "                                                                 \n",
      " dense_19 (Dense)            (None, 64)                1290496   \n",
      "                                                                 \n",
      " dense_20 (Dense)            (None, 6)                 390       \n",
      "                                                                 \n",
      "=================================================================\n",
      "Total params: 1,290,886\n",
      "Trainable params: 1,290,886\n",
      "Non-trainable params: 0\n",
      "_________________________________________________________________\n"
     ]
    }
   ],
   "source": [
    "input_tensor = Input(shape=X_train.shape[1:])\n",
    "x = layers.Dense(64, activation='relu')(input_tensor)\n",
    "output_tensor = layers.Dense(6, activation='sigmoid')(x)\n",
    "model_bow_goodfit = Model(input_tensor, output_tensor)\n",
    "model_bow_goodfit.summary()\n",
    "\n",
    "model_bow_goodfit.compile(optimizer=tf.keras.optimizers.Adam(learning_rate=0.00001), loss='binary_crossentropy',metrics=['accuracy'])"
   ]
  },
  {
   "cell_type": "code",
   "execution_count": 111,
   "id": "bc596766",
   "metadata": {},
   "outputs": [
    {
     "name": "stdout",
     "output_type": "stream",
     "text": [
      "115/115 [==============================] - 1s 6ms/step - loss: 0.5649 - accuracy: 0.5653\n",
      "114/114 [==============================] - 1s 6ms/step\n"
     ]
    },
    {
     "name": "stderr",
     "output_type": "stream",
     "text": [
      "/Users/jolynngkaiying/opt/anaconda3/lib/python3.9/site-packages/sklearn/metrics/_classification.py:1318: UndefinedMetricWarning: Precision is ill-defined and being set to 0.0 in labels with no predicted samples. Use `zero_division` parameter to control this behavior.\n",
      "  _warn_prf(average, modifier, msg_start, len(result))\n"
     ]
    }
   ],
   "source": [
    "#training on full dataset\n",
    "final_fit = model_bow_goodfit.fit(np.concatenate([X_train,X_val]),np.concatenate([y_train,y_val]), epochs=20, batch_size=256, verbose=0)\n",
    "evaluation (X_test, y_test,X_val, y_val,model_bow_goodfit,'manual-tuned model')"
   ]
  },
  {
   "cell_type": "markdown",
   "id": "44033108",
   "metadata": {},
   "source": [
    "### Hyper-tuned Model (Automated HyperBand)"
   ]
  },
  {
   "cell_type": "code",
   "execution_count": 112,
   "id": "98f2b96c",
   "metadata": {},
   "outputs": [
    {
     "name": "stdout",
     "output_type": "stream",
     "text": [
      "Model: \"model_8\"\n",
      "_________________________________________________________________\n",
      " Layer (type)                Output Shape              Param #   \n",
      "=================================================================\n",
      " input_9 (InputLayer)        [(None, 20163)]           0         \n",
      "                                                                 \n",
      " dense_21 (Dense)            (None, 64)                1290496   \n",
      "                                                                 \n",
      " dense_22 (Dense)            (None, 256)               16640     \n",
      "                                                                 \n",
      " dense_23 (Dense)            (None, 6)                 1542      \n",
      "                                                                 \n",
      "=================================================================\n",
      "Total params: 1,308,678\n",
      "Trainable params: 1,308,678\n",
      "Non-trainable params: 0\n",
      "_________________________________________________________________\n"
     ]
    }
   ],
   "source": [
    "hypermodel = tuner.hypermodel.build(best_hps)\n",
    "hypermodel.summary()"
   ]
  },
  {
   "cell_type": "code",
   "execution_count": 113,
   "id": "351b0f3d",
   "metadata": {},
   "outputs": [
    {
     "name": "stdout",
     "output_type": "stream",
     "text": [
      "115/115 [==============================] - 1s 5ms/step - loss: 0.4658 - accuracy: 0.7454\n",
      "114/114 [==============================] - 1s 4ms/step\n"
     ]
    }
   ],
   "source": [
    "#training on full dataset\n",
    "final_fit = hypermodel.fit(np.concatenate([X_train,X_val]),np.concatenate([y_train,y_val]), epochs=best_epoch, batch_size=128, verbose=0)\n",
    "evaluation (X_test, y_test,X_val, y_val,hypermodel,'hyper-tuned model')"
   ]
  },
  {
   "cell_type": "markdown",
   "id": "1f022d72",
   "metadata": {},
   "source": [
    "From the evaluation metrics below, we can say that both models are able to perform generally decent as they have higher accuracy than a naive guess of 16.6%. Comparing both models, the hyper-tuned model is able generate better metric results and will be the most suitable representation model for Bag of Words."
   ]
  },
  {
   "cell_type": "code",
   "execution_count": 114,
   "id": "de79c487",
   "metadata": {},
   "outputs": [
    {
     "name": "stdout",
     "output_type": "stream",
     "text": [
      "+-------+----------+-----------+--------+-------+-------------+--------------------+\n",
      "|  Loss | Accuracy | Precision | Recall |   F1  | Cohen Kappa |       Model        |\n",
      "+-------+----------+-----------+--------+-------+-------------+--------------------+\n",
      "| 0.565 |  0.565   |   0.296   | 0.544  | 0.383 |     0.0     | manual-tuned model |\n",
      "| 0.466 |  0.745   |   0.664   | 0.685  | 0.665 |    0.472    | hyper-tuned model  |\n",
      "+-------+----------+-----------+--------+-------+-------------+--------------------+\n"
     ]
    }
   ],
   "source": [
    "print(summary_table)"
   ]
  },
  {
   "cell_type": "markdown",
   "id": "0021c81c",
   "metadata": {},
   "source": [
    "### Iterated K-fold on Hypermodel\n",
    "\n",
    "The most common method is the Hold-out method which is the method we used above. However, this method of evaluation is highly dependent on data points in train, validation and test sets. (Rastogi, 2021) As the dataset contains a total of roughly 54,000 samples (even lower after processing) and we are performing a deep learning project, the samples can be said to be insufficient. This results in an even smaller validation and partial training sets; a small validation set would make the validation scores more sensitive to the constitution of the set which further affects the data points. \n",
    "\n",
    "Hence, K-fold cross validation would be used on the identified best deep learning model among the 4 as it reduces the sensitivity of validation of a small set and helps in attempting to perform a highly accurate model for this project (Francois C., 2018) As this hypermodel is identified to generate the best results, we would also be performing K-fold cross validation."
   ]
  },
  {
   "cell_type": "code",
   "execution_count": 130,
   "id": "adbe52fb",
   "metadata": {},
   "outputs": [
    {
     "name": "stdout",
     "output_type": "stream",
     "text": [
      "Model: \"model_11\"\n",
      "_________________________________________________________________\n",
      " Layer (type)                Output Shape              Param #   \n",
      "=================================================================\n",
      " input_12 (InputLayer)       [(None, 20163)]           0         \n",
      "                                                                 \n",
      " dense_30 (Dense)            (None, 64)                1290496   \n",
      "                                                                 \n",
      " dense_31 (Dense)            (None, 256)               16640     \n",
      "                                                                 \n",
      " dense_32 (Dense)            (None, 6)                 1542      \n",
      "                                                                 \n",
      "=================================================================\n",
      "Total params: 1,308,678\n",
      "Trainable params: 1,308,678\n",
      "Non-trainable params: 0\n",
      "_________________________________________________________________\n"
     ]
    }
   ],
   "source": [
    "hypermodel = tuner.hypermodel.build(best_hps)\n",
    "tf.random.set_seed(37)\n",
    "hypermodel.compile(optimizer=tf.keras.optimizers.Adam(learning_rate=0.01),loss='binary_crossentropy', metrics=['mae'])\n",
    "hypermodel.summary()"
   ]
  },
  {
   "cell_type": "markdown",
   "id": "1e2e2d4a",
   "metadata": {},
   "source": [
    "Functions to generate a smoother curve and plotting of val_mae graph to be used below."
   ]
  },
  {
   "cell_type": "code",
   "execution_count": 23,
   "id": "338a9851",
   "metadata": {},
   "outputs": [],
   "source": [
    "def smooth_curve(points, factor = 0.9):\n",
    "    smoothed_points = []\n",
    "    for point in points:\n",
    "        if smoothed_points:\n",
    "            previous = smoothed_points[-1]\n",
    "            smoothed_points.append(previous*factor+point*(1-factor))\n",
    "        else:\n",
    "            smoothed_points.append(point)\n",
    "    return smoothed_points\n",
    "\n",
    "def plot_mae(val_mae, num_epochs):\n",
    "    '''plot val mae on the graph'''\n",
    "    average =[np.mean([x[i] for x in val_mae]) for i in range(num_epochs)]\n",
    "    smooth_mae = smooth_curve(average)\n",
    "    \n",
    "    plt.plot(range(1, len(average) + 1), average)\n",
    "    plt.xlabel('Epochs')\n",
    "    plt.ylabel('Validation MAE')\n",
    "    plt.show()\n",
    "    \n",
    "    plt.plot(range(1,len(smooth_mae)+1), smooth_mae)\n",
    "    plt.xlabel('epochs')\n",
    "    plt.ylabel('Smooth Validation MAE')\n",
    "    plt.show()\n",
    "    print(\"Lowest MAE occurs at epoch\", np.argmin(smooth_mae))"
   ]
  },
  {
   "cell_type": "markdown",
   "id": "2ef45e56",
   "metadata": {},
   "source": [
    "As we will be doing a further split of the training set into partial training and validation sets in the iterated K-fold itself, we will combine both training and validation sets. This is because the training data will be split into K-portions of equal sizes and trained on the remaining (K-1) partitions, this process will be repeated using different validation sets K number of times. K-fold is iterated multiple times and shufflied each time before splitting it into K-portions."
   ]
  },
  {
   "cell_type": "code",
   "execution_count": 24,
   "id": "21a28760",
   "metadata": {},
   "outputs": [
    {
     "name": "stdout",
     "output_type": "stream",
     "text": [
      "(32851, 20163)\n",
      "(32851, 6)\n"
     ]
    }
   ],
   "source": [
    "X_train = np.concatenate([X_train,X_val])\n",
    "y_train = np.concatenate([y_train,y_val])\n",
    "print(X_train.shape)\n",
    "print(y_train.shape)"
   ]
  },
  {
   "cell_type": "code",
   "execution_count": 131,
   "id": "01af169f",
   "metadata": {},
   "outputs": [
    {
     "name": "stdout",
     "output_type": "stream",
     "text": [
      "processing fold 0\n",
      "processing fold 1\n",
      "processing fold 2\n",
      "processing fold 3\n",
      "processing fold 4\n",
      "processing fold 0\n",
      "processing fold 1\n",
      "processing fold 2\n",
      "processing fold 3\n",
      "processing fold 4\n",
      "processing fold 0\n",
      "processing fold 1\n",
      "processing fold 2\n",
      "processing fold 3\n",
      "processing fold 4\n",
      "processing fold 0\n",
      "processing fold 1\n",
      "processing fold 2\n",
      "processing fold 3\n",
      "processing fold 4\n"
     ]
    }
   ],
   "source": [
    "import numpy as np\n",
    "from sklearn.model_selection import StratifiedKFold\n",
    "\n",
    "K = 4\n",
    "num_val_samples = len(X_train)//K\n",
    "num_epochs = 150\n",
    "all_val_mae_1 = []\n",
    "all_val_mse_1 =[]\n",
    "\n",
    "all_mae_1 = []\n",
    "all_loss_1 = []\n",
    "all_mae_history_1 = []\n",
    "all_loss_history_1 = []\n",
    "\n",
    "N_iterations = 4\n",
    "N_folds = 5\n",
    "\n",
    "for i in range(N_iterations):\n",
    "\n",
    "    skf = StratifiedKFold(n_splits=N_folds, shuffle=True)\n",
    "    \n",
    "    # This loops is traditional K-fold cross validation\n",
    "    for j, (train_index, val_index) in enumerate(skf.split(X_train, y_train.argmax(1)), 0):\n",
    "        \n",
    "        print('processing fold', j)\n",
    "        \n",
    "        partial_train_data = X_train[train_index]\n",
    "        val_data = X_train[val_index]\n",
    "\n",
    "        partial_train_targets = y_train[train_index]\n",
    "        val_targets = y_train[val_index]\n",
    "\n",
    "        #Train the model (in silent mode, verbose=0)\n",
    "        results_1 = hypermodel.fit(partial_train_data, partial_train_targets, epochs = num_epochs, validation_data=(val_data, val_targets), batch_size = 16, verbose=0)\n",
    "        \n",
    "        #Evaluate the model on the vaidation data\n",
    "        val_mse, val_mae = hypermodel.evaluate(val_data, val_targets, verbose=0) #loss and accuracy?\n",
    "        all_val_mae_1.append(val_mae)\n",
    "        all_val_mse_1.append(val_mse)\n",
    "        \n",
    "        mae = results_1.history['mae']\n",
    "        all_mae_1.append(mae)\n",
    "        mae_history = results_1.history['val_mae']\n",
    "        all_mae_history_1.append(mae_history)\n",
    "        \n",
    "        loss = results_1.history['loss']\n",
    "        all_loss_1.append(loss)\n",
    "        loss_history = results_1.history['val_loss']\n",
    "        all_loss_history_1.append(loss_history)"
   ]
  },
  {
   "cell_type": "code",
   "execution_count": 132,
   "id": "f74f123e",
   "metadata": {},
   "outputs": [
    {
     "data": {
      "image/png": "[encoded data removed]",
      "text/plain": [
       "<Figure size 432x288 with 1 Axes>"
      ]
     },
     "metadata": {
      "needs_background": "light"
     },
     "output_type": "display_data"
    },
    {
     "data": {
      "image/png": "[encoded data removed]",
      "text/plain": [
       "<Figure size 432x288 with 1 Axes>"
      ]
     },
     "metadata": {
      "needs_background": "light"
     },
     "output_type": "display_data"
    },
    {
     "name": "stdout",
     "output_type": "stream",
     "text": [
      "Lowest MAE occurs at epoch 96\n"
     ]
    }
   ],
   "source": [
    "plot_mae(all_mae_history_1, num_epochs)"
   ]
  },
  {
   "cell_type": "markdown",
   "id": "a0081a53",
   "metadata": {},
   "source": [
    "From the graphs above, lowest MAE occurs at epoch 96. This means that around 96 epochs is optimal, we can train our full training set and evaluate the model."
   ]
  },
  {
   "cell_type": "code",
   "execution_count": 133,
   "id": "9aa8ee19",
   "metadata": {},
   "outputs": [
    {
     "name": "stdout",
     "output_type": "stream",
     "text": [
      "Model: \"model_12\"\n",
      "_________________________________________________________________\n",
      " Layer (type)                Output Shape              Param #   \n",
      "=================================================================\n",
      " input_13 (InputLayer)       [(None, 20163)]           0         \n",
      "                                                                 \n",
      " dense_33 (Dense)            (None, 64)                1290496   \n",
      "                                                                 \n",
      " dense_34 (Dense)            (None, 256)               16640     \n",
      "                                                                 \n",
      " dense_35 (Dense)            (None, 6)                 1542      \n",
      "                                                                 \n",
      "=================================================================\n",
      "Total params: 1,308,678\n",
      "Trainable params: 1,308,678\n",
      "Non-trainable params: 0\n",
      "_________________________________________________________________\n"
     ]
    }
   ],
   "source": [
    "hypermodel = tuner.hypermodel.build(best_hps)\n",
    "tf.random.set_seed(37)\n",
    "hypermodel.compile(optimizer=tf.keras.optimizers.Adam(learning_rate=0.01),loss='binary_crossentropy', metrics=['mae'])\n",
    "hypermodel.summary()"
   ]
  },
  {
   "cell_type": "code",
   "execution_count": 26,
   "id": "f2403d1c",
   "metadata": {},
   "outputs": [
    {
     "name": "stdout",
     "output_type": "stream",
     "text": [
      "processing fold 0\n",
      "processing fold 1\n",
      "processing fold 2\n",
      "processing fold 3\n",
      "processing fold 4\n",
      "processing fold 0\n",
      "processing fold 1\n",
      "processing fold 2\n",
      "processing fold 3\n",
      "processing fold 4\n",
      "processing fold 0\n",
      "processing fold 1\n",
      "processing fold 2\n",
      "processing fold 3\n",
      "processing fold 4\n",
      "processing fold 0\n",
      "processing fold 1\n",
      "processing fold 2\n",
      "processing fold 3\n",
      "processing fold 4\n"
     ]
    }
   ],
   "source": [
    "import numpy as np\n",
    "from sklearn.model_selection import StratifiedKFold\n",
    "\n",
    "K = 4\n",
    "num_val_samples = len(X_train)//K\n",
    "num_epochs = 96\n",
    "all_val_mae_2 = []\n",
    "all_val_mse_2 =[]\n",
    "\n",
    "all_mae_2 = []\n",
    "all_loss_2 = []\n",
    "all_mae_history_2 = []\n",
    "all_loss_history_2 = []\n",
    "\n",
    "N_iterations = 4\n",
    "N_folds = 5\n",
    "\n",
    "for i in range(N_iterations):\n",
    "\n",
    "    skf = StratifiedKFold(n_splits=N_folds, shuffle=True)\n",
    "    \n",
    "    # This loops is traditional K-fold cross validation\n",
    "    for j, (train_index, val_index) in enumerate(skf.split(X_train, y_train.argmax(1)), 0):\n",
    "        \n",
    "        print('processing fold', j)\n",
    "        \n",
    "        partial_train_data = X_train[train_index]\n",
    "        val_data = X_train[val_index]\n",
    "\n",
    "        partial_train_targets = y_train[train_index]\n",
    "        val_targets = y_train[val_index]\n",
    "\n",
    "        #Train the model (in silent mode, verbose=0)\n",
    "        hypermodel.fit(np.concatenate([partial_train_data,val_data]), np.concatenate([partial_train_targets,val_targets]), epochs = num_epochs, batch_size = 16, verbose=0)"
   ]
  },
  {
   "cell_type": "code",
   "execution_count": 33,
   "id": "68588acd",
   "metadata": {},
   "outputs": [
    {
     "name": "stdout",
     "output_type": "stream",
     "text": [
      "114/114 [==============================] - 1s 6ms/step - loss: 0.5106 - mae: 0.1420\n"
     ]
    }
   ],
   "source": [
    "test_loss, test_acc = hypermodel.evaluate(X_test, y_test)"
   ]
  },
  {
   "cell_type": "markdown",
   "id": "88bb3204",
   "metadata": {},
   "source": [
    "### Testing\n",
    "We can perform some testing to observe if the labels predicted are similar to the expected labels.\n",
    "- 0 - anger\n",
    "- 1 - disgust\n",
    "- 2 - fear\n",
    "- 3 - joy\n",
    "- 4 - sadness\n",
    "- 5 - surprise"
   ]
  },
  {
   "cell_type": "code",
   "execution_count": 64,
   "id": "ee8cd05d",
   "metadata": {},
   "outputs": [],
   "source": [
    "def testing_text_input(text):\n",
    "    test_text = count_vect.transform([text])\n",
    "    prob_prediction = hypermodel.predict_on_batch(test_text)\n",
    "    top_1 = np.argsort(prob_prediction[0])[-1]\n",
    "    print(top_1)"
   ]
  },
  {
   "cell_type": "code",
   "execution_count": 67,
   "id": "d7414851",
   "metadata": {},
   "outputs": [
    {
     "name": "stdout",
     "output_type": "stream",
     "text": [
      "5\n",
      "3\n",
      "0\n"
     ]
    }
   ],
   "source": [
    "testing_text_input('omg')\n",
    "testing_text_input('love you')\n",
    "testing_text_input('hate you so much')"
   ]
  },
  {
   "cell_type": "markdown",
   "id": "ac68d1b5",
   "metadata": {},
   "source": [
    "### Comparing against Hold-out validation\n",
    "Next, in order to ensure that that iterated K-fold is effective, we will perform a comparison between the use of hold-out and iterated K-fold using MAE metric."
   ]
  },
  {
   "cell_type": "code",
   "execution_count": 32,
   "id": "e0381eb0",
   "metadata": {},
   "outputs": [
    {
     "name": "stdout",
     "output_type": "stream",
     "text": [
      "Model: \"model_5\"\n",
      "_________________________________________________________________\n",
      " Layer (type)                Output Shape              Param #   \n",
      "=================================================================\n",
      " input_6 (InputLayer)        [(None, 20163)]           0         \n",
      "                                                                 \n",
      " dense_15 (Dense)            (None, 64)                1290496   \n",
      "                                                                 \n",
      " dense_16 (Dense)            (None, 256)               16640     \n",
      "                                                                 \n",
      " dense_17 (Dense)            (None, 6)                 1542      \n",
      "                                                                 \n",
      "=================================================================\n",
      "Total params: 1,308,678\n",
      "Trainable params: 1,308,678\n",
      "Non-trainable params: 0\n",
      "_________________________________________________________________\n"
     ]
    }
   ],
   "source": [
    "hypermodel = tuner.hypermodel.build(best_hps)\n",
    "tf.random.set_seed(37)\n",
    "hypermodel.compile(optimizer=tf.keras.optimizers.Adam(learning_rate=0.01),loss='binary_crossentropy', metrics=['mae'])\n",
    "hypermodel.summary()\n",
    "\n",
    "#training - fit to input data\n",
    "final_fit = hypermodel.fit(np.concatenate([X_train,X_val]),np.concatenate([y_train,y_val]), epochs=best_epoch, batch_size=128, verbose=0)"
   ]
  },
  {
   "cell_type": "code",
   "execution_count": 27,
   "id": "4cad9353",
   "metadata": {},
   "outputs": [
    {
     "name": "stdout",
     "output_type": "stream",
     "text": [
      "114/114 [==============================] - 1s 4ms/step - loss: 0.5314 - mae: 0.1535\n"
     ]
    }
   ],
   "source": [
    "test_loss, test_acc = hypermodel.evaluate(X_test, y_test)"
   ]
  },
  {
   "cell_type": "markdown",
   "id": "ca337048",
   "metadata": {},
   "source": [
    "### Analysis\n",
    "From the evaluations performed above, we can say that iterated K-fold is more effective as seen from the results where it generated lower loss and mae compared to hold-out validation. Hence, the hypermodel used together with iterated k-fold would be our best model and evaluation protocol."
   ]
  }
 ],
 "metadata": {
  "kernelspec": {
   "display_name": "Python 3 (ipykernel)",
   "language": "python",
   "name": "python3"
  },
  "language_info": {
   "codemirror_mode": {
    "name": "ipython",
    "version": 3
   },
   "file_extension": ".py",
   "mimetype": "text/x-python",
   "name": "python",
   "nbconvert_exporter": "python",
   "pygments_lexer": "ipython3",
   "version": "3.9.12"
  }
 },
 "nbformat": 4,
 "nbformat_minor": 5
}
