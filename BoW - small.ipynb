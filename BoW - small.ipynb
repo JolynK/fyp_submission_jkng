{
 "cells": [
  {
   "cell_type": "markdown",
   "id": "9c381f7a",
   "metadata": {},
   "source": [
    "# Bag of Words (MLP Model)"
   ]
  },
  {
   "cell_type": "code",
   "execution_count": 245,
   "id": "18c75c03",
   "metadata": {},
   "outputs": [
    {
     "name": "stdout",
     "output_type": "stream",
     "text": [
      "Requirement already satisfied: scikit-multilearn in c:\\users\\reipotato\\anaconda3\\lib\\site-packages (0.2.0)Note: you may need to restart the kernel to use updated packages.\n",
      "\n"
     ]
    }
   ],
   "source": [
    "pip install scikit-multilearn"
   ]
  },
  {
   "cell_type": "code",
   "execution_count": 246,
   "id": "be0198bc",
   "metadata": {},
   "outputs": [
    {
     "name": "stdout",
     "output_type": "stream",
     "text": [
      "Requirement already satisfied: gensim in c:\\users\\reipotato\\anaconda3\\lib\\site-packages (3.8.3)\n",
      "Requirement already satisfied: scipy>=0.18.1 in c:\\users\\reipotato\\anaconda3\\lib\\site-packages (from gensim) (1.7.1)\n",
      "Requirement already satisfied: numpy>=1.11.3 in c:\\users\\reipotato\\anaconda3\\lib\\site-packages (from gensim) (1.22.2)\n",
      "Requirement already satisfied: smart-open>=1.8.1 in c:\\users\\reipotato\\anaconda3\\lib\\site-packages (from gensim) (6.0.0)\n",
      "Requirement already satisfied: Cython==0.29.14 in c:\\users\\reipotato\\anaconda3\\lib\\site-packages (from gensim) (0.29.14)\n",
      "Requirement already satisfied: six>=1.5.0 in c:\\users\\reipotato\\anaconda3\\lib\\site-packages (from gensim) (1.16.0)\n",
      "Note: you may need to restart the kernel to use updated packages.\n"
     ]
    }
   ],
   "source": [
    "pip install gensim"
   ]
  },
  {
   "cell_type": "code",
   "execution_count": 247,
   "id": "1040f967",
   "metadata": {},
   "outputs": [
    {
     "name": "stdout",
     "output_type": "stream",
     "text": [
      "Requirement already satisfied: emoji in c:\\users\\reipotato\\anaconda3\\lib\\site-packages (1.7.0)\n",
      "Note: you may need to restart the kernel to use updated packages.\n"
     ]
    }
   ],
   "source": [
    "pip install emoji"
   ]
  },
  {
   "cell_type": "code",
   "execution_count": 248,
   "id": "852877f6",
   "metadata": {},
   "outputs": [],
   "source": [
    "#required libraries imported to run project\n",
    "import nltk\n",
    "import numpy as np\n",
    "import pandas as pd\n",
    "import plotly.graph_objects as go\n",
    "import emoji\n",
    "import re\n",
    "import nltk\n",
    "import seaborn as sns\n",
    "import skmultilearn\n",
    "from keras_tuner.tuners import Hyperband\n",
    "from keras.models import Sequential, Model\n",
    "from keras import layers\n",
    "from keras import Input\n",
    "from sklearn.pipeline import Pipeline\n",
    "from bs4 import BeautifulSoup\n",
    "from nltk.corpus import stopwords\n",
    "from matplotlib import pyplot as plt\n",
    "from nltk.stem import WordNetLemmatizer\n",
    "from sklearn.multioutput import MultiOutputClassifier\n",
    "from keras.callbacks import EarlyStopping, ModelCheckpoint\n",
    "from sklearn.multiclass import OneVsRestClassifier\n",
    "from skmultilearn.problem_transform import BinaryRelevance\n",
    "from sklearn.feature_extraction.text import CountVectorizer\n",
    "from sklearn.model_selection import train_test_split\n",
    "from sklearn.feature_extraction import text\n",
    "from sklearn.linear_model import LogisticRegression\n",
    "from gensim.models import Word2Vec\n",
    "from sklearn.decomposition import PCA\n",
    "from tensorflow.keras.models import Sequential\n",
    "import tensorflow as tf\n",
    "from tensorflow.keras.optimizers import Adam\n",
    "from prettytable import PrettyTable\n",
    "from sklearn.metrics import confusion_matrix, precision_score, recall_score, f1_score, cohen_kappa_score\n",
    "from tensorflow.keras.layers import Embedding, Dense\n",
    "from tensorflow.keras import regularizers\n",
    "from sklearn.metrics import classification_report,confusion_matrix,balanced_accuracy_score,cohen_kappa_score,roc_auc_score"
   ]
  },
  {
   "cell_type": "code",
   "execution_count": 249,
   "id": "2bf36d1b",
   "metadata": {},
   "outputs": [
    {
     "name": "stderr",
     "output_type": "stream",
     "text": [
      "[nltk_data] Downloading package stopwords to\n",
      "[nltk_data]     C:\\Users\\ReiPotato\\AppData\\Roaming\\nltk_data...\n",
      "[nltk_data]   Package stopwords is already up-to-date!\n",
      "[nltk_data] Downloading package wordnet to\n",
      "[nltk_data]     C:\\Users\\ReiPotato\\AppData\\Roaming\\nltk_data...\n",
      "[nltk_data]   Package wordnet is already up-to-date!\n",
      "[nltk_data] Downloading package punkt to\n",
      "[nltk_data]     C:\\Users\\ReiPotato\\AppData\\Roaming\\nltk_data...\n",
      "[nltk_data]   Package punkt is already up-to-date!\n",
      "[nltk_data] Downloading package omw-1.4 to\n",
      "[nltk_data]     C:\\Users\\ReiPotato\\AppData\\Roaming\\nltk_data...\n",
      "[nltk_data]   Package omw-1.4 is already up-to-date!\n"
     ]
    },
    {
     "data": {
      "text/plain": [
       "True"
      ]
     },
     "execution_count": 249,
     "metadata": {},
     "output_type": "execute_result"
    }
   ],
   "source": [
    "nltk.download('stopwords')\n",
    "nltk.download('wordnet')\n",
    "nltk.download('punkt')\n",
    "nltk.download('omw-1.4')"
   ]
  },
  {
   "cell_type": "code",
   "execution_count": 250,
   "id": "d1053dff",
   "metadata": {},
   "outputs": [],
   "source": [
    "# A list of contractions from http://stackoverflow.com/questions/19790188/expanding-english-language-contractions-in-python\n",
    "contractions_map = { \n",
    "\"ain't\": \"am not\",\n",
    "\"aren't\": \"are not\",\n",
    "\"can't\": \"cannot\",\n",
    "\"can't've\": \"cannot have\",\n",
    "\"'cause\": \"because\",\n",
    "\"could've\": \"could have\",\n",
    "\"couldn't\": \"could not\",\n",
    "\"couldn't've\": \"could not have\",\n",
    "\"didn't\": \"did not\",\n",
    "\"doesn't\": \"does not\",\n",
    "\"don't\": \"do not\",\n",
    "\"hadn't\": \"had not\",\n",
    "\"hadn't've\": \"had not have\",\n",
    "\"hasn't\": \"has not\",\n",
    "\"haven't\": \"have not\",\n",
    "\"he'd\": \"he would\",\n",
    "\"he'd've\": \"he would have\",\n",
    "\"he'll\": \"he will\",\n",
    "\"he's\": \"he is\",\n",
    "\"how'd\": \"how did\",\n",
    "\"how'll\": \"how will\",\n",
    "\"how's\": \"how is\",\n",
    "\"i'd\": \"i would\",\n",
    "\"i'll\": \"i will\",\n",
    "\"i'm\": \"i am\",\n",
    "\"i've\": \"i have\",\n",
    "\"isn't\": \"is not\",\n",
    "\"it'd\": \"it would\",\n",
    "\"it'll\": \"it will\",\n",
    "\"it's\": \"it is\",\n",
    "\"let's\": \"let us\",\n",
    "\"ma'am\": \"madam\",\n",
    "\"mayn't\": \"may not\",\n",
    "\"might've\": \"might have\",\n",
    "\"mightn't\": \"might not\",\n",
    "\"must've\": \"must have\",\n",
    "\"mustn't\": \"must not\",\n",
    "\"needn't\": \"need not\",\n",
    "\"oughtn't\": \"ought not\",\n",
    "\"shan't\": \"shall not\",\n",
    "\"sha'n't\": \"shall not\",\n",
    "\"she'd\": \"she would\",\n",
    "\"she'll\": \"she will\",\n",
    "\"she's\": \"she is\",\n",
    "\"should've\": \"should have\",\n",
    "\"shouldn't\": \"should not\",\n",
    "\"that'd\": \"that would\",\n",
    "\"that's\": \"that is\",\n",
    "\"there'd\": \"there had\",\n",
    "\"there's\": \"there is\",\n",
    "\"they'd\": \"they would\",\n",
    "\"they'll\": \"they will\",\n",
    "\"they're\": \"they are\",\n",
    "\"they've\": \"they have\",\n",
    "\"wasn't\": \"was not\",\n",
    "\"we'd\": \"we would\",\n",
    "\"we'll\": \"we will\",\n",
    "\"we're\": \"we are\",\n",
    "\"we've\": \"we have\",\n",
    "\"weren't\": \"were not\",\n",
    "\"what'll\": \"what will\",\n",
    "\"what're\": \"what are\",\n",
    "\"what's\": \"what is\",\n",
    "\"what've\": \"what have\",\n",
    "\"where'd\": \"where did\",\n",
    "\"where's\": \"where is\",\n",
    "\"who'll\": \"who will\",\n",
    "\"who's\": \"who is\",\n",
    "\"won't\": \"will not\",\n",
    "\"wouldn't\": \"would not\",\n",
    "\"you'd\": \"you would\",\n",
    "\"you'll\": \"you will\",\n",
    "\"you're\": \"you are\"\n",
    "}"
   ]
  },
  {
   "cell_type": "code",
   "execution_count": 251,
   "id": "94c8625a",
   "metadata": {},
   "outputs": [],
   "source": [
    "def contractions(text, mapping):\n",
    "    '''Clean contraction using contraction mapping'''    \n",
    "    specials = [\"’\", \"‘\", \"´\", \"`\"]\n",
    "    for s in specials:\n",
    "        text = text.replace(s, \"'\")\n",
    "    for word in mapping.keys():\n",
    "        if \"\"+word+\"\" in text:\n",
    "            text = text.replace(\"\"+word+\"\", \"\"+mapping[word]+\"\")\n",
    "\n",
    "    return text\n",
    "\n",
    "def clean_text(text, remove_stopwords=True):\n",
    "    text = emoji.demojize(text)\n",
    "    text = text.lower()\n",
    "\n",
    "    template = re.compile(r'https?://\\S+|www\\.\\S+') #Removes website links\n",
    "    text = template.sub(r'', text)\n",
    "    text = contractions(text, contractions_map)\n",
    "    \n",
    "    soup = BeautifulSoup(text, 'lxml') #Removes HTML tags\n",
    "    only_text = soup.get_text()\n",
    "    text = only_text\n",
    "    text = re.sub(r'\\<a href', ' ', text)\n",
    "    text = re.sub(r\"[^a-zA-Z\\d]\", \" \", text) #Remove special Charecters\n",
    "    text = re.sub(r'&amp;', '', text) \n",
    "    text = re.sub(' +', ' ', text) #Remove Extra Spaces\n",
    "    text = text.strip() # remove spaces at the beginning and at the end of string \n",
    "\n",
    "    \n",
    "    # remove stopwords\n",
    "    if remove_stopwords:\n",
    "        text = text.split()\n",
    "        stops = set(stopwords.words(\"english\"))\n",
    "        text = [w for w in text if not w in stops]\n",
    "        text = \" \".join(text)\n",
    "\n",
    "    # Tokenize each word\n",
    "    text =  nltk.WordPunctTokenizer().tokenize(text)\n",
    "    \n",
    "    # Lemmatize each token\n",
    "    lemm = nltk.stem.WordNetLemmatizer()\n",
    "    text = list(map(lambda word:list(map(lemm.lemmatize, word)), text))\n",
    "    words = [*map(''.join, text)]\n",
    "    full_test = [*map(''.join, words)]\n",
    "    return full_test"
   ]
  },
  {
   "cell_type": "code",
   "execution_count": 252,
   "id": "9a758709",
   "metadata": {},
   "outputs": [],
   "source": [
    "train_df = pd.read_csv(\"dataset/train.tsv\",sep='\\t')\n",
    "val_df = pd.read_csv(\"dataset/dev.tsv\",sep='\\t')\n",
    "test_df = pd.read_csv(\"dataset/test.tsv\",sep='\\t')"
   ]
  },
  {
   "cell_type": "code",
   "execution_count": 253,
   "id": "d881584e",
   "metadata": {},
   "outputs": [],
   "source": [
    "train_df['List of classes'] = train_df['emotion'].apply(lambda x: x.split(','))\n",
    "val_df['List of classes'] = val_df['emotion'].apply(lambda x: x.split(','))\n",
    "test_df['List of classes'] = test_df['emotion'].apply(lambda x: x.split(','))"
   ]
  },
  {
   "cell_type": "code",
   "execution_count": 254,
   "id": "94f89f65",
   "metadata": {},
   "outputs": [],
   "source": [
    "import json\n",
    "with open('dataset/ekman_mapping.json') as file:\n",
    "    ekman_mapping = json.load(file)"
   ]
  },
  {
   "cell_type": "code",
   "execution_count": 255,
   "id": "31f8cdec",
   "metadata": {},
   "outputs": [
    {
     "name": "stdout",
     "output_type": "stream",
     "text": [
      "['admiration', 'amusement', 'anger', 'annoyance', 'approval', 'caring', 'confusion', 'curiosity', 'desire', 'disappointment', 'disapproval', 'disgust', 'embarrassment', 'excitement', 'fear', 'gratitude', 'grief', 'joy', 'love', 'nervousness', 'optimism', 'pride', 'realization', 'relief', 'remorse', 'sadness', 'surprise', 'neutral']\n"
     ]
    }
   ],
   "source": [
    "emotion_file = open(\"dataset/emotions.txt\", \"r\")\n",
    "emotion_list = emotion_file.read()\n",
    "emotion_list = emotion_list.split(\"\\n\")\n",
    "print(emotion_list)"
   ]
  },
  {
   "cell_type": "code",
   "execution_count": 256,
   "id": "34e17fd3",
   "metadata": {},
   "outputs": [],
   "source": [
    "def idx2class(idx_list):\n",
    "    arr = []\n",
    "    for i in idx_list:\n",
    "        arr.append(emotion_list[int(i)])\n",
    "    return arr\n",
    "\n",
    "def EmotionMapping(emotion_list):\n",
    "    map_list = []\n",
    "    \n",
    "    for i in emotion_list:\n",
    "        if i in ekman_mapping['anger']:\n",
    "            map_list.append('anger')\n",
    "        if i in ekman_mapping['disgust']:\n",
    "            map_list.append('disgust')\n",
    "        if i in ekman_mapping['fear']:\n",
    "            map_list.append('fear')\n",
    "        if i in ekman_mapping['joy']:\n",
    "            map_list.append('joy')\n",
    "        if i in ekman_mapping['sadness']:\n",
    "            map_list.append('sadness')\n",
    "        if i in ekman_mapping['surprise']:\n",
    "            map_list.append('surprise')\n",
    "        if i == 'neutral':\n",
    "            map_list.append('neutral')\n",
    "            \n",
    "    return map_list\n",
    "\n",
    "\n",
    "train_df['Emotions'] = train_df['List of classes'].apply(idx2class)\n",
    "val_df['Emotions'] = val_df['List of classes'].apply(idx2class)\n",
    "test_df['Emotions'] = test_df['List of classes'].apply(idx2class)\n",
    "\n"
   ]
  },
  {
   "cell_type": "code",
   "execution_count": 257,
   "id": "0153f635",
   "metadata": {},
   "outputs": [],
   "source": [
    "train_df['Mapped Emotions'] = train_df['Emotions'].apply(EmotionMapping)\n",
    "val_df['Mapped Emotions'] = val_df['Emotions'].apply(EmotionMapping)\n",
    "test_df['Mapped Emotions'] = test_df['Emotions'].apply(EmotionMapping)"
   ]
  },
  {
   "cell_type": "code",
   "execution_count": 258,
   "id": "fe4328f0",
   "metadata": {},
   "outputs": [],
   "source": [
    "from sklearn.preprocessing import MultiLabelBinarizer\n",
    "one_hot = MultiLabelBinarizer()\n",
    "y = pd.DataFrame(one_hot.fit_transform(train_df['Mapped Emotions']), columns=one_hot.classes_)\n",
    "train_df = train_df.join(y)\n",
    "\n",
    "y = pd.DataFrame(one_hot.fit_transform(val_df['Mapped Emotions']), columns=one_hot.classes_)\n",
    "val_df = val_df.join(y)\n",
    "\n",
    "y = pd.DataFrame(one_hot.fit_transform(test_df['Mapped Emotions']), columns=one_hot.classes_)\n",
    "test_df = test_df.join(y)"
   ]
  },
  {
   "cell_type": "code",
   "execution_count": 259,
   "id": "96e69e4a",
   "metadata": {},
   "outputs": [],
   "source": [
    "#drop any columns that we will not be using\n",
    "train_df = train_df.drop(train_df[train_df.neutral == 1].index)\n",
    "train_df.drop(['neutral'], axis=1, inplace =True)\n",
    "train_df=train_df.reset_index(drop=True)\n",
    "\n",
    "val_df = val_df.drop(val_df[val_df.neutral == 1].index)\n",
    "val_df.drop(['neutral'], axis=1, inplace =True)\n",
    "val_df=val_df.reset_index(drop=True)\n",
    "\n",
    "test_df = test_df.drop(test_df[test_df.neutral == 1].index)\n",
    "test_df.drop(['neutral'], axis=1, inplace =True)\n",
    "test_df=test_df.reset_index(drop=True)"
   ]
  },
  {
   "cell_type": "code",
   "execution_count": 260,
   "id": "1ba45d8f",
   "metadata": {},
   "outputs": [],
   "source": [
    "train_df.drop(['emotion', 'id','List of classes', 'Emotions','Mapped Emotions'], axis=1, inplace=True)\n",
    "val_df.drop(['emotion', 'id','List of classes', 'Emotions','Mapped Emotions'], axis=1, inplace=True)\n",
    "test_df.drop(['emotion', 'id','List of classes', 'Emotions','Mapped Emotions'], axis=1, inplace=True)"
   ]
  },
  {
   "cell_type": "code",
   "execution_count": 261,
   "id": "26e3f2c3",
   "metadata": {},
   "outputs": [],
   "source": [
    "#generate cleaned words and text - train data\n",
    "train_df['words'] = train_df.text.apply(clean_text)\n",
    "temp=list(train_df['words'])\n",
    "train_df['filtered'] = [*map(' '.join, temp)]\n",
    "\n",
    "#generate cleaned words and text - val data\n",
    "val_df['words'] = val_df.text.apply(clean_text)\n",
    "temp=list(val_df['words'])\n",
    "val_df['filtered'] = [*map(' '.join, temp)]\n",
    "\n",
    "#generate cleaned words and text - test data\n",
    "test_df['words'] = test_df.text.apply(clean_text)\n",
    "temp=list(test_df['words'])\n",
    "test_df['filtered'] = [*map(' '.join, temp)]"
   ]
  },
  {
   "cell_type": "code",
   "execution_count": 262,
   "id": "3a231345",
   "metadata": {},
   "outputs": [],
   "source": [
    "def plot_accuracy(acc, val_acc):\n",
    "    '''plot training accuracy and validation accuracy'''\n",
    "    plt.clf() #clear any existing figures\n",
    "    epochs = range(1, len(acc)+1) #get a number of epochs\n",
    "    #assign values for each axis\n",
    "    plt.plot(epochs, acc, 'bo', label=\"Accuracy\")\n",
    "    plt.plot(epochs, val_acc, 'b', label=\"Validation accuracy\")\n",
    "    #set a title of graph and labels of each axis\n",
    "    plt.title(\"Training and validation accuracy\")\n",
    "    plt.xlabel('Epochs')\n",
    "    plt.ylabel(\"Accuracy\")\n",
    "    plt.legend()\n",
    "    plt.show()\n",
    "\n",
    "def plot_loss(loss, val_loss):\n",
    "    '''plot training loss and validation loss on the graph'''\n",
    "    plt.clf() #clear any existing figures\n",
    "    epochs = range(1, len(loss)+1) #get a number of epochs\n",
    "    #assign values for each axis\n",
    "    plt.plot(epochs, loss, 'bo', label=\"Loss\")\n",
    "    plt.plot(epochs, val_loss, 'b', label=\"validation loss\")\n",
    "    #set a title of graph and labels of each axis\n",
    "    plt.title(\"Training Loss & Validation Loss\")\n",
    "    plt.xlabel('Epochs')\n",
    "    plt.ylabel('Loss')\n",
    "    plt.legend()\n",
    "    plt.show()"
   ]
  },
  {
   "cell_type": "code",
   "execution_count": 263,
   "id": "ce2696d4",
   "metadata": {},
   "outputs": [
    {
     "name": "stdout",
     "output_type": "stream",
     "text": [
      "fm_train_text (29191, 20163)\n",
      "fm_train_labels (29191, 6)\n",
      "fm_val_text (3660, 20163)\n",
      "fm_val_labels (3660, 6)\n",
      "fm_test_text (3640, 20163)\n",
      "fm_test_labels (3640, 6)\n"
     ]
    }
   ],
   "source": [
    "print('fm_train_text', X_train.shape)\n",
    "print('fm_train_labels', y_train.shape)\n",
    "print('fm_val_text', X_val.shape)\n",
    "print('fm_val_labels', y_val.shape)\n",
    "print('fm_test_text', X_test.shape)\n",
    "print('fm_test_labels', y_test.shape)"
   ]
  },
  {
   "cell_type": "code",
   "execution_count": 264,
   "id": "f2b14cd7",
   "metadata": {},
   "outputs": [
    {
     "name": "stdout",
     "output_type": "stream",
     "text": [
      "Y train shape:  (29191, 6)\n"
     ]
    }
   ],
   "source": [
    "#emotion labels - 27 labels\n",
    "col = ['anger','disgust','fear','joy','sadness', 'surprise']\n",
    "\n",
    "y_train = train_df[col]\n",
    "y_val = val_df[col]\n",
    "y_test = test_df[col]\n",
    "\n",
    "print(\"Y train shape: \",y_train.shape)\n",
    "# print(\"Y test shape: \",y_test.shape)"
   ]
  },
  {
   "cell_type": "code",
   "execution_count": 265,
   "id": "cf4c4f9d",
   "metadata": {},
   "outputs": [],
   "source": [
    "from sklearn.feature_extraction.text import CountVectorizer\n",
    "count_vect = CountVectorizer(stop_words = \"english\")\n",
    "X_train = count_vect.fit_transform(train_df.filtered).toarray()\n",
    "X_val = count_vect.transform(val_df.filtered).toarray()\n",
    "X_test = count_vect.transform(test_df.filtered).toarray()"
   ]
  },
  {
   "cell_type": "markdown",
   "id": "91e5d966",
   "metadata": {},
   "source": [
    "# Underfit Model"
   ]
  },
  {
   "cell_type": "code",
   "execution_count": 351,
   "id": "06792687",
   "metadata": {},
   "outputs": [
    {
     "name": "stdout",
     "output_type": "stream",
     "text": [
      "Model: \"model_4\"\n",
      "_________________________________________________________________\n",
      " Layer (type)                Output Shape              Param #   \n",
      "=================================================================\n",
      " input_5 (InputLayer)        [(None, 20163)]           0         \n",
      "                                                                 \n",
      " dense_12 (Dense)            (None, 128)               2580992   \n",
      "                                                                 \n",
      " dense_13 (Dense)            (None, 6)                 774       \n",
      "                                                                 \n",
      "=================================================================\n",
      "Total params: 2,581,766\n",
      "Trainable params: 2,581,766\n",
      "Non-trainable params: 0\n",
      "_________________________________________________________________\n"
     ]
    }
   ],
   "source": [
    "input_tensor = Input(shape=X_train.shape[1:])\n",
    "x = layers.Dense(128, activation='relu')(input_tensor)\n",
    "output_tensor = layers.Dense(6, activation='sigmoid')(x)\n",
    "model_bow_underfit = Model(input_tensor, output_tensor)\n",
    "model_bow_underfit.summary()\n",
    "\n",
    "model_bow_underfit.compile(optimizer=tf.keras.optimizers.Adam(learning_rate=0.000001), loss='binary_crossentropy',metrics=['accuracy'])\n",
    "history_model_bow_underfit = model_bow_underfit.fit(X_train, y_train,epochs=5,batch_size=64,validation_data = (X_val, y_val), verbose=0)"
   ]
  },
  {
   "cell_type": "code",
   "execution_count": 352,
   "id": "b1bdb940",
   "metadata": {},
   "outputs": [
    {
     "data": {
      "image/png": "[encoded data removed]",
      "text/plain": [
       "<Figure size 432x288 with 1 Axes>"
      ]
     },
     "metadata": {
      "needs_background": "light"
     },
     "output_type": "display_data"
    }
   ],
   "source": [
    "plot_loss(history_model_bow_underfit.history['loss'], history_model_bow_underfit.history['val_loss'])"
   ]
  },
  {
   "cell_type": "code",
   "execution_count": 353,
   "id": "e6c686ba",
   "metadata": {},
   "outputs": [
    {
     "data": {
      "image/png": "[encoded data removed]",
      "text/plain": [
       "<Figure size 432x288 with 1 Axes>"
      ]
     },
     "metadata": {
      "needs_background": "light"
     },
     "output_type": "display_data"
    }
   ],
   "source": [
    "plot_accuracy(history_model_bow_underfit.history['accuracy'], history_model_bow_underfit.history['val_accuracy'])"
   ]
  },
  {
   "cell_type": "markdown",
   "id": "be9029dd",
   "metadata": {},
   "source": [
    "# Overfit Model"
   ]
  },
  {
   "cell_type": "code",
   "execution_count": 269,
   "id": "38bec345",
   "metadata": {},
   "outputs": [
    {
     "name": "stdout",
     "output_type": "stream",
     "text": [
      "Model: \"model_2\"\n",
      "_________________________________________________________________\n",
      " Layer (type)                Output Shape              Param #   \n",
      "=================================================================\n",
      " input_3 (InputLayer)        [(None, 20163)]           0         \n",
      "                                                                 \n",
      " dense_6 (Dense)             (None, 6)                 120984    \n",
      "                                                                 \n",
      " dense_7 (Dense)             (None, 6)                 42        \n",
      "                                                                 \n",
      "=================================================================\n",
      "Total params: 121,026\n",
      "Trainable params: 121,026\n",
      "Non-trainable params: 0\n",
      "_________________________________________________________________\n"
     ]
    }
   ],
   "source": [
    "input_tensor = Input(shape=X_train.shape[1:])\n",
    "x = layers.Dense(6, activation='relu')(input_tensor)\n",
    "output_tensor = layers.Dense(6, activation='sigmoid')(x)\n",
    "model_bow_overfit = Model(input_tensor, output_tensor)\n",
    "model_bow_overfit.summary()\n",
    "\n",
    "model_bow_overfit.compile(optimizer='adam', loss='binary_crossentropy',metrics=['accuracy'])\n",
    "history_model_bow_overfit = model_bow_overfit.fit(X_train, y_train,epochs=20,batch_size=64,validation_data = (X_val, y_val), verbose=0)"
   ]
  },
  {
   "cell_type": "code",
   "execution_count": 270,
   "id": "f53195c3",
   "metadata": {},
   "outputs": [
    {
     "data": {
      "image/png": "[encoded data removed]",
      "text/plain": [
       "<Figure size 432x288 with 1 Axes>"
      ]
     },
     "metadata": {
      "needs_background": "light"
     },
     "output_type": "display_data"
    }
   ],
   "source": [
    "plot_loss(history_model_bow_overfit.history['loss'], history_model_bow_overfit.history['val_loss'])"
   ]
  },
  {
   "cell_type": "code",
   "execution_count": 271,
   "id": "1375517e",
   "metadata": {},
   "outputs": [
    {
     "data": {
      "image/png": "[encoded data removed]",
      "text/plain": [
       "<Figure size 432x288 with 1 Axes>"
      ]
     },
     "metadata": {
      "needs_background": "light"
     },
     "output_type": "display_data"
    }
   ],
   "source": [
    "plot_accuracy(history_model_bow_overfit.history['accuracy'], history_model_bow_overfit.history['val_accuracy'])"
   ]
  },
  {
   "cell_type": "markdown",
   "id": "a07207d5",
   "metadata": {},
   "source": [
    "# Good Model"
   ]
  },
  {
   "cell_type": "code",
   "execution_count": 354,
   "id": "29ad57a8",
   "metadata": {},
   "outputs": [
    {
     "name": "stdout",
     "output_type": "stream",
     "text": [
      "Model: \"model_5\"\n",
      "_________________________________________________________________\n",
      " Layer (type)                Output Shape              Param #   \n",
      "=================================================================\n",
      " input_6 (InputLayer)        [(None, 20163)]           0         \n",
      "                                                                 \n",
      " dense_14 (Dense)            (None, 64)                1290496   \n",
      "                                                                 \n",
      " dense_15 (Dense)            (None, 6)                 390       \n",
      "                                                                 \n",
      "=================================================================\n",
      "Total params: 1,290,886\n",
      "Trainable params: 1,290,886\n",
      "Non-trainable params: 0\n",
      "_________________________________________________________________\n"
     ]
    }
   ],
   "source": [
    "input_tensor = Input(shape=X_train.shape[1:])\n",
    "x = layers.Dense(64, activation='relu')(input_tensor)\n",
    "output_tensor = layers.Dense(6, activation='sigmoid')(x)\n",
    "model_bow_goodfit = Model(input_tensor, output_tensor)\n",
    "model_bow_goodfit.summary()\n",
    "\n",
    "model_bow_goodfit.compile(optimizer=tf.keras.optimizers.Adam(learning_rate=0.00001), loss='binary_crossentropy',metrics=['accuracy'])\n",
    "history_model_bow_goodfit = model_bow_goodfit.fit(X_train, y_train,epochs=20,batch_size=256,validation_data = (X_val, y_val), verbose=0)\n",
    "\n",
    "# input_tensor = Input(shape=X_train.shape[1:])\n",
    "# x = layers.Dense(64, activation='relu')(input_tensor)\n",
    "# # x = layers.Dense(124, activation='relu')(x)\n",
    "# x = layers.Dense(16, activation='relu', kernel_regularizer=regularizers.l1(0.01))(x)\n",
    "# output_tensor = layers.Dense(6, activation='sigmoid')(x)\n",
    "# model_bow_goodfit = Model(input_tensor, output_tensor)\n",
    "# model_bow_goodfit.summary()\n",
    "\n",
    "# model_bow_goodfit.compile(optimizer=tf.keras.optimizers.Adam(learning_rate=0.0001), loss='binary_crossentropy',metrics=['accuracy'])\n",
    "# history_model_bow_goodfit = model_bow_goodfit.fit(X_train, y_train,epochs=20,batch_size=258,validation_data = (X_val, y_val))\n"
   ]
  },
  {
   "cell_type": "code",
   "execution_count": 355,
   "id": "42cb7f10",
   "metadata": {},
   "outputs": [
    {
     "data": {
      "image/png": "[encoded data removed]",
      "text/plain": [
       "<Figure size 432x288 with 1 Axes>"
      ]
     },
     "metadata": {
      "needs_background": "light"
     },
     "output_type": "display_data"
    }
   ],
   "source": [
    "plot_loss(history_model_bow_goodfit.history['loss'], history_model_bow_goodfit.history['val_loss'])"
   ]
  },
  {
   "cell_type": "code",
   "execution_count": 356,
   "id": "42d90475",
   "metadata": {},
   "outputs": [
    {
     "data": {
      "image/png": "[encoded data removed]",
      "text/plain": [
       "<Figure size 432x288 with 1 Axes>"
      ]
     },
     "metadata": {
      "needs_background": "light"
     },
     "output_type": "display_data"
    }
   ],
   "source": [
    "plot_accuracy(history_model_bow_goodfit.history['accuracy'], history_model_bow_goodfit.history['val_accuracy'])"
   ]
  },
  {
   "cell_type": "code",
   "execution_count": 357,
   "id": "30e31463",
   "metadata": {},
   "outputs": [
    {
     "name": "stdout",
     "output_type": "stream",
     "text": [
      "115/115 [==============================] - 2s 13ms/step - loss: 0.5918 - accuracy: 0.5650\n"
     ]
    }
   ],
   "source": [
    "test_loss, test_acc = model_bow_goodfit.evaluate(X_val, y_val)"
   ]
  },
  {
   "cell_type": "markdown",
   "id": "732b94e8",
   "metadata": {},
   "source": [
    "# Running hyper tuning based on Good Model\n",
    "Attempt to achieve better accuracy"
   ]
  },
  {
   "cell_type": "code",
   "execution_count": 336,
   "id": "82bcf5e8",
   "metadata": {},
   "outputs": [],
   "source": [
    "def model_builder(hp):\n",
    "    hp_learning_rate = hp.Choice('learning_rate', values=[1e-2, 1e-3, 1e-4])\n",
    "    input_tensor = Input(shape=X_train.shape[1:])\n",
    "    \n",
    "    x = layers.Dense(units=hp.Choice('dense1_layer', values=[16,32,64,128,256,512]), activation = 'relu',\n",
    "                   kernel_regularizer=tf.keras.regularizers.L1(hp.Float('dense1_L1', min_value=0.00001, max_value=0.001)))(input_tensor)\n",
    "    x = layers.Dense(units=hp.Choice('dense2_layer', values=[16,32,64,128,256,512]), activation = 'relu',\n",
    "                   kernel_regularizer=tf.keras.regularizers.L1(hp.Float('dense2_L1', min_value=0.00001, max_value=0.001)))(x)\n",
    "   \n",
    "    output_tensor = layers.Dense(6, activation = 'sigmoid')(x)\n",
    "    model = Model(input_tensor, output_tensor)\n",
    "    model.compile(optimizer=tf.keras.optimizers.Adam(learning_rate=hp_learning_rate),loss='binary_crossentropy', metrics=['accuracy'])\n",
    "    return model"
   ]
  },
  {
   "cell_type": "code",
   "execution_count": 337,
   "id": "0fde1a6a",
   "metadata": {},
   "outputs": [],
   "source": [
    "tuner = Hyperband(\n",
    "    hypermodel=model_builder,\n",
    "    max_epochs=10,\n",
    "    objective='val_accuracy',\n",
    "    factor=3,\n",
    "    directory='bow_models/',\n",
    "    project_name='bow'\n",
    ")"
   ]
  },
  {
   "cell_type": "code",
   "execution_count": 338,
   "id": "18466467",
   "metadata": {},
   "outputs": [
    {
     "name": "stdout",
     "output_type": "stream",
     "text": [
      "Search space summary\n",
      "Default search space size: 5\n",
      "learning_rate (Choice)\n",
      "{'default': 0.01, 'conditions': [], 'values': [0.01, 0.001, 0.0001], 'ordered': True}\n",
      "dense1_layer (Choice)\n",
      "{'default': 16, 'conditions': [], 'values': [16, 32, 64, 128, 256, 512], 'ordered': True}\n",
      "dense1_L1 (Float)\n",
      "{'default': 1e-05, 'conditions': [], 'min_value': 1e-05, 'max_value': 0.001, 'step': None, 'sampling': None}\n",
      "dense2_layer (Choice)\n",
      "{'default': 16, 'conditions': [], 'values': [16, 32, 64, 128, 256, 512], 'ordered': True}\n",
      "dense2_L1 (Float)\n",
      "{'default': 1e-05, 'conditions': [], 'min_value': 1e-05, 'max_value': 0.001, 'step': None, 'sampling': None}\n"
     ]
    }
   ],
   "source": [
    "tuner.search_space_summary()"
   ]
  },
  {
   "cell_type": "code",
   "execution_count": 339,
   "id": "c066a97a",
   "metadata": {
    "scrolled": true
   },
   "outputs": [
    {
     "name": "stdout",
     "output_type": "stream",
     "text": [
      "Trial 30 Complete [00h 01m 36s]\n",
      "val_accuracy: 0.6057376861572266\n",
      "\n",
      "Best val_accuracy So Far: 0.6926229596138\n",
      "Total elapsed time: 00h 14m 24s\n",
      "INFO:tensorflow:Oracle triggered exit\n"
     ]
    }
   ],
   "source": [
    "tuner.search(X_train, y_train, epochs = 30, validation_data = (X_val,y_val), batch_size= 128, callbacks = [EarlyStopping(monitor='val_loss', patience=2)])"
   ]
  },
  {
   "cell_type": "code",
   "execution_count": 362,
   "id": "255ce889",
   "metadata": {},
   "outputs": [
    {
     "name": "stdout",
     "output_type": "stream",
     "text": [
      "Best epoch: 30\n"
     ]
    }
   ],
   "source": [
    "best_model_tuner = tuner.hypermodel.build(best_hps)\n",
    "histry_best_tunder =best_model_tuner.fit(X_train, y_train, epochs=30, validation_data=(X_val,y_val), batch_size= 128, verbose=0)\n",
    "\n",
    "val_acc_per_epoch = histry_best_tunder.history['val_accuracy']\n",
    "best_epoch = val_acc_per_epoch.index(max(val_acc_per_epoch)) + 1\n",
    "print('Best epoch: %d' % (best_epoch,))"
   ]
  },
  {
   "cell_type": "code",
   "execution_count": 342,
   "id": "2999b32d",
   "metadata": {},
   "outputs": [
    {
     "name": "stdout",
     "output_type": "stream",
     "text": [
      "114/114 [==============================] - 1s 4ms/step - loss: 0.3206 - accuracy: 0.6030\n",
      "[test loss, test accuracy]: [0.3205554187297821, 0.6030219793319702]\n"
     ]
    }
   ],
   "source": [
    "eval_result = hypermodel.evaluate(X_test, y_test)\n",
    "print(\"[test loss, test accuracy]:\", eval_result)"
   ]
  },
  {
   "cell_type": "code",
   "execution_count": 343,
   "id": "bf1f4399",
   "metadata": {},
   "outputs": [
    {
     "data": {
      "image/png": "[encoded data removed]",
      "text/plain": [
       "<Figure size 432x288 with 1 Axes>"
      ]
     },
     "metadata": {
      "needs_background": "light"
     },
     "output_type": "display_data"
    }
   ],
   "source": [
    "plot_loss(best_tuned_bow_history.history['loss'], best_tuned_bow_history.history['val_loss'])"
   ]
  },
  {
   "cell_type": "code",
   "execution_count": 344,
   "id": "18e2d14e",
   "metadata": {},
   "outputs": [
    {
     "data": {
      "image/png": "[encoded data removed]",
      "text/plain": [
       "<Figure size 432x288 with 1 Axes>"
      ]
     },
     "metadata": {
      "needs_background": "light"
     },
     "output_type": "display_data"
    }
   ],
   "source": [
    "plot_accuracy(best_tuned_bow_history.history['accuracy'], best_tuned_bow_history.history['val_accuracy'])"
   ]
  },
  {
   "cell_type": "code",
   "execution_count": 325,
   "id": "1a013d2b",
   "metadata": {},
   "outputs": [
    {
     "name": "stdout",
     "output_type": "stream",
     "text": [
      "114/114 [==============================] - 1s 5ms/step - loss: 1.3060 - accuracy: 0.6478\n",
      "[test loss, test accuracy]: [1.305956244468689, 0.6478021740913391]\n"
     ]
    }
   ],
   "source": [
    "eval_result = hypermodel.evaluate(X_test, y_test)\n",
    "print(\"[test loss, test accuracy]:\", eval_result)"
   ]
  },
  {
   "cell_type": "markdown",
   "id": "62e85b81",
   "metadata": {},
   "source": [
    "# Training models on full train data"
   ]
  },
  {
   "cell_type": "code",
   "execution_count": 358,
   "id": "5aaeb183",
   "metadata": {},
   "outputs": [],
   "source": [
    "summary_table = PrettyTable([\"Loss\",\"Accuracy\",\"Precision\",\"Recall\",\"F1\",\"Cohen Kappa\",\"Model\"])\n",
    "\n",
    "def evaluation (x_test, y_test,x_val, y_val,model,model_name):\n",
    "    test_loss, test_acc = model.evaluate(x_val, y_val)\n",
    "    \n",
    "    y_pred = model.predict(x_test)\n",
    "    Y_test=y_test.values.argmax(axis=1)\n",
    "    Y_pred = np.argmax(y_pred,axis=1)\n",
    "\n",
    "    cm = confusion_matrix(Y_test, Y_pred)\n",
    "    p = precision_score(Y_test, Y_pred, average='weighted')\n",
    "    r = recall_score(Y_test, Y_pred, average='weighted')\n",
    "    f = f1_score(Y_test,Y_pred, average='weighted')\n",
    "    ck = cohen_kappa_score(Y_test, Y_pred)\n",
    "    \n",
    "    values = [test_loss,test_acc,p,r,f,ck]\n",
    "    rounded_row = [round(elem, 3) for elem in values]\n",
    "    rounded_row.append(model_name)\n",
    "    \n",
    "    summary_table.add_row(rounded_row)"
   ]
  },
  {
   "cell_type": "code",
   "execution_count": 359,
   "id": "e8be761d",
   "metadata": {},
   "outputs": [
    {
     "name": "stdout",
     "output_type": "stream",
     "text": [
      "115/115 [==============================] - 2s 14ms/step - loss: 16.5554 - accuracy: 0.6790\n"
     ]
    },
    {
     "name": "stderr",
     "output_type": "stream",
     "text": [
      "C:\\Users\\ReiPotato\\anaconda3\\lib\\site-packages\\sklearn\\metrics\\_classification.py:1334: UndefinedMetricWarning: Precision is ill-defined and being set to 0.0 in labels with no predicted samples. Use `zero_division` parameter to control this behavior.\n",
      "  _warn_prf(average, modifier, msg_start, len(result))\n"
     ]
    }
   ],
   "source": [
    "#training - fit to input data\n",
    "final_fit = model_bow_goodfit.fit(np.concatenate([X_train,X_val]),np.concatenate([y_train,y_val]), epochs=20, batch_size=256, verbose=0)\n",
    "evaluation (X_test, y_test,X_val, y_val,saved_model,'manual-tuned model')"
   ]
  },
  {
   "cell_type": "code",
   "execution_count": 360,
   "id": "d76df0f0",
   "metadata": {},
   "outputs": [
    {
     "name": "stdout",
     "output_type": "stream",
     "text": [
      "115/115 [==============================] - 2s 12ms/step - loss: 0.3135 - accuracy: 0.6243\n"
     ]
    },
    {
     "name": "stderr",
     "output_type": "stream",
     "text": [
      "C:\\Users\\ReiPotato\\anaconda3\\lib\\site-packages\\sklearn\\metrics\\_classification.py:1334: UndefinedMetricWarning: Precision is ill-defined and being set to 0.0 in labels with no predicted samples. Use `zero_division` parameter to control this behavior.\n",
      "  _warn_prf(average, modifier, msg_start, len(result))\n"
     ]
    }
   ],
   "source": [
    "#training - fit to input data\n",
    "final_fit = hypermodel.fit(np.concatenate([X_train,X_val]),np.concatenate([y_train,y_val]), epochs=best_epoch, batch_size=128, verbose=0)\n",
    "evaluation (X_test, y_test,X_val, y_val,best_model_tuner,'hyper-tuned model')"
   ]
  },
  {
   "cell_type": "code",
   "execution_count": 361,
   "id": "dece9ce8",
   "metadata": {},
   "outputs": [
    {
     "name": "stdout",
     "output_type": "stream",
     "text": [
      "+--------+----------+-----------+--------+-------+-------------+--------------------+\n",
      "|  Loss  | Accuracy | Precision | Recall |   F1  | Cohen Kappa |       Model        |\n",
      "+--------+----------+-----------+--------+-------+-------------+--------------------+\n",
      "| 16.555 |  0.679   |   0.634   | 0.653  | 0.597 |    0.373    | manual-tuned model |\n",
      "| 0.313  |  0.624   |    0.6    | 0.608  | 0.514 |    0.254    | hyper-tuned model  |\n",
      "+--------+----------+-----------+--------+-------+-------------+--------------------+\n"
     ]
    }
   ],
   "source": [
    "print(summary_table)"
   ]
  },
  {
   "cell_type": "code",
   "execution_count": 131,
   "id": "67b57f2c",
   "metadata": {},
   "outputs": [
    {
     "name": "stdout",
     "output_type": "stream",
     "text": [
      "+-------+----------+-----------+--------+-------+-------------+-------------------+\n",
      "|  Loss | Accuracy | Precision | Recall |   F1  | Cohen Kappa |       Model       |\n",
      "+-------+----------+-----------+--------+-------+-------------+-------------------+\n",
      "| 0.323 |  0.617   |   0.597   | 0.597  | 0.597 |    0.185    | hyper-tuned model |\n",
      "| 0.578 |  0.567   |   0.545   | 0.545  | 0.545 |    0.003    |   goodfit model   |\n",
      "+-------+----------+-----------+--------+-------+-------------+-------------------+\n"
     ]
    }
   ],
   "source": [
    "# print(summary_table)"
   ]
  }
 ],
 "metadata": {
  "kernelspec": {
   "display_name": "Python 3 (ipykernel)",
   "language": "python",
   "name": "python3"
  },
  "language_info": {
   "codemirror_mode": {
    "name": "ipython",
    "version": 3
   },
   "file_extension": ".py",
   "mimetype": "text/x-python",
   "name": "python",
   "nbconvert_exporter": "python",
   "pygments_lexer": "ipython3",
   "version": "3.8.12"
  }
 },
 "nbformat": 4,
 "nbformat_minor": 5
}
