{
 "cells": [
  {
   "cell_type": "markdown",
   "id": "9c381f7a",
   "metadata": {},
   "source": [
    "# Word Embedding (RNN-LSTM Model)\n",
    "Disclaimer: As the flow of the data preparation are similar to the baseline file, we will not be further explaining repeated concepts except models generated or when necessary.\n",
    "\n",
    "This file aims to generate a suitable model for word embedded features. Hence, the focus of this file is to create a model of obtainable standards for comparison among the various other models (present in other files). The comparison of the models and other classifiers will be shown and elaborated in the report itself. As mentioned in the report, the 3 tsv files will not be concatenated (and split again) to ensure a balanced training, validation and test dataset to a certain extent. This ensures more accurate and efficient machine learning techniques to obtain results."
   ]
  },
  {
   "cell_type": "code",
   "execution_count": 1,
   "id": "18c75c03",
   "metadata": {},
   "outputs": [
    {
     "name": "stdout",
     "output_type": "stream",
     "text": [
      "Requirement already satisfied: scikit-multilearn in c:\\users\\reipotato\\anaconda3\\lib\\site-packages (0.2.0)\n",
      "Note: you may need to restart the kernel to use updated packages.\n"
     ]
    }
   ],
   "source": [
    "pip install scikit-multilearn"
   ]
  },
  {
   "cell_type": "code",
   "execution_count": 2,
   "id": "be0198bc",
   "metadata": {},
   "outputs": [
    {
     "name": "stdout",
     "output_type": "stream",
     "text": [
      "Requirement already satisfied: gensim in c:\\users\\reipotato\\anaconda3\\lib\\site-packages (3.8.3)\n",
      "Requirement already satisfied: six>=1.5.0 in c:\\users\\reipotato\\anaconda3\\lib\\site-packages (from gensim) (1.16.0)\n",
      "Requirement already satisfied: scipy>=0.18.1 in c:\\users\\reipotato\\anaconda3\\lib\\site-packages (from gensim) (1.7.1)\n",
      "Requirement already satisfied: numpy>=1.11.3 in c:\\users\\reipotato\\anaconda3\\lib\\site-packages (from gensim) (1.22.2)\n",
      "Requirement already satisfied: Cython==0.29.14 in c:\\users\\reipotato\\anaconda3\\lib\\site-packages (from gensim) (0.29.14)\n",
      "Requirement already satisfied: smart-open>=1.8.1 in c:\\users\\reipotato\\anaconda3\\lib\\site-packages (from gensim) (6.0.0)\n",
      "Note: you may need to restart the kernel to use updated packages.\n"
     ]
    }
   ],
   "source": [
    "pip install gensim"
   ]
  },
  {
   "cell_type": "code",
   "execution_count": 3,
   "id": "1040f967",
   "metadata": {},
   "outputs": [
    {
     "name": "stdout",
     "output_type": "stream",
     "text": [
      "Requirement already satisfied: emoji in c:\\users\\reipotato\\anaconda3\\lib\\site-packages (1.7.0)\n",
      "Note: you may need to restart the kernel to use updated packages.\n"
     ]
    }
   ],
   "source": [
    "pip install emoji"
   ]
  },
  {
   "cell_type": "code",
   "execution_count": 4,
   "id": "852877f6",
   "metadata": {},
   "outputs": [],
   "source": [
    "#required libraries imported to run project\n",
    "import nltk\n",
    "import numpy as np\n",
    "import pandas as pd\n",
    "import plotly.graph_objects as go\n",
    "import emoji\n",
    "import re\n",
    "import json\n",
    "import nltk\n",
    "import seaborn as sns\n",
    "import skmultilearn\n",
    "from keras_tuner.tuners import Hyperband\n",
    "from keras.models import Sequential, Model\n",
    "from keras.preprocessing.text import Tokenizer\n",
    "from keras import layers\n",
    "from keras import Input\n",
    "from sklearn.preprocessing import MultiLabelBinarizer\n",
    "from sklearn.pipeline import Pipeline\n",
    "from bs4 import BeautifulSoup\n",
    "from nltk.corpus import stopwords\n",
    "from matplotlib import pyplot as plt\n",
    "from nltk.stem import WordNetLemmatizer\n",
    "from sklearn.multioutput import MultiOutputClassifier\n",
    "from keras.callbacks import EarlyStopping, ModelCheckpoint\n",
    "from sklearn.multiclass import OneVsRestClassifier\n",
    "from skmultilearn.problem_transform import BinaryRelevance\n",
    "from sklearn.feature_extraction.text import CountVectorizer\n",
    "from sklearn.model_selection import train_test_split\n",
    "from sklearn.feature_extraction import text\n",
    "from sklearn.linear_model import LogisticRegression\n",
    "from gensim.models import Word2Vec\n",
    "from keras.preprocessing.sequence import pad_sequences\n",
    "from sklearn.decomposition import PCA\n",
    "from tensorflow.keras.models import Sequential\n",
    "import tensorflow as tf\n",
    "from tensorflow.keras.optimizers import Adam\n",
    "from prettytable import PrettyTable\n",
    "from sklearn.metrics import confusion_matrix, precision_score, recall_score, f1_score, cohen_kappa_score\n",
    "from tensorflow.keras.layers import Embedding, Dense, LSTM, Conv1D\n",
    "from tensorflow.keras import regularizers\n",
    "from sklearn.metrics import classification_report,confusion_matrix,balanced_accuracy_score,cohen_kappa_score,roc_auc_score"
   ]
  },
  {
   "cell_type": "code",
   "execution_count": 5,
   "id": "2bf36d1b",
   "metadata": {},
   "outputs": [
    {
     "name": "stderr",
     "output_type": "stream",
     "text": [
      "[nltk_data] Downloading package stopwords to\n",
      "[nltk_data]     C:\\Users\\ReiPotato\\AppData\\Roaming\\nltk_data...\n",
      "[nltk_data]   Package stopwords is already up-to-date!\n",
      "[nltk_data] Downloading package wordnet to\n",
      "[nltk_data]     C:\\Users\\ReiPotato\\AppData\\Roaming\\nltk_data...\n",
      "[nltk_data]   Package wordnet is already up-to-date!\n",
      "[nltk_data] Downloading package punkt to\n",
      "[nltk_data]     C:\\Users\\ReiPotato\\AppData\\Roaming\\nltk_data...\n",
      "[nltk_data]   Package punkt is already up-to-date!\n",
      "[nltk_data] Downloading package omw-1.4 to\n",
      "[nltk_data]     C:\\Users\\ReiPotato\\AppData\\Roaming\\nltk_data...\n",
      "[nltk_data]   Package omw-1.4 is already up-to-date!\n"
     ]
    },
    {
     "data": {
      "text/plain": [
       "True"
      ]
     },
     "execution_count": 5,
     "metadata": {},
     "output_type": "execute_result"
    }
   ],
   "source": [
    "nltk.download('stopwords')\n",
    "nltk.download('wordnet')\n",
    "nltk.download('punkt')\n",
    "nltk.download('omw-1.4')"
   ]
  },
  {
   "cell_type": "code",
   "execution_count": 6,
   "id": "d1053dff",
   "metadata": {},
   "outputs": [],
   "source": [
    "# A list of contractions from http://stackoverflow.com/questions/19790188/expanding-english-language-contractions-in-python\n",
    "contractions_map = { \n",
    "\"ain't\": \"am not\",\n",
    "\"aren't\": \"are not\",\n",
    "\"can't\": \"cannot\",\n",
    "\"can't've\": \"cannot have\",\n",
    "\"'cause\": \"because\",\n",
    "\"could've\": \"could have\",\n",
    "\"couldn't\": \"could not\",\n",
    "\"couldn't've\": \"could not have\",\n",
    "\"didn't\": \"did not\",\n",
    "\"doesn't\": \"does not\",\n",
    "\"don't\": \"do not\",\n",
    "\"hadn't\": \"had not\",\n",
    "\"hadn't've\": \"had not have\",\n",
    "\"hasn't\": \"has not\",\n",
    "\"haven't\": \"have not\",\n",
    "\"he'd\": \"he would\",\n",
    "\"he'd've\": \"he would have\",\n",
    "\"he'll\": \"he will\",\n",
    "\"he's\": \"he is\",\n",
    "\"how'd\": \"how did\",\n",
    "\"how'll\": \"how will\",\n",
    "\"how's\": \"how is\",\n",
    "\"i'd\": \"i would\",\n",
    "\"i'll\": \"i will\",\n",
    "\"i'm\": \"i am\",\n",
    "\"i've\": \"i have\",\n",
    "\"isn't\": \"is not\",\n",
    "\"it'd\": \"it would\",\n",
    "\"it'll\": \"it will\",\n",
    "\"it's\": \"it is\",\n",
    "\"let's\": \"let us\",\n",
    "\"ma'am\": \"madam\",\n",
    "\"mayn't\": \"may not\",\n",
    "\"might've\": \"might have\",\n",
    "\"mightn't\": \"might not\",\n",
    "\"must've\": \"must have\",\n",
    "\"mustn't\": \"must not\",\n",
    "\"needn't\": \"need not\",\n",
    "\"oughtn't\": \"ought not\",\n",
    "\"shan't\": \"shall not\",\n",
    "\"sha'n't\": \"shall not\",\n",
    "\"she'd\": \"she would\",\n",
    "\"she'll\": \"she will\",\n",
    "\"she's\": \"she is\",\n",
    "\"should've\": \"should have\",\n",
    "\"shouldn't\": \"should not\",\n",
    "\"that'd\": \"that would\",\n",
    "\"that's\": \"that is\",\n",
    "\"there'd\": \"there had\",\n",
    "\"there's\": \"there is\",\n",
    "\"they'd\": \"they would\",\n",
    "\"they'll\": \"they will\",\n",
    "\"they're\": \"they are\",\n",
    "\"they've\": \"they have\",\n",
    "\"wasn't\": \"was not\",\n",
    "\"we'd\": \"we would\",\n",
    "\"we'll\": \"we will\",\n",
    "\"we're\": \"we are\",\n",
    "\"we've\": \"we have\",\n",
    "\"weren't\": \"were not\",\n",
    "\"what'll\": \"what will\",\n",
    "\"what're\": \"what are\",\n",
    "\"what's\": \"what is\",\n",
    "\"what've\": \"what have\",\n",
    "\"where'd\": \"where did\",\n",
    "\"where's\": \"where is\",\n",
    "\"who'll\": \"who will\",\n",
    "\"who's\": \"who is\",\n",
    "\"won't\": \"will not\",\n",
    "\"wouldn't\": \"would not\",\n",
    "\"you'd\": \"you would\",\n",
    "\"you'll\": \"you will\",\n",
    "\"you're\": \"you are\"\n",
    "}"
   ]
  },
  {
   "cell_type": "code",
   "execution_count": 7,
   "id": "94c8625a",
   "metadata": {},
   "outputs": [],
   "source": [
    "def contractions(text, mapping):\n",
    "    '''Clean contraction using contraction mapping'''    \n",
    "    specials = [\"’\", \"‘\", \"´\", \"`\"]\n",
    "    for s in specials:\n",
    "        text = text.replace(s, \"'\")\n",
    "    for word in mapping.keys():\n",
    "        if \"\"+word+\"\" in text:\n",
    "            text = text.replace(\"\"+word+\"\", \"\"+mapping[word]+\"\")\n",
    "    return text\n",
    "\n",
    "def clean_text(text, remove_stopwords=True):\n",
    "    text = emoji.demojize(text)\n",
    "    text = text.lower()\n",
    "\n",
    "    template = re.compile(r'https?://\\S+|www\\.\\S+') #Removes website links\n",
    "    text = template.sub(r'', text)\n",
    "    text = contractions(text, contractions_map)\n",
    "    \n",
    "    soup = BeautifulSoup(text, 'lxml') #Removes HTML tags\n",
    "    only_text = soup.get_text()\n",
    "    text = only_text\n",
    "    text = re.sub(r'\\<a href', ' ', text)\n",
    "    text = re.sub(r\"[^a-zA-Z\\d]\", \" \", text) #Remove special Charecters\n",
    "    text = re.sub(r'&amp;', '', text) \n",
    "    text = re.sub(' +', ' ', text) #Remove Extra Spaces\n",
    "    text = text.strip() # remove spaces at the beginning and at the end of string \n",
    "\n",
    "    # remove stopwords\n",
    "    if remove_stopwords:\n",
    "        text = text.split()\n",
    "        stops = set(stopwords.words(\"english\"))\n",
    "        text = [w for w in text if not w in stops]\n",
    "        text = \" \".join(text)\n",
    "\n",
    "    # Tokenize each word\n",
    "    text =  nltk.WordPunctTokenizer().tokenize(text)\n",
    "    \n",
    "    # Lemmatize each token\n",
    "    lemm = nltk.stem.WordNetLemmatizer()\n",
    "    text = list(map(lambda word:list(map(lemm.lemmatize, word)), text))\n",
    "    words = [*map(''.join, text)]\n",
    "    full_test = [*map(''.join, words)]\n",
    "    return full_test"
   ]
  },
  {
   "cell_type": "code",
   "execution_count": 8,
   "id": "9a758709",
   "metadata": {},
   "outputs": [],
   "source": [
    "train_df = pd.read_csv(\"dataset/train.tsv\",sep='\\t')\n",
    "val_df = pd.read_csv(\"dataset/dev.tsv\",sep='\\t')\n",
    "test_df = pd.read_csv(\"dataset/test.tsv\",sep='\\t')"
   ]
  },
  {
   "cell_type": "code",
   "execution_count": 9,
   "id": "d881584e",
   "metadata": {},
   "outputs": [],
   "source": [
    "train_df['List of classes'] = train_df['emotion'].apply(lambda x: x.split(','))\n",
    "val_df['List of classes'] = val_df['emotion'].apply(lambda x: x.split(','))\n",
    "test_df['List of classes'] = test_df['emotion'].apply(lambda x: x.split(','))"
   ]
  },
  {
   "cell_type": "code",
   "execution_count": 10,
   "id": "94f89f65",
   "metadata": {},
   "outputs": [],
   "source": [
    "with open('dataset/ekman_mapping.json') as file:\n",
    "    ekman_mapping = json.load(file)"
   ]
  },
  {
   "cell_type": "code",
   "execution_count": 11,
   "id": "31f8cdec",
   "metadata": {},
   "outputs": [
    {
     "name": "stdout",
     "output_type": "stream",
     "text": [
      "['admiration', 'amusement', 'anger', 'annoyance', 'approval', 'caring', 'confusion', 'curiosity', 'desire', 'disappointment', 'disapproval', 'disgust', 'embarrassment', 'excitement', 'fear', 'gratitude', 'grief', 'joy', 'love', 'nervousness', 'optimism', 'pride', 'realization', 'relief', 'remorse', 'sadness', 'surprise', 'neutral']\n"
     ]
    }
   ],
   "source": [
    "emotion_file = open(\"dataset/emotions.txt\", \"r\")\n",
    "emotion_list = emotion_file.read()\n",
    "emotion_list = emotion_list.split(\"\\n\")\n",
    "print(emotion_list)"
   ]
  },
  {
   "cell_type": "code",
   "execution_count": 12,
   "id": "34e17fd3",
   "metadata": {},
   "outputs": [],
   "source": [
    "def idx2class(idx_list):\n",
    "    arr = []\n",
    "    for i in idx_list:\n",
    "        arr.append(emotion_list[int(i)])\n",
    "    return arr\n",
    "\n",
    "def EmotionMapping(emotion_list):\n",
    "    map_list = []\n",
    "    \n",
    "    for i in emotion_list:\n",
    "        if i in ekman_mapping['anger']:\n",
    "            map_list.append('anger')\n",
    "        if i in ekman_mapping['disgust']:\n",
    "            map_list.append('disgust')\n",
    "        if i in ekman_mapping['fear']:\n",
    "            map_list.append('fear')\n",
    "        if i in ekman_mapping['joy']:\n",
    "            map_list.append('joy')\n",
    "        if i in ekman_mapping['sadness']:\n",
    "            map_list.append('sadness')\n",
    "        if i in ekman_mapping['surprise']:\n",
    "            map_list.append('surprise')\n",
    "        if i == 'neutral':\n",
    "            map_list.append('neutral')\n",
    "            \n",
    "    return map_list\n",
    "\n",
    "train_df['Emotions'] = train_df['List of classes'].apply(idx2class)\n",
    "val_df['Emotions'] = val_df['List of classes'].apply(idx2class)\n",
    "test_df['Emotions'] = test_df['List of classes'].apply(idx2class)"
   ]
  },
  {
   "cell_type": "code",
   "execution_count": 13,
   "id": "0153f635",
   "metadata": {},
   "outputs": [],
   "source": [
    "train_df['Mapped Emotions'] = train_df['Emotions'].apply(EmotionMapping)\n",
    "val_df['Mapped Emotions'] = val_df['Emotions'].apply(EmotionMapping)\n",
    "test_df['Mapped Emotions'] = test_df['Emotions'].apply(EmotionMapping)"
   ]
  },
  {
   "cell_type": "code",
   "execution_count": 14,
   "id": "fe4328f0",
   "metadata": {},
   "outputs": [],
   "source": [
    "one_hot = MultiLabelBinarizer()\n",
    "y = pd.DataFrame(one_hot.fit_transform(train_df['Mapped Emotions']), columns=one_hot.classes_)\n",
    "train_df = train_df.join(y)\n",
    "\n",
    "y = pd.DataFrame(one_hot.fit_transform(val_df['Mapped Emotions']), columns=one_hot.classes_)\n",
    "val_df = val_df.join(y)\n",
    "\n",
    "y = pd.DataFrame(one_hot.fit_transform(test_df['Mapped Emotions']), columns=one_hot.classes_)\n",
    "test_df = test_df.join(y)"
   ]
  },
  {
   "cell_type": "code",
   "execution_count": 15,
   "id": "96e69e4a",
   "metadata": {},
   "outputs": [],
   "source": [
    "#drop any columns that we will not be using\n",
    "train_df = train_df.drop(train_df[train_df.neutral == 1].index)\n",
    "train_df.drop(['neutral'], axis=1, inplace =True)\n",
    "train_df=train_df.reset_index(drop=True)\n",
    "\n",
    "val_df = val_df.drop(val_df[val_df.neutral == 1].index)\n",
    "val_df.drop(['neutral'], axis=1, inplace =True)\n",
    "val_df=val_df.reset_index(drop=True)\n",
    "\n",
    "test_df = test_df.drop(test_df[test_df.neutral == 1].index)\n",
    "test_df.drop(['neutral'], axis=1, inplace =True)\n",
    "test_df=test_df.reset_index(drop=True)"
   ]
  },
  {
   "cell_type": "code",
   "execution_count": 16,
   "id": "1ba45d8f",
   "metadata": {},
   "outputs": [],
   "source": [
    "train_df.drop(['emotion', 'id','List of classes', 'Emotions','Mapped Emotions'], axis=1, inplace=True)\n",
    "val_df.drop(['emotion', 'id','List of classes', 'Emotions','Mapped Emotions'], axis=1, inplace=True)\n",
    "test_df.drop(['emotion', 'id','List of classes', 'Emotions','Mapped Emotions'], axis=1, inplace=True)"
   ]
  },
  {
   "cell_type": "code",
   "execution_count": 17,
   "id": "26e3f2c3",
   "metadata": {},
   "outputs": [],
   "source": [
    "#generate cleaned words and text - train data\n",
    "train_df['words'] = train_df.text.apply(clean_text)\n",
    "temp=list(train_df['words'])\n",
    "train_df['filtered'] = [*map(' '.join, temp)]\n",
    "\n",
    "#generate cleaned words and text - val data\n",
    "val_df['words'] = val_df.text.apply(clean_text)\n",
    "temp=list(val_df['words'])\n",
    "val_df['filtered'] = [*map(' '.join, temp)]\n",
    "\n",
    "#generate cleaned words and text - test data\n",
    "test_df['words'] = test_df.text.apply(clean_text)\n",
    "temp=list(test_df['words'])\n",
    "test_df['filtered'] = [*map(' '.join, temp)]"
   ]
  },
  {
   "cell_type": "code",
   "execution_count": 18,
   "id": "20efd4fa",
   "metadata": {},
   "outputs": [],
   "source": [
    "dataset=pd.concat([train_df,val_df, test_df], axis=0)\n",
    "dataset = dataset.reset_index(drop=True)"
   ]
  },
  {
   "cell_type": "markdown",
   "id": "41b2498b",
   "metadata": {},
   "source": [
    "### Create functions to plot the accuracy and loss graphs\n",
    "\n",
    "#### Loss VS Accuracy\n",
    "We have functions that perform the action of plotting of loss and accuracy to be used later in the project when building a model. This is because we would be analysing both graphs to ensure that the model is performing as accurately as possible.\n",
    "\n",
    "We would be using accuracy as our metrics at compilation as we can assume the dataset is balanced due to the used of a pre-selected training dataset. This is because accuracy is affected by the number of samples available. However, in this case as the dataset is still multi-label we will take into consideration other factors to ensure optimal results when creating models as accuracy would only show the performace of the classifier at guessing. We should be using 'scoring rules' such as \"loss functions that map predicted probabilities and corresponding observed outcomes to loss values, which are minimized in expectation by the true probabilities (p,1−p)\".\n",
    "\n",
    "Hence, in order to ensure optimal performance of the model. We would plot both accuracy and loss graphs when building and improving on our models to ensure that the model is underfit/overfit/goodfit."
   ]
  },
  {
   "cell_type": "code",
   "execution_count": 19,
   "id": "3a231345",
   "metadata": {},
   "outputs": [],
   "source": [
    "def plot_accuracy(acc, val_acc):\n",
    "    '''plot training accuracy and validation accuracy'''\n",
    "    plt.clf() #clear any existing figures\n",
    "    epochs = range(1, len(acc)+1) #get a number of epochs\n",
    "    #assign values for each axis\n",
    "    plt.plot(epochs, acc, 'bo', label=\"Accuracy\")\n",
    "    plt.plot(epochs, val_acc, 'b', label=\"Validation accuracy\")\n",
    "    #set a title of graph and labels of each axis\n",
    "    plt.title(\"Training and validation accuracy\")\n",
    "    plt.xlabel('Epochs')\n",
    "    plt.ylabel(\"Accuracy\")\n",
    "    plt.legend()\n",
    "    plt.show()\n",
    "\n",
    "def plot_loss(loss, val_loss):\n",
    "    '''plot training loss and validation loss on the graph'''\n",
    "    plt.clf() #clear any existing figures\n",
    "    epochs = range(1, len(loss)+1) #get a number of epochs\n",
    "    #assign values for each axis\n",
    "    plt.plot(epochs, loss, 'bo', label=\"Loss\")\n",
    "    plt.plot(epochs, val_loss, 'b', label=\"validation loss\")\n",
    "    #set a title of graph and labels of each axis\n",
    "    plt.title(\"Training Loss & Validation Loss\")\n",
    "    plt.xlabel('Epochs')\n",
    "    plt.ylabel('Loss')\n",
    "    plt.legend()\n",
    "    plt.show()"
   ]
  },
  {
   "cell_type": "markdown",
   "id": "e9752ad0",
   "metadata": {},
   "source": [
    "### Word Embedding\n",
    "Using Word2Vec, we train a word2vec model and obtain the vocab size of the entire dataset. Following which, tokenizing and padding of sequences are perform to ensure that all vectors are of the same size (300). The embedding matrix acts as the weights in the Embedding layer."
   ]
  },
  {
   "cell_type": "code",
   "execution_count": 20,
   "id": "5cd42ba1",
   "metadata": {},
   "outputs": [
    {
     "name": "stdout",
     "output_type": "stream",
     "text": [
      "Y train shape:  (29191, 6)\n",
      "Y test shape:  (3640, 6)\n",
      "Y val shape:  (3660, 6)\n"
     ]
    }
   ],
   "source": [
    "#emotion labels - 6 labels\n",
    "col = ['anger','disgust','fear','joy','sadness', 'surprise']\n",
    "\n",
    "y_train = train_df[col]\n",
    "y_val = val_df[col]\n",
    "y_test = test_df[col]\n",
    "\n",
    "print(\"Y train shape: \",y_train.shape)\n",
    "print(\"Y test shape: \",y_test.shape)\n",
    "print(\"Y val shape: \",y_val.shape)"
   ]
  },
  {
   "cell_type": "code",
   "execution_count": 21,
   "id": "cf4c4f9d",
   "metadata": {},
   "outputs": [
    {
     "name": "stdout",
     "output_type": "stream",
     "text": [
      "(22852, 300)\n"
     ]
    },
    {
     "name": "stderr",
     "output_type": "stream",
     "text": [
      "C:\\Users\\REIPOT~1\\AppData\\Local\\Temp/ipykernel_28408/1839708558.py:2: DeprecationWarning: Call to deprecated `syn0` (Attribute will be removed in 4.0.0, use self.vectors instead).\n",
      "  pretrained_weights = w2v_model.wv.syn0\n"
     ]
    }
   ],
   "source": [
    "w2v_model = Word2Vec(dataset.words, min_count=1,size=300, iter=100)\n",
    "pretrained_weights = w2v_model.wv.syn0\n",
    "vocab_size, emdedding_size = pretrained_weights.shape\n",
    "print(pretrained_weights.shape)"
   ]
  },
  {
   "cell_type": "code",
   "execution_count": 22,
   "id": "019bef64",
   "metadata": {},
   "outputs": [
    {
     "name": "stdout",
     "output_type": "stream",
     "text": [
      "The total number of words are :  22852\n"
     ]
    }
   ],
   "source": [
    "vocab=w2v_model.wv.vocab\n",
    "print(\"The total number of words are : \",len(vocab))\n",
    "vocab=list(vocab.keys())"
   ]
  },
  {
   "cell_type": "code",
   "execution_count": 23,
   "id": "2171cdaf",
   "metadata": {},
   "outputs": [
    {
     "name": "stdout",
     "output_type": "stream",
     "text": [
      "The no of key-value pairs :  22852\n"
     ]
    }
   ],
   "source": [
    "word_vec_dict={}\n",
    "for word in vocab:\n",
    "    word_vec_dict[word]=w2v_model.wv.get_vector(word)\n",
    "print(\"The no of key-value pairs : \",len(word_vec_dict)) # should come equal to vocab size"
   ]
  },
  {
   "cell_type": "code",
   "execution_count": 24,
   "id": "cf2b0417",
   "metadata": {},
   "outputs": [
    {
     "name": "stdout",
     "output_type": "stream",
     "text": [
      "68\n"
     ]
    }
   ],
   "source": [
    "max_lenth=-1\n",
    "for i,rev in enumerate(dataset.filtered):\n",
    "    tokens=rev.split()\n",
    "    if(len(tokens)>max_lenth):\n",
    "        max_lenth=len(tokens)\n",
    "print(max_lenth)"
   ]
  },
  {
   "cell_type": "code",
   "execution_count": 25,
   "id": "7c7fa206",
   "metadata": {},
   "outputs": [],
   "source": [
    "tok = Tokenizer()\n",
    "tok.fit_on_texts(dataset.filtered)\n",
    "vocab_size = len(tok.word_index) + 1\n",
    "\n",
    "encd_train = tok.texts_to_sequences(train_df.filtered)\n",
    "encd_val = tok.texts_to_sequences(val_df.filtered)\n",
    "encd_test = tok.texts_to_sequences(test_df.filtered)"
   ]
  },
  {
   "cell_type": "code",
   "execution_count": 26,
   "id": "306a7106",
   "metadata": {},
   "outputs": [],
   "source": [
    "pad_train= pad_sequences(encd_train, maxlen=max_lenth, padding='post')\n",
    "pad_val= pad_sequences(encd_val, maxlen=max_lenth, padding='post')\n",
    "pad_test= pad_sequences(encd_test, maxlen=max_lenth, padding='post')"
   ]
  },
  {
   "cell_type": "code",
   "execution_count": 27,
   "id": "94d674bc",
   "metadata": {},
   "outputs": [],
   "source": [
    "embed_matrix=np.zeros(shape=(vocab_size,emdedding_size))\n",
    "for word,i in tok.word_index.items():\n",
    "    embed_vector=word_vec_dict.get(word)\n",
    "    if embed_vector is not None:  # word is in the vocabulary learned by the w2v model\n",
    "        embed_matrix[i]=embed_vector"
   ]
  },
  {
   "cell_type": "code",
   "execution_count": 159,
   "id": "ce2696d4",
   "metadata": {},
   "outputs": [
    {
     "name": "stdout",
     "output_type": "stream",
     "text": [
      "train_text (29191, 68)\n",
      "train_labels (29191, 6)\n",
      "val_text (3660, 68)\n",
      "val_labels (3660, 6)\n",
      "test_text (3640, 68)\n",
      "test_labels (3640, 6)\n"
     ]
    }
   ],
   "source": [
    "print('train_text', pad_train.shape)\n",
    "print('train_labels', y_train.shape)\n",
    "print('val_text', pad_val.shape)\n",
    "print('val_labels', y_val.shape)\n",
    "print('test_text', pad_test.shape)\n",
    "print('test_labels', y_test.shape)"
   ]
  },
  {
   "cell_type": "markdown",
   "id": "91e5d966",
   "metadata": {},
   "source": [
    "### Underfit Model\n",
    "The first model would be fairly simple, having the minimum requirements that we need to have statistical power. Which is to have an accuracy higher than 16.67. Our model will only have the required last activation layer sigmoid and the loss function binary_crossentropy."
   ]
  },
  {
   "cell_type": "code",
   "execution_count": 113,
   "id": "4f20548c",
   "metadata": {},
   "outputs": [],
   "source": [
    "model_word_underfit=Sequential()\n",
    "model_word_underfit.add(Embedding(input_dim=vocab_size, output_dim=emdedding_size ,input_length=max_lenth, weights=[embed_matrix],trainable=False))\n",
    "model_word_underfit.add(LSTM(12))\n",
    "model_word_underfit.add(Dense(6, activation='sigmoid'))\n",
    "\n",
    "model_word_underfit.compile(optimizer='adam', loss='binary_crossentropy',metrics=['accuracy'])\n",
    "history_model_word_underfit = model_word_underfit.fit(pad_train, y_train,epochs=10,batch_size=256,validation_data = (pad_val, y_val), verbose=0)"
   ]
  },
  {
   "cell_type": "code",
   "execution_count": 114,
   "id": "e5a1b16a",
   "metadata": {},
   "outputs": [
    {
     "data": {
      "image/png": "[encoded data removed]",
      "text/plain": [
       "<Figure size 432x288 with 1 Axes>"
      ]
     },
     "metadata": {
      "needs_background": "light"
     },
     "output_type": "display_data"
    }
   ],
   "source": [
    "plot_loss(history_model_word_underfit.history['loss'], history_model_word_underfit.history['val_loss'])"
   ]
  },
  {
   "cell_type": "code",
   "execution_count": 115,
   "id": "5559f4fd",
   "metadata": {},
   "outputs": [
    {
     "data": {
      "image/png": "[encoded data removed]",
      "text/plain": [
       "<Figure size 432x288 with 1 Axes>"
      ]
     },
     "metadata": {
      "needs_background": "light"
     },
     "output_type": "display_data"
    }
   ],
   "source": [
    "plot_accuracy(history_model_word_underfit.history['accuracy'], history_model_word_underfit.history['val_accuracy'])"
   ]
  },
  {
   "cell_type": "markdown",
   "id": "be9029dd",
   "metadata": {},
   "source": [
    "### Overfit Model\n",
    "After developing a model that is able to do better than the baseline, we need to develop a model that overfits. As the aim of this project is to create a model that stands on the line between overfitting and underfitting, we now need to cross the line to develop a model that overfits.\n",
    "\n",
    "Here, we would be making the model bigger or increasing the training until the model's performance on the validation data starts degrading. This is when overfitting has been achieved."
   ]
  },
  {
   "cell_type": "code",
   "execution_count": 117,
   "id": "38bec345",
   "metadata": {},
   "outputs": [],
   "source": [
    "model_word_overfit=Sequential()\n",
    "model_word_overfit.add(Embedding(input_dim=vocab_size, output_dim=emdedding_size ,input_length=max_lenth, weights=[embed_matrix],trainable=False))\n",
    "model_word_overfit.add(LSTM(12, return_sequences=True))\n",
    "model_word_overfit.add(LSTM(12))\n",
    "model_word_overfit.add(Dense(12, activation='relu'))\n",
    "model_word_overfit.add(Dense(6, activation='relu'))\n",
    "model_word_overfit.add(Dense(6, activation='sigmoid'))\n",
    "\n",
    "model_word_overfit.compile(optimizer='adam', loss='binary_crossentropy',metrics=['accuracy'])\n",
    "history_model_word_overfit = model_word_overfit.fit(pad_train, y_train,epochs=15,batch_size=32,validation_data = (pad_val, y_val), verbose=0)"
   ]
  },
  {
   "cell_type": "code",
   "execution_count": 118,
   "id": "f53195c3",
   "metadata": {},
   "outputs": [
    {
     "data": {
      "image/png": "[encoded data removed]",
      "text/plain": [
       "<Figure size 432x288 with 1 Axes>"
      ]
     },
     "metadata": {
      "needs_background": "light"
     },
     "output_type": "display_data"
    }
   ],
   "source": [
    "plot_loss(history_model_word_overfit.history['loss'], history_model_word_overfit.history['val_loss'])"
   ]
  },
  {
   "cell_type": "code",
   "execution_count": 119,
   "id": "1375517e",
   "metadata": {},
   "outputs": [
    {
     "data": {
      "image/png": "[encoded data removed]",
      "text/plain": [
       "<Figure size 432x288 with 1 Axes>"
      ]
     },
     "metadata": {
      "needs_background": "light"
     },
     "output_type": "display_data"
    }
   ],
   "source": [
    "plot_accuracy(history_model_word_overfit.history['accuracy'], history_model_word_overfit.history['val_accuracy'])"
   ]
  },
  {
   "cell_type": "markdown",
   "id": "a07207d5",
   "metadata": {},
   "source": [
    "### Good Model\n",
    "After creating a model that overfits, we need to modify the model until the line we mentioned above, is found. This can be done using various methods such as tuning the hyper-parameters.\n",
    "\n",
    "When the model is initialised, we will evaluate the network on the complete test set."
   ]
  },
  {
   "cell_type": "code",
   "execution_count": 137,
   "id": "ef6675ee",
   "metadata": {},
   "outputs": [],
   "source": [
    "model_word_goodfit=Sequential()\n",
    "model_word_goodfit.add(Embedding(input_dim=vocab_size, output_dim=emdedding_size ,input_length=max_lenth, weights=[embed_matrix],trainable=False))\n",
    "model_word_goodfit.add(LSTM(64, return_sequences=True, kernel_regularizer=regularizers.L1(0.0003)))\n",
    "model_word_goodfit.add(LSTM(64, kernel_regularizer=regularizers.L1(0.0003)))\n",
    "model_word_goodfit.add(Dense(6, activation='relu', kernel_regularizer=regularizers.L1(0.0003)))\n",
    "model_word_goodfit.add(Dense(6, activation='sigmoid'))\n",
    "\n",
    "model_word_goodfit.compile(optimizer=tf.keras.optimizers.Adam(learning_rate=0.0001), loss='binary_crossentropy',metrics=['accuracy'])\n",
    "history_model_word_overfit = model_word_goodfit.fit(pad_train, y_train,epochs=20,batch_size=128,validation_data = (pad_val, y_val), verbose=0)"
   ]
  },
  {
   "cell_type": "code",
   "execution_count": 138,
   "id": "42cb7f10",
   "metadata": {
    "scrolled": true
   },
   "outputs": [
    {
     "data": {
      "image/png": "[encoded data removed]",
      "text/plain": [
       "<Figure size 432x288 with 1 Axes>"
      ]
     },
     "metadata": {
      "needs_background": "light"
     },
     "output_type": "display_data"
    }
   ],
   "source": [
    "plot_loss(history_model_word_overfit.history['loss'], history_model_word_overfit.history['val_loss'])"
   ]
  },
  {
   "cell_type": "code",
   "execution_count": 139,
   "id": "42d90475",
   "metadata": {
    "scrolled": true
   },
   "outputs": [
    {
     "data": {
      "image/png": "[encoded data removed]",
      "text/plain": [
       "<Figure size 432x288 with 1 Axes>"
      ]
     },
     "metadata": {
      "needs_background": "light"
     },
     "output_type": "display_data"
    }
   ],
   "source": [
    "plot_accuracy(history_model_word_overfit.history['accuracy'], history_model_word_overfit.history['val_accuracy'])"
   ]
  },
  {
   "cell_type": "markdown",
   "id": "9eba39ae",
   "metadata": {},
   "source": [
    "We evaluate the good-fit model to obtain results of loss and accuracy."
   ]
  },
  {
   "cell_type": "code",
   "execution_count": 140,
   "id": "30e31463",
   "metadata": {},
   "outputs": [
    {
     "name": "stdout",
     "output_type": "stream",
     "text": [
      "114/114 [==============================] - 4s 36ms/step - loss: 0.3381 - accuracy: 0.6277\n"
     ]
    }
   ],
   "source": [
    "test_loss, test_acc = model_word_goodfit.evaluate(pad_test, y_test)"
   ]
  },
  {
   "cell_type": "markdown",
   "id": "732b94e8",
   "metadata": {},
   "source": [
    "### Running hyper tuning based on Good Model\n",
    "Although we have managed to generate a goodfit model of satisfactory standards, at 62% accuracy which is better than a naive guess of 16.6% accuracy (at best). We will attempt to achieve better accuracy, by using Hyperband from the keras library to perform automated hyper parameter tuning.\n",
    "\n",
    "Below we create a function to build our model, this helps define the hyperparameter search space and the model architecture."
   ]
  },
  {
   "cell_type": "code",
   "execution_count": 142,
   "id": "82bcf5e8",
   "metadata": {},
   "outputs": [],
   "source": [
    "def model_builder(hp):\n",
    "    hp_learning_rate = hp.Choice('learning_rate', values=[1e-2, 1e-3, 1e-4])\n",
    "    model = Sequential()\n",
    "    model.add(Embedding(input_dim=vocab_size, output_dim=emdedding_size ,input_length=max_lenth, weights=[embed_matrix],trainable=False))\n",
    "\n",
    "    model.add(LSTM(units=hp.Choice('lstm1_layer', values=[16,32,64,128,256,512]), return_sequences=True,\n",
    "                   kernel_regularizer=tf.keras.regularizers.L1(hp.Float('dense1_L1', min_value=0.00001, max_value=0.001))))\n",
    "    model.add(LSTM(units=hp.Choice('lstm2_layer', values=[16,32,64,128,256,512]),\n",
    "                   kernel_regularizer=tf.keras.regularizers.L1(hp.Float('dense2_L1', min_value=0.00001, max_value=0.001))))\n",
    "    model.add(Dense(units=hp.Choice('dense1_layer', values=[16,32,64,128,256,512]), activation = 'relu',\n",
    "                   kernel_regularizer=tf.keras.regularizers.L1(hp.Float('dense2_L1', min_value=0.00001, max_value=0.001))))\n",
    "   \n",
    "    model.add(Dense(6, activation = 'sigmoid'))\n",
    "    tf.random.set_seed(2)\n",
    "    model.compile(optimizer=tf.keras.optimizers.Adam(learning_rate=hp_learning_rate),loss='binary_crossentropy', metrics=['accuracy'])\n",
    "    return model"
   ]
  },
  {
   "cell_type": "markdown",
   "id": "5f69a72c",
   "metadata": {},
   "source": [
    "Instantiate the Hyperband tuner and perform hypertuning"
   ]
  },
  {
   "cell_type": "code",
   "execution_count": 143,
   "id": "0fde1a6a",
   "metadata": {},
   "outputs": [],
   "source": [
    "tuner = Hyperband(\n",
    "    hypermodel=model_builder,\n",
    "    max_epochs=30,\n",
    "    objective='val_accuracy',\n",
    "    factor=3,\n",
    "    directory='LSTM_word_models/',\n",
    "    project_name='word_lstm'\n",
    ")"
   ]
  },
  {
   "cell_type": "code",
   "execution_count": 144,
   "id": "18466467",
   "metadata": {
    "scrolled": true
   },
   "outputs": [
    {
     "name": "stdout",
     "output_type": "stream",
     "text": [
      "Search space summary\n",
      "Default search space size: 6\n",
      "learning_rate (Choice)\n",
      "{'default': 0.01, 'conditions': [], 'values': [0.01, 0.001, 0.0001], 'ordered': True}\n",
      "lstm1_layer (Choice)\n",
      "{'default': 16, 'conditions': [], 'values': [16, 32, 64, 128, 256, 512], 'ordered': True}\n",
      "dense1_L1 (Float)\n",
      "{'default': 1e-05, 'conditions': [], 'min_value': 1e-05, 'max_value': 0.001, 'step': None, 'sampling': None}\n",
      "lstm2_layer (Choice)\n",
      "{'default': 16, 'conditions': [], 'values': [16, 32, 64, 128, 256, 512], 'ordered': True}\n",
      "dense2_L1 (Float)\n",
      "{'default': 1e-05, 'conditions': [], 'min_value': 1e-05, 'max_value': 0.001, 'step': None, 'sampling': None}\n",
      "dense1_layer (Choice)\n",
      "{'default': 16, 'conditions': [], 'values': [16, 32, 64, 128, 256, 512], 'ordered': True}\n"
     ]
    }
   ],
   "source": [
    "tuner.search_space_summary()"
   ]
  },
  {
   "cell_type": "markdown",
   "id": "045311cf",
   "metadata": {},
   "source": [
    "We use a callback called EarlyStopping to stop the training when validation loss has reached a certain value, or when no improvements are made for 5 epochs."
   ]
  },
  {
   "cell_type": "code",
   "execution_count": 145,
   "id": "c066a97a",
   "metadata": {
    "scrolled": false
   },
   "outputs": [
    {
     "name": "stdout",
     "output_type": "stream",
     "text": [
      "Trial 90 Complete [00h 19m 31s]\n",
      "val_accuracy: 0.5653005242347717\n",
      "\n",
      "Best val_accuracy So Far: 0.616939902305603\n",
      "Total elapsed time: 1d 21h 44m 33s\n",
      "INFO:tensorflow:Oracle triggered exit\n"
     ]
    }
   ],
   "source": [
    "tuner.search(pad_train, y_train, epochs = 30, validation_data = (pad_val,y_val), batch_size= 128, callbacks = [EarlyStopping(monitor='val_loss', patience=5)])"
   ]
  },
  {
   "cell_type": "code",
   "execution_count": 147,
   "id": "5864d724",
   "metadata": {},
   "outputs": [
    {
     "name": "stdout",
     "output_type": "stream",
     "text": [
      "{'learning_rate': 0.0001, 'lstm1_layer': 256, 'dense1_L1': 0.0007118660988822876, 'lstm2_layer': 256, 'dense2_L1': 0.0009007521412954627, 'dense1_layer': 256, 'tuner/epochs': 30, 'tuner/initial_epoch': 10, 'tuner/bracket': 1, 'tuner/round': 1, 'tuner/trial_id': '0076'}\n"
     ]
    }
   ],
   "source": [
    "best_hps=tuner.get_best_hyperparameters()[0]\n",
    "print(best_hps.values)"
   ]
  },
  {
   "cell_type": "markdown",
   "id": "161252d6",
   "metadata": {},
   "source": [
    "Build the model with the optimal hyper-parameters and obtain the optimal number of epochs to train the model."
   ]
  },
  {
   "cell_type": "code",
   "execution_count": 148,
   "id": "e40c74f8",
   "metadata": {},
   "outputs": [
    {
     "name": "stdout",
     "output_type": "stream",
     "text": [
      "Best epoch: 30\n"
     ]
    }
   ],
   "source": [
    "best_model_tuner = tuner.hypermodel.build(best_hps)\n",
    "histry_best_tunder =best_model_tuner.fit(pad_train, y_train, epochs=30, validation_data=(pad_val,y_val), batch_size= 128, verbose=0)\n",
    "tf.random.set_seed(2)\n",
    "val_acc_per_epoch = histry_best_tunder.history['val_accuracy']\n",
    "best_epoch = val_acc_per_epoch.index(max(val_acc_per_epoch)) + 1\n",
    "print('Best epoch: %d' % (best_epoch,))"
   ]
  },
  {
   "cell_type": "markdown",
   "id": "371d59b5",
   "metadata": {},
   "source": [
    "We retrain the hyper-tuned model using the best epochs and evaluate to obtain the loss and accuracy results."
   ]
  },
  {
   "cell_type": "code",
   "execution_count": 149,
   "id": "a5fe9361",
   "metadata": {},
   "outputs": [],
   "source": [
    "hypermodel = tuner.hypermodel.build(best_hps)\n",
    "# Retrain the model\n",
    "history=hypermodel.fit(pad_train, y_train, epochs=best_epoch, validation_data=(pad_val,y_val), batch_size= 128, verbose=0)"
   ]
  },
  {
   "cell_type": "code",
   "execution_count": 151,
   "id": "eaf9b8c7",
   "metadata": {},
   "outputs": [
    {
     "name": "stdout",
     "output_type": "stream",
     "text": [
      "114/114 [==============================] - 28s 243ms/step - loss: 0.3329 - accuracy: 0.6071\n",
      "[test loss, test accuracy]: [0.3329086899757385, 0.6071428656578064]\n"
     ]
    }
   ],
   "source": [
    "eval_result = hypermodel.evaluate(pad_test, y_test)\n",
    "print(\"[test loss, test accuracy]:\", eval_result)"
   ]
  },
  {
   "cell_type": "markdown",
   "id": "62e85b81",
   "metadata": {},
   "source": [
    "### Training models on full train data\n",
    "Now that we have the final models/networks, we will perform the training on the complete training set instead of the partial training set. Hence, we have concatenated both the training and validation text and labels below. In addition, the evaluation function generates a table to compare the metrics of the manually tuned model and the hyper-tuned model by keras Hyperband."
   ]
  },
  {
   "cell_type": "code",
   "execution_count": 152,
   "id": "5aaeb183",
   "metadata": {},
   "outputs": [],
   "source": [
    "summary_table = PrettyTable([\"Loss\",\"Accuracy\",\"Precision\",\"Recall\",\"F1\",\"Cohen Kappa\",\"Model\"])\n",
    "\n",
    "def evaluation (x_test, y_test,x_val, y_val,model,model_name):\n",
    "    test_loss, test_acc = model.evaluate(x_val, y_val)\n",
    "    \n",
    "    y_pred = model.predict(x_test)\n",
    "    Y_test=y_test.values.argmax(axis=1)\n",
    "    Y_pred = np.argmax(y_pred,axis=1)\n",
    "\n",
    "    cm = confusion_matrix(Y_test, Y_pred)\n",
    "    p = precision_score(Y_test, Y_pred, average='weighted')\n",
    "    r = recall_score(Y_test, Y_pred, average='weighted')\n",
    "    f = f1_score(Y_test,Y_pred, average='weighted')\n",
    "    ck = cohen_kappa_score(Y_test, Y_pred)\n",
    "    \n",
    "    values = [test_loss,test_acc,p,r,f,ck]\n",
    "    rounded_row = [round(elem, 3) for elem in values]\n",
    "    rounded_row.append(model_name)\n",
    "    \n",
    "    summary_table.add_row(rounded_row)"
   ]
  },
  {
   "cell_type": "markdown",
   "id": "f4fac0b3",
   "metadata": {},
   "source": [
    "### Manually-tuned model"
   ]
  },
  {
   "cell_type": "code",
   "execution_count": 153,
   "id": "35b5c53a",
   "metadata": {},
   "outputs": [
    {
     "name": "stdout",
     "output_type": "stream",
     "text": [
      "Model: \"sequential_3\"\n",
      "_________________________________________________________________\n",
      " Layer (type)                Output Shape              Param #   \n",
      "=================================================================\n",
      " embedding_3 (Embedding)     (None, 68, 300)           6855900   \n",
      "                                                                 \n",
      " lstm_6 (LSTM)               (None, 68, 64)            93440     \n",
      "                                                                 \n",
      " lstm_7 (LSTM)               (None, 64)                33024     \n",
      "                                                                 \n",
      " dense_6 (Dense)             (None, 6)                 390       \n",
      "                                                                 \n",
      " dense_7 (Dense)             (None, 6)                 42        \n",
      "                                                                 \n",
      "=================================================================\n",
      "Total params: 6,982,796\n",
      "Trainable params: 126,896\n",
      "Non-trainable params: 6,855,900\n",
      "_________________________________________________________________\n"
     ]
    }
   ],
   "source": [
    "model_word_goodfit=Sequential()\n",
    "model_word_goodfit.add(Embedding(input_dim=vocab_size, output_dim=emdedding_size ,input_length=max_lenth, weights=[embed_matrix],trainable=False))\n",
    "model_word_goodfit.add(LSTM(64, return_sequences=True, kernel_regularizer=regularizers.L1(0.0003)))\n",
    "model_word_goodfit.add(LSTM(64, kernel_regularizer=regularizers.L1(0.0003)))\n",
    "model_word_goodfit.add(Dense(6, activation='relu', kernel_regularizer=regularizers.L1(0.0003)))\n",
    "model_word_goodfit.add(Dense(6, activation='sigmoid'))\n",
    "model_word_goodfit.summary()\n",
    "\n",
    "model_word_goodfit.compile(optimizer=tf.keras.optimizers.Adam(learning_rate=0.0001), loss='binary_crossentropy',metrics=['accuracy'])"
   ]
  },
  {
   "cell_type": "code",
   "execution_count": 155,
   "id": "2ebfc42d",
   "metadata": {},
   "outputs": [
    {
     "name": "stdout",
     "output_type": "stream",
     "text": [
      "115/115 [==============================] - 7s 54ms/step - loss: 0.3454 - accuracy: 0.6342\n"
     ]
    },
    {
     "name": "stderr",
     "output_type": "stream",
     "text": [
      "C:\\Users\\ReiPotato\\anaconda3\\lib\\site-packages\\sklearn\\metrics\\_classification.py:1334: UndefinedMetricWarning: Precision is ill-defined and being set to 0.0 in labels with no predicted samples. Use `zero_division` parameter to control this behavior.\n",
      "  _warn_prf(average, modifier, msg_start, len(result))\n"
     ]
    }
   ],
   "source": [
    "#training on full dataset\n",
    "final_fit = model_word_goodfit.fit(np.concatenate([pad_train,pad_val]),np.concatenate([y_train,y_val]), epochs=20, batch_size=128, verbose=0)\n",
    "evaluation (pad_test, y_test,pad_val, y_val,model_word_goodfit,'manual-tuned model')"
   ]
  },
  {
   "cell_type": "markdown",
   "id": "3a7ed6de",
   "metadata": {},
   "source": [
    "### Hyper-tuned Model (Automated HyperBand)"
   ]
  },
  {
   "cell_type": "code",
   "execution_count": 156,
   "id": "019480ed",
   "metadata": {},
   "outputs": [
    {
     "name": "stdout",
     "output_type": "stream",
     "text": [
      "Model: \"sequential_4\"\n",
      "_________________________________________________________________\n",
      " Layer (type)                Output Shape              Param #   \n",
      "=================================================================\n",
      " embedding_4 (Embedding)     (None, 68, 300)           6855900   \n",
      "                                                                 \n",
      " lstm_8 (LSTM)               (None, 68, 256)           570368    \n",
      "                                                                 \n",
      " lstm_9 (LSTM)               (None, 256)               525312    \n",
      "                                                                 \n",
      " dense_8 (Dense)             (None, 256)               65792     \n",
      "                                                                 \n",
      " dense_9 (Dense)             (None, 6)                 1542      \n",
      "                                                                 \n",
      "=================================================================\n",
      "Total params: 8,018,914\n",
      "Trainable params: 1,163,014\n",
      "Non-trainable params: 6,855,900\n",
      "_________________________________________________________________\n"
     ]
    }
   ],
   "source": [
    "hypermodel = tuner.hypermodel.build(best_hps)\n",
    "tf.random.set_seed(2)\n",
    "hypermodel.summary()"
   ]
  },
  {
   "cell_type": "code",
   "execution_count": 157,
   "id": "094a114e",
   "metadata": {},
   "outputs": [
    {
     "name": "stdout",
     "output_type": "stream",
     "text": [
      "115/115 [==============================] - 29s 248ms/step - loss: 0.3692 - accuracy: 0.5653\n"
     ]
    },
    {
     "name": "stderr",
     "output_type": "stream",
     "text": [
      "C:\\Users\\ReiPotato\\anaconda3\\lib\\site-packages\\sklearn\\metrics\\_classification.py:1334: UndefinedMetricWarning: Precision is ill-defined and being set to 0.0 in labels with no predicted samples. Use `zero_division` parameter to control this behavior.\n",
      "  _warn_prf(average, modifier, msg_start, len(result))\n"
     ]
    }
   ],
   "source": [
    "#training on full dataset\n",
    "final_fit = hypermodel.fit(np.concatenate([pad_train,pad_val]),np.concatenate([y_train,y_val]), epochs=best_epoch, batch_size=128, verbose=0)\n",
    "evaluation (pad_test, y_test,pad_val, y_val,hypermodel,'hyper-tuned model')"
   ]
  },
  {
   "cell_type": "markdown",
   "id": "a975c7b9",
   "metadata": {},
   "source": [
    "From the evaluation metrics below, we can say that both models are able to perform generally decent as they have higher accuracy than a naive guess of 16.6%. Comparing both models, the manual-tuned model is able generate better metric results and will be the most suitable representation model when used with Word-Embedding RNN-LSTM."
   ]
  },
  {
   "cell_type": "code",
   "execution_count": 158,
   "id": "3d8ada2a",
   "metadata": {},
   "outputs": [
    {
     "name": "stdout",
     "output_type": "stream",
     "text": [
      "+-------+----------+-----------+--------+-------+-------------+--------------------+\n",
      "|  Loss | Accuracy | Precision | Recall |   F1  | Cohen Kappa |       Model        |\n",
      "+-------+----------+-----------+--------+-------+-------------+--------------------+\n",
      "| 0.345 |  0.634   |   0.457   | 0.611  | 0.522 |    0.308    | manual-tuned model |\n",
      "| 0.369 |  0.565   |   0.296   | 0.544  | 0.383 |     0.0     | hyper-tuned model  |\n",
      "+-------+----------+-----------+--------+-------+-------------+--------------------+\n"
     ]
    }
   ],
   "source": [
    "print(summary_table)"
   ]
  }
 ],
 "metadata": {
  "kernelspec": {
   "display_name": "Python 3 (ipykernel)",
   "language": "python",
   "name": "python3"
  },
  "language_info": {
   "codemirror_mode": {
    "name": "ipython",
    "version": 3
   },
   "file_extension": ".py",
   "mimetype": "text/x-python",
   "name": "python",
   "nbconvert_exporter": "python",
   "pygments_lexer": "ipython3",
   "version": "3.8.12"
  }
 },
 "nbformat": 4,
 "nbformat_minor": 5
}
