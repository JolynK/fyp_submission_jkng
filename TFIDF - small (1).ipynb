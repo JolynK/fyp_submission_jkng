{
 "cells": [
  {
   "cell_type": "markdown",
   "id": "9c381f7a",
   "metadata": {},
   "source": [
    "# TFIDF (MLP Model)\n",
    "Disclaimer: As the flow of the data preparation are similar to the baseline file, we will not be further explaining repeated concepts except models generated or when necessary.\n",
    "\n",
    "This file aims to generate a suitable model for TF-IDF features. Hence, the focus of this file is to create a model of obtainable standards for comparison among the various other models (present in other files). The comparison of the models and other classifiers will be shown and elaborated in the report itself. As mentioned in the report, the 3 tsv files will not be concatenated (and split again) to ensure a balanced training, validation and test dataset to a certain extent. This ensures more accurate and efficient machine learning techniques to obtain results. "
   ]
  },
  {
   "cell_type": "code",
   "execution_count": 1,
   "id": "18c75c03",
   "metadata": {},
   "outputs": [
    {
     "name": "stdout",
     "output_type": "stream",
     "text": [
      "Requirement already satisfied: scikit-multilearn in /Users/jolynngkaiying/opt/anaconda3/lib/python3.9/site-packages (0.2.0)\n",
      "Note: you may need to restart the kernel to use updated packages.\n"
     ]
    }
   ],
   "source": [
    "pip install scikit-multilearn"
   ]
  },
  {
   "cell_type": "code",
   "execution_count": 2,
   "id": "be0198bc",
   "metadata": {},
   "outputs": [
    {
     "name": "stdout",
     "output_type": "stream",
     "text": [
      "Requirement already satisfied: gensim in /Users/jolynngkaiying/opt/anaconda3/lib/python3.9/site-packages (4.1.2)\n",
      "Requirement already satisfied: smart-open>=1.8.1 in /Users/jolynngkaiying/opt/anaconda3/lib/python3.9/site-packages (from gensim) (5.1.0)\n",
      "Requirement already satisfied: scipy>=0.18.1 in /Users/jolynngkaiying/opt/anaconda3/lib/python3.9/site-packages (from gensim) (1.7.3)\n",
      "Requirement already satisfied: numpy>=1.17.0 in /Users/jolynngkaiying/opt/anaconda3/lib/python3.9/site-packages (from gensim) (1.21.5)\n",
      "Note: you may need to restart the kernel to use updated packages.\n"
     ]
    }
   ],
   "source": [
    "pip install gensim"
   ]
  },
  {
   "cell_type": "code",
   "execution_count": 3,
   "id": "1040f967",
   "metadata": {},
   "outputs": [
    {
     "name": "stdout",
     "output_type": "stream",
     "text": [
      "Requirement already satisfied: emoji in /Users/jolynngkaiying/opt/anaconda3/lib/python3.9/site-packages (2.0.0)\n",
      "Note: you may need to restart the kernel to use updated packages.\n"
     ]
    }
   ],
   "source": [
    "pip install emoji"
   ]
  },
  {
   "cell_type": "code",
   "execution_count": 4,
   "id": "df10e0cb",
   "metadata": {},
   "outputs": [
    {
     "name": "stdout",
     "output_type": "stream",
     "text": [
      "Requirement already satisfied: prettytable in /Users/jolynngkaiying/opt/anaconda3/lib/python3.9/site-packages (3.4.0)\n",
      "Requirement already satisfied: wcwidth in /Users/jolynngkaiying/opt/anaconda3/lib/python3.9/site-packages (from prettytable) (0.2.5)\n",
      "Note: you may need to restart the kernel to use updated packages.\n"
     ]
    }
   ],
   "source": [
    "pip install prettytable"
   ]
  },
  {
   "cell_type": "code",
   "execution_count": 129,
   "id": "852877f6",
   "metadata": {},
   "outputs": [],
   "source": [
    "#required libraries imported to run project\n",
    "import nltk\n",
    "import numpy as np\n",
    "import pandas as pd\n",
    "import plotly.graph_objects as go\n",
    "import emoji\n",
    "import re\n",
    "import nltk\n",
    "import seaborn as sns\n",
    "import skmultilearn\n",
    "from keras.models import Sequential, Model\n",
    "from keras import layers\n",
    "from keras import Input\n",
    "from sklearn.pipeline import Pipeline\n",
    "from bs4 import BeautifulSoup\n",
    "from prettytable import PrettyTable\n",
    "from nltk.corpus import stopwords\n",
    "from matplotlib import pyplot as plt\n",
    "from nltk.stem import WordNetLemmatizer\n",
    "from sklearn.multioutput import MultiOutputClassifier\n",
    "from keras.callbacks import EarlyStopping, ModelCheckpoint\n",
    "from sklearn.multiclass import OneVsRestClassifier\n",
    "from skmultilearn.problem_transform import BinaryRelevance\n",
    "from sklearn.feature_extraction.text import TfidfVectorizer\n",
    "from sklearn.model_selection import train_test_split\n",
    "from sklearn.feature_extraction import text\n",
    "from sklearn.linear_model import LogisticRegression\n",
    "from gensim.models import Word2Vec\n",
    "from sklearn.decomposition import PCA\n",
    "from tensorflow.keras.models import Sequential\n",
    "import tensorflow as tf\n",
    "from tensorflow.keras.optimizers import Adam\n",
    "from keras_tuner.tuners import Hyperband\n",
    "import keras\n",
    "from keras.layers import Dense, Activation, Embedding, Flatten, Conv1D\n",
    "from tensorflow.keras.layers import Embedding, LSTM, Dense, Bidirectional, Dropout, Flatten\n",
    "from tensorflow.keras import regularizers\n",
    "from sklearn.metrics import classification_report,confusion_matrix,balanced_accuracy_score,cohen_kappa_score,roc_auc_score\n",
    "from sklearn.metrics import confusion_matrix, precision_score, recall_score, f1_score, cohen_kappa_score"
   ]
  },
  {
   "cell_type": "code",
   "execution_count": 6,
   "id": "2bf36d1b",
   "metadata": {},
   "outputs": [
    {
     "name": "stderr",
     "output_type": "stream",
     "text": [
      "[nltk_data] Error loading stopwords: <urlopen error [Errno 8] nodename\n",
      "[nltk_data]     nor servname provided, or not known>\n",
      "[nltk_data] Error loading wordnet: <urlopen error [Errno 8] nodename\n",
      "[nltk_data]     nor servname provided, or not known>\n",
      "[nltk_data] Error loading punkt: <urlopen error [Errno 8] nodename nor\n",
      "[nltk_data]     servname provided, or not known>\n",
      "[nltk_data] Error loading omw-1.4: <urlopen error [Errno 8] nodename\n",
      "[nltk_data]     nor servname provided, or not known>\n"
     ]
    },
    {
     "data": {
      "text/plain": [
       "False"
      ]
     },
     "execution_count": 6,
     "metadata": {},
     "output_type": "execute_result"
    }
   ],
   "source": [
    "nltk.download('stopwords')\n",
    "nltk.download('wordnet')\n",
    "nltk.download('punkt')\n",
    "nltk.download('omw-1.4')"
   ]
  },
  {
   "cell_type": "code",
   "execution_count": 7,
   "id": "d1053dff",
   "metadata": {},
   "outputs": [],
   "source": [
    "# A list of contractions from http://stackoverflow.com/questions/19790188/expanding-english-language-contractions-in-python\n",
    "contractions_map = { \n",
    "\"ain't\": \"am not\",\n",
    "\"aren't\": \"are not\",\n",
    "\"can't\": \"cannot\",\n",
    "\"can't've\": \"cannot have\",\n",
    "\"'cause\": \"because\",\n",
    "\"could've\": \"could have\",\n",
    "\"couldn't\": \"could not\",\n",
    "\"couldn't've\": \"could not have\",\n",
    "\"didn't\": \"did not\",\n",
    "\"doesn't\": \"does not\",\n",
    "\"don't\": \"do not\",\n",
    "\"hadn't\": \"had not\",\n",
    "\"hadn't've\": \"had not have\",\n",
    "\"hasn't\": \"has not\",\n",
    "\"haven't\": \"have not\",\n",
    "\"he'd\": \"he would\",\n",
    "\"he'd've\": \"he would have\",\n",
    "\"he'll\": \"he will\",\n",
    "\"he's\": \"he is\",\n",
    "\"how'd\": \"how did\",\n",
    "\"how'll\": \"how will\",\n",
    "\"how's\": \"how is\",\n",
    "\"i'd\": \"i would\",\n",
    "\"i'll\": \"i will\",\n",
    "\"i'm\": \"i am\",\n",
    "\"i've\": \"i have\",\n",
    "\"isn't\": \"is not\",\n",
    "\"it'd\": \"it would\",\n",
    "\"it'll\": \"it will\",\n",
    "\"it's\": \"it is\",\n",
    "\"let's\": \"let us\",\n",
    "\"ma'am\": \"madam\",\n",
    "\"mayn't\": \"may not\",\n",
    "\"might've\": \"might have\",\n",
    "\"mightn't\": \"might not\",\n",
    "\"must've\": \"must have\",\n",
    "\"mustn't\": \"must not\",\n",
    "\"needn't\": \"need not\",\n",
    "\"oughtn't\": \"ought not\",\n",
    "\"shan't\": \"shall not\",\n",
    "\"sha'n't\": \"shall not\",\n",
    "\"she'd\": \"she would\",\n",
    "\"she'll\": \"she will\",\n",
    "\"she's\": \"she is\",\n",
    "\"should've\": \"should have\",\n",
    "\"shouldn't\": \"should not\",\n",
    "\"that'd\": \"that would\",\n",
    "\"that's\": \"that is\",\n",
    "\"there'd\": \"there had\",\n",
    "\"there's\": \"there is\",\n",
    "\"they'd\": \"they would\",\n",
    "\"they'll\": \"they will\",\n",
    "\"they're\": \"they are\",\n",
    "\"they've\": \"they have\",\n",
    "\"wasn't\": \"was not\",\n",
    "\"we'd\": \"we would\",\n",
    "\"we'll\": \"we will\",\n",
    "\"we're\": \"we are\",\n",
    "\"we've\": \"we have\",\n",
    "\"weren't\": \"were not\",\n",
    "\"what'll\": \"what will\",\n",
    "\"what're\": \"what are\",\n",
    "\"what's\": \"what is\",\n",
    "\"what've\": \"what have\",\n",
    "\"where'd\": \"where did\",\n",
    "\"where's\": \"where is\",\n",
    "\"who'll\": \"who will\",\n",
    "\"who's\": \"who is\",\n",
    "\"won't\": \"will not\",\n",
    "\"wouldn't\": \"would not\",\n",
    "\"you'd\": \"you would\",\n",
    "\"you'll\": \"you will\",\n",
    "\"you're\": \"you are\"\n",
    "}"
   ]
  },
  {
   "cell_type": "code",
   "execution_count": 8,
   "id": "94c8625a",
   "metadata": {},
   "outputs": [],
   "source": [
    "def contractions(text, mapping):\n",
    "    '''Clean contraction using contraction mapping'''    \n",
    "    specials = [\"’\", \"‘\", \"´\", \"`\"]\n",
    "    for s in specials:\n",
    "        text = text.replace(s, \"'\")\n",
    "    for word in mapping.keys():\n",
    "        if \"\"+word+\"\" in text:\n",
    "            text = text.replace(\"\"+word+\"\", \"\"+mapping[word]+\"\")\n",
    "\n",
    "    return text\n",
    "\n",
    "def clean_text(text, remove_stopwords=True):\n",
    "    text = emoji.demojize(text)\n",
    "    text = text.lower()\n",
    "\n",
    "    template = re.compile(r'https?://\\S+|www\\.\\S+') #Removes website links\n",
    "    text = template.sub(r'', text)\n",
    "    text = contractions(text, contractions_map)\n",
    "    \n",
    "    soup = BeautifulSoup(text, 'lxml') #Removes HTML tags\n",
    "    only_text = soup.get_text()\n",
    "    text = only_text\n",
    "    text = re.sub(r'\\<a href', ' ', text)\n",
    "    text = re.sub(r\"[^a-zA-Z\\d]\", \" \", text) #Remove special Charecters\n",
    "    text = re.sub(r'&amp;', '', text) \n",
    "    text = re.sub(' +', ' ', text) #Remove Extra Spaces\n",
    "    text = text.strip() # remove spaces at the beginning and at the end of string \n",
    "\n",
    "    \n",
    "    # remove stopwords\n",
    "    if remove_stopwords:\n",
    "        text = text.split()\n",
    "        stops = set(stopwords.words(\"english\"))\n",
    "        text = [w for w in text if not w in stops]\n",
    "        text = \" \".join(text)\n",
    "\n",
    "    # Tokenize each word\n",
    "    text =  nltk.WordPunctTokenizer().tokenize(text)\n",
    "    \n",
    "    # Lemmatize each token\n",
    "    lemm = nltk.stem.WordNetLemmatizer()\n",
    "    text = list(map(lambda word:list(map(lemm.lemmatize, word)), text))\n",
    "    words = [*map(''.join, text)]\n",
    "    full_test = [*map(''.join, words)]\n",
    "    return full_test"
   ]
  },
  {
   "cell_type": "code",
   "execution_count": 9,
   "id": "9a758709",
   "metadata": {},
   "outputs": [],
   "source": [
    "train_df = pd.read_csv(\"dataset/train.tsv\",sep='\\t')\n",
    "val_df = pd.read_csv(\"dataset/dev.tsv\",sep='\\t')\n",
    "test_df = pd.read_csv(\"dataset/test.tsv\",sep='\\t')"
   ]
  },
  {
   "cell_type": "code",
   "execution_count": 10,
   "id": "d881584e",
   "metadata": {},
   "outputs": [],
   "source": [
    "train_df['List of classes'] = train_df['emotion'].apply(lambda x: x.split(','))\n",
    "val_df['List of classes'] = val_df['emotion'].apply(lambda x: x.split(','))\n",
    "test_df['List of classes'] = test_df['emotion'].apply(lambda x: x.split(','))"
   ]
  },
  {
   "cell_type": "code",
   "execution_count": 11,
   "id": "94f89f65",
   "metadata": {},
   "outputs": [],
   "source": [
    "import json\n",
    "with open('dataset/ekman_mapping.json') as file:\n",
    "    ekman_mapping = json.load(file)"
   ]
  },
  {
   "cell_type": "code",
   "execution_count": 12,
   "id": "31f8cdec",
   "metadata": {},
   "outputs": [
    {
     "name": "stdout",
     "output_type": "stream",
     "text": [
      "['admiration', 'amusement', 'anger', 'annoyance', 'approval', 'caring', 'confusion', 'curiosity', 'desire', 'disappointment', 'disapproval', 'disgust', 'embarrassment', 'excitement', 'fear', 'gratitude', 'grief', 'joy', 'love', 'nervousness', 'optimism', 'pride', 'realization', 'relief', 'remorse', 'sadness', 'surprise', 'neutral']\n"
     ]
    }
   ],
   "source": [
    "emotion_file = open(\"dataset/emotions.txt\", \"r\")\n",
    "emotion_list = emotion_file.read()\n",
    "emotion_list = emotion_list.split(\"\\n\")\n",
    "print(emotion_list)"
   ]
  },
  {
   "cell_type": "code",
   "execution_count": 13,
   "id": "34e17fd3",
   "metadata": {},
   "outputs": [],
   "source": [
    "def idx2class(idx_list):\n",
    "    arr = []\n",
    "    for i in idx_list:\n",
    "        arr.append(emotion_list[int(i)])\n",
    "    return arr\n",
    "\n",
    "def EmotionMapping(emotion_list):\n",
    "    map_list = []\n",
    "    \n",
    "    for i in emotion_list:\n",
    "        if i in ekman_mapping['anger']:\n",
    "            map_list.append('anger')\n",
    "        if i in ekman_mapping['disgust']:\n",
    "            map_list.append('disgust')\n",
    "        if i in ekman_mapping['fear']:\n",
    "            map_list.append('fear')\n",
    "        if i in ekman_mapping['joy']:\n",
    "            map_list.append('joy')\n",
    "        if i in ekman_mapping['sadness']:\n",
    "            map_list.append('sadness')\n",
    "        if i in ekman_mapping['surprise']:\n",
    "            map_list.append('surprise')\n",
    "        if i == 'neutral':\n",
    "            map_list.append('neutral')\n",
    "            \n",
    "    return map_list\n",
    "\n",
    "\n",
    "train_df['Emotions'] = train_df['List of classes'].apply(idx2class)\n",
    "val_df['Emotions'] = val_df['List of classes'].apply(idx2class)\n",
    "test_df['Emotions'] = test_df['List of classes'].apply(idx2class)\n",
    "\n"
   ]
  },
  {
   "cell_type": "code",
   "execution_count": 14,
   "id": "0153f635",
   "metadata": {},
   "outputs": [],
   "source": [
    "train_df['Mapped Emotions'] = train_df['Emotions'].apply(EmotionMapping)\n",
    "val_df['Mapped Emotions'] = val_df['Emotions'].apply(EmotionMapping)\n",
    "test_df['Mapped Emotions'] = test_df['Emotions'].apply(EmotionMapping)"
   ]
  },
  {
   "cell_type": "code",
   "execution_count": 15,
   "id": "fe4328f0",
   "metadata": {},
   "outputs": [],
   "source": [
    "from sklearn.preprocessing import MultiLabelBinarizer\n",
    "one_hot = MultiLabelBinarizer()\n",
    "y = pd.DataFrame(one_hot.fit_transform(train_df['Mapped Emotions']), columns=one_hot.classes_)\n",
    "train_df = train_df.join(y)\n",
    "\n",
    "y = pd.DataFrame(one_hot.fit_transform(val_df['Mapped Emotions']), columns=one_hot.classes_)\n",
    "val_df = val_df.join(y)\n",
    "\n",
    "y = pd.DataFrame(one_hot.fit_transform(test_df['Mapped Emotions']), columns=one_hot.classes_)\n",
    "test_df = test_df.join(y)"
   ]
  },
  {
   "cell_type": "code",
   "execution_count": 16,
   "id": "96e69e4a",
   "metadata": {},
   "outputs": [],
   "source": [
    "#drop any columns that we will not be using\n",
    "train_df = train_df.drop(train_df[train_df.neutral == 1].index)\n",
    "train_df.drop(['neutral'], axis=1, inplace =True)\n",
    "train_df=train_df.reset_index(drop=True)\n",
    "\n",
    "val_df = val_df.drop(val_df[val_df.neutral == 1].index)\n",
    "val_df.drop(['neutral'], axis=1, inplace =True)\n",
    "val_df=val_df.reset_index(drop=True)\n",
    "\n",
    "test_df = test_df.drop(test_df[test_df.neutral == 1].index)\n",
    "test_df.drop(['neutral'], axis=1, inplace =True)\n",
    "test_df=test_df.reset_index(drop=True)"
   ]
  },
  {
   "cell_type": "code",
   "execution_count": 17,
   "id": "1ba45d8f",
   "metadata": {},
   "outputs": [],
   "source": [
    "train_df.drop(['emotion', 'id','List of classes', 'Emotions','Mapped Emotions'], axis=1, inplace=True)\n",
    "val_df.drop(['emotion', 'id','List of classes', 'Emotions','Mapped Emotions'], axis=1, inplace=True)\n",
    "test_df.drop(['emotion', 'id','List of classes', 'Emotions','Mapped Emotions'], axis=1, inplace=True)"
   ]
  },
  {
   "cell_type": "code",
   "execution_count": 18,
   "id": "26e3f2c3",
   "metadata": {},
   "outputs": [
    {
     "name": "stderr",
     "output_type": "stream",
     "text": [
      "/Users/jolynngkaiying/opt/anaconda3/lib/python3.9/site-packages/bs4/__init__.py:435: MarkupResemblesLocatorWarning: The input looks more like a filename than markup. You may want to open this file and pass the filehandle into Beautiful Soup.\n",
      "  warnings.warn(\n",
      "/Users/jolynngkaiying/opt/anaconda3/lib/python3.9/site-packages/bs4/__init__.py:435: MarkupResemblesLocatorWarning: The input looks more like a filename than markup. You may want to open this file and pass the filehandle into Beautiful Soup.\n",
      "  warnings.warn(\n",
      "/Users/jolynngkaiying/opt/anaconda3/lib/python3.9/site-packages/bs4/__init__.py:435: MarkupResemblesLocatorWarning: The input looks more like a filename than markup. You may want to open this file and pass the filehandle into Beautiful Soup.\n",
      "  warnings.warn(\n"
     ]
    }
   ],
   "source": [
    "#generate cleaned words and text - train data\n",
    "train_df['words'] = train_df.text.apply(clean_text)\n",
    "temp=list(train_df['words'])\n",
    "train_df['filtered'] = [*map(' '.join, temp)]\n",
    "\n",
    "#generate cleaned words and text - val data\n",
    "val_df['words'] = val_df.text.apply(clean_text)\n",
    "temp=list(val_df['words'])\n",
    "val_df['filtered'] = [*map(' '.join, temp)]\n",
    "\n",
    "#generate cleaned words and text - test data\n",
    "test_df['words'] = test_df.text.apply(clean_text)\n",
    "temp=list(test_df['words'])\n",
    "test_df['filtered'] = [*map(' '.join, temp)]"
   ]
  },
  {
   "cell_type": "markdown",
   "id": "4777e484",
   "metadata": {},
   "source": [
    "### Create functions to plot the accuracy and loss graphs\n",
    "\n",
    "#### Loss VS Accuracy\n",
    "We have functions that perform the action of plotting of loss and accuracy to be used later in the project when building a model. This is because we would be analysing both graphs to ensure that the model is performing as accurately as possible.\n",
    "\n",
    "We would be using accuracy as our metrics at compilation as we can assume the dataset is balanced due to the used of a pre-selected training dataset. This is because accuracy is affected by the number of samples available. However, in this case as the dataset is still multi-label we will take into consideration other factors to ensure optimal results when creating models as accuracy would only show the performace of the classifier at guessing. We should be using 'scoring rules' such as \"loss functions that map predicted probabilities and corresponding observed outcomes to loss values, which are minimized in expectation by the true probabilities (p,1−p)\".\n",
    "\n",
    "Hence, in order to ensure optimal performance of the model. We would plot both accuracy and loss graphs when building and improving on our models to ensure that the model is underfit/overfit/goodfit."
   ]
  },
  {
   "cell_type": "code",
   "execution_count": 19,
   "id": "3a231345",
   "metadata": {},
   "outputs": [],
   "source": [
    "def plot_accuracy(acc, val_acc):\n",
    "    '''plot training accuracy and validation accuracy'''\n",
    "    plt.clf() #clear any existing figures\n",
    "    epochs = range(1, len(acc)+1) #get a number of epochs\n",
    "    #assign values for each axis\n",
    "    plt.plot(epochs, acc, 'bo', label=\"Accuracy\")\n",
    "    plt.plot(epochs, val_acc, 'b', label=\"Validation accuracy\")\n",
    "    #set a title of graph and labels of each axis\n",
    "    plt.title(\"Training and validation accuracy\")\n",
    "    plt.xlabel('Epochs')\n",
    "    plt.ylabel(\"Accuracy\")\n",
    "    plt.legend()\n",
    "    plt.show()\n",
    "\n",
    "def plot_loss(loss, val_loss):\n",
    "    '''plot training loss and validation loss on the graph'''\n",
    "    plt.clf() #clear any existing figures\n",
    "    epochs = range(1, len(loss)+1) #get a number of epochs\n",
    "    #assign values for each axis\n",
    "    plt.plot(epochs, loss, 'bo', label=\"Loss\")\n",
    "    plt.plot(epochs, val_loss, 'b', label=\"validation loss\")\n",
    "    #set a title of graph and labels of each axis\n",
    "    plt.title(\"Training Loss & Validation Loss\")\n",
    "    plt.xlabel('Epochs')\n",
    "    plt.ylabel('Loss')\n",
    "    plt.legend()\n",
    "    plt.show()"
   ]
  },
  {
   "cell_type": "markdown",
   "id": "146d0bf9",
   "metadata": {},
   "source": [
    "### TF-IDF\n",
    "Using feature extraction, we use tfidf vectorizer to obtain our TF-IDF vectors."
   ]
  },
  {
   "cell_type": "code",
   "execution_count": 20,
   "id": "cf4c4f9d",
   "metadata": {},
   "outputs": [],
   "source": [
    "tfidft_vect = TfidfVectorizer(stop_words = \"english\")\n",
    "X_train = tfidft_vect.fit_transform(train_df.filtered).toarray()\n",
    "X_val = tfidft_vect.transform(val_df.filtered).toarray()\n",
    "X_test = tfidft_vect.transform(test_df.filtered).toarray()"
   ]
  },
  {
   "cell_type": "code",
   "execution_count": 21,
   "id": "d86f0171",
   "metadata": {},
   "outputs": [
    {
     "name": "stdout",
     "output_type": "stream",
     "text": [
      "Y train shape:  (29191, 6)\n",
      "Y test shape:  (3640, 6)\n",
      "Y test shape:  (3660, 6)\n"
     ]
    }
   ],
   "source": [
    "#emotion labels - 27 labels\n",
    "col = ['anger', 'disgust', 'fear', 'joy', 'sadness', 'surprise']\n",
    "y_train = train_df[col]\n",
    "y_val = val_df[col]\n",
    "y_test = test_df[col]\n",
    "\n",
    "print(\"Y train shape: \",y_train.shape)\n",
    "print(\"Y test shape: \",y_test.shape)\n",
    "print(\"Y test shape: \",y_val.shape)"
   ]
  },
  {
   "cell_type": "code",
   "execution_count": 22,
   "id": "731b57a8",
   "metadata": {},
   "outputs": [
    {
     "name": "stdout",
     "output_type": "stream",
     "text": [
      "train_text (29191, 20163)\n",
      "train_labels (29191, 6)\n",
      "val_text (3660, 20163)\n",
      "val_labels (3660, 6)\n",
      "test_text (3640, 20163)\n",
      "test_labels (3640, 6)\n"
     ]
    }
   ],
   "source": [
    "print('train_text', X_train.shape)\n",
    "print('train_labels', y_train.shape)\n",
    "print('val_text', X_val.shape)\n",
    "print('val_labels', y_val.shape)\n",
    "print('test_text', X_test.shape)\n",
    "print('test_labels', y_test.shape)"
   ]
  },
  {
   "cell_type": "markdown",
   "id": "91e5d966",
   "metadata": {},
   "source": [
    "### Underfit Model\n",
    "The first model would be fairly simple, having the minimum requirements that we need to have statistical power. Which is to have an accuracy higher than 16.67. Our model will only have the required last activation layer sigmoid and the loss function binary_crossentropy."
   ]
  },
  {
   "cell_type": "code",
   "execution_count": 73,
   "id": "06792687",
   "metadata": {},
   "outputs": [
    {
     "name": "stdout",
     "output_type": "stream",
     "text": [
      "Model: \"model_1\"\n",
      "_________________________________________________________________\n",
      " Layer (type)                Output Shape              Param #   \n",
      "=================================================================\n",
      " input_2 (InputLayer)        [(None, 20163)]           0         \n",
      "                                                                 \n",
      " dense_3 (Dense)             (None, 128)               2580992   \n",
      "                                                                 \n",
      " dense_4 (Dense)             (None, 6)                 774       \n",
      "                                                                 \n",
      "=================================================================\n",
      "Total params: 2,581,766\n",
      "Trainable params: 2,581,766\n",
      "Non-trainable params: 0\n",
      "_________________________________________________________________\n"
     ]
    }
   ],
   "source": [
    "input_tensor = Input(shape=X_train.shape[1:])\n",
    "x = layers.Dense(128, activation='relu')(input_tensor)\n",
    "output_tensor = layers.Dense(6, activation='sigmoid')(x)\n",
    "model_tfidf_underfit = Model(input_tensor, output_tensor)\n",
    "model_tfidf_underfit.summary()\n",
    "\n",
    "model_tfidf_underfit.compile(optimizer=tf.keras.optimizers.Adam(learning_rate=0.000001), loss='binary_crossentropy',metrics=['accuracy'])\n",
    "history_model_tfidf_underfit = model_tfidf_underfit.fit(X_train, y_train,epochs=5,batch_size=64,validation_data = (X_val, y_val), verbose=0)"
   ]
  },
  {
   "cell_type": "code",
   "execution_count": 74,
   "id": "b1bdb940",
   "metadata": {},
   "outputs": [
    {
     "data": {
      "image/png": "[encoded data removed]",
      "text/plain": [
       "<Figure size 432x288 with 1 Axes>"
      ]
     },
     "metadata": {
      "needs_background": "light"
     },
     "output_type": "display_data"
    }
   ],
   "source": [
    "plot_loss(history_model_tfidf_underfit.history['loss'], history_model_tfidf_underfit.history['val_loss'])"
   ]
  },
  {
   "cell_type": "code",
   "execution_count": 75,
   "id": "e6c686ba",
   "metadata": {},
   "outputs": [
    {
     "data": {
      "image/png": "[encoded data removed]",
      "text/plain": [
       "<Figure size 432x288 with 1 Axes>"
      ]
     },
     "metadata": {
      "needs_background": "light"
     },
     "output_type": "display_data"
    }
   ],
   "source": [
    "plot_accuracy(history_model_tfidf_underfit.history['accuracy'], history_model_tfidf_underfit.history['val_accuracy'])"
   ]
  },
  {
   "cell_type": "markdown",
   "id": "be9029dd",
   "metadata": {},
   "source": [
    "### Overfit Model\n",
    "After developing a model that is able to do better than the baseline, we need to develop a model that overfits. As the aim of this project is to create a model that stands on the line between overfitting and underfitting, we now need to cross the line to develop a model that overfits.\n",
    "\n",
    "Here, we would be making the model bigger or increasing the training until the model's performance on the validation data starts degrading. This is when overfitting has been achieved."
   ]
  },
  {
   "cell_type": "code",
   "execution_count": 26,
   "id": "38bec345",
   "metadata": {},
   "outputs": [
    {
     "name": "stdout",
     "output_type": "stream",
     "text": [
      "Model: \"model_1\"\n",
      "_________________________________________________________________\n",
      " Layer (type)                Output Shape              Param #   \n",
      "=================================================================\n",
      " input_2 (InputLayer)        [(None, 20163)]           0         \n",
      "                                                                 \n",
      " dense_2 (Dense)             (None, 6)                 120984    \n",
      "                                                                 \n",
      " dense_3 (Dense)             (None, 6)                 42        \n",
      "                                                                 \n",
      "=================================================================\n",
      "Total params: 121,026\n",
      "Trainable params: 121,026\n",
      "Non-trainable params: 0\n",
      "_________________________________________________________________\n"
     ]
    }
   ],
   "source": [
    "input_tensor = Input(shape=X_train.shape[1:])\n",
    "x = layers.Dense(6, activation='relu')(input_tensor)\n",
    "output_tensor = layers.Dense(6, activation='sigmoid')(x)\n",
    "model_tfidf_overfit = Model(input_tensor, output_tensor)\n",
    "model_tfidf_overfit.summary()\n",
    "\n",
    "model_tfidf_overfit.compile(optimizer='adam', loss='binary_crossentropy',metrics=['accuracy'])\n",
    "history_model_tfidf_overfit = model_tfidf_overfit.fit(X_train, y_train,epochs=15,batch_size=128,validation_data = (X_val, y_val), verbose=0)"
   ]
  },
  {
   "cell_type": "code",
   "execution_count": 27,
   "id": "f53195c3",
   "metadata": {},
   "outputs": [
    {
     "data": {
      "image/png": "[encoded data removed]",
      "text/plain": [
       "<Figure size 432x288 with 1 Axes>"
      ]
     },
     "metadata": {
      "needs_background": "light"
     },
     "output_type": "display_data"
    }
   ],
   "source": [
    "plot_loss(history_model_tfidf_overfit.history['loss'], history_model_tfidf_overfit.history['val_loss'])"
   ]
  },
  {
   "cell_type": "code",
   "execution_count": 28,
   "id": "1375517e",
   "metadata": {},
   "outputs": [
    {
     "data": {
      "image/png": "[encoded data removed]",
      "text/plain": [
       "<Figure size 432x288 with 1 Axes>"
      ]
     },
     "metadata": {
      "needs_background": "light"
     },
     "output_type": "display_data"
    }
   ],
   "source": [
    "plot_accuracy(history_model_tfidf_overfit.history['accuracy'], history_model_tfidf_overfit.history['val_accuracy'])"
   ]
  },
  {
   "cell_type": "markdown",
   "id": "a07207d5",
   "metadata": {},
   "source": [
    "### Good Model\n",
    "After creating a model that overfits, we need to modify the model until the line we mentioned above, is found. This can be done using various methods such as tuning the hyper-parameters.\n",
    "\n",
    "When the model is initialised, we will evaluate the network on the complete test set."
   ]
  },
  {
   "cell_type": "code",
   "execution_count": 65,
   "id": "29ad57a8",
   "metadata": {},
   "outputs": [
    {
     "name": "stdout",
     "output_type": "stream",
     "text": [
      "Model: \"model_14\"\n",
      "_________________________________________________________________\n",
      " Layer (type)                Output Shape              Param #   \n",
      "=================================================================\n",
      " input_15 (InputLayer)       [(None, 20163)]           0         \n",
      "                                                                 \n",
      " dense_41 (Dense)            (None, 64)                1290496   \n",
      "                                                                 \n",
      " dense_42 (Dense)            (None, 32)                2080      \n",
      "                                                                 \n",
      " dense_43 (Dense)            (None, 6)                 198       \n",
      "                                                                 \n",
      "=================================================================\n",
      "Total params: 1,292,774\n",
      "Trainable params: 1,292,774\n",
      "Non-trainable params: 0\n",
      "_________________________________________________________________\n"
     ]
    }
   ],
   "source": [
    "input_tensor = Input(shape=X_train.shape[1:])\n",
    "x = layers.Dense(64, activation='relu',kernel_regularizer=regularizers.l1(0.00015))(input_tensor)\n",
    "x = layers.Dense(32, activation='relu',kernel_regularizer=regularizers.l2(0.0001))(x)\n",
    "output_tensor = layers.Dense(6, activation='sigmoid',kernel_regularizer=regularizers.l1(0.00015))(x)\n",
    "model_tfidf_goodfit = Model(input_tensor, output_tensor)\n",
    "model_tfidf_goodfit.summary()\n",
    "\n",
    "model_tfidf_goodfit.compile(optimizer='adam', loss='binary_crossentropy',metrics=['accuracy'])\n",
    "history_model_tfidf_goodfit = model_tfidf_goodfit.fit(X_train, y_train,epochs=20,batch_size=128,validation_data = (X_val, y_val), verbose=0)"
   ]
  },
  {
   "cell_type": "code",
   "execution_count": 66,
   "id": "42cb7f10",
   "metadata": {},
   "outputs": [
    {
     "data": {
      "image/png": "[encoded data removed]",
      "text/plain": [
       "<Figure size 432x288 with 1 Axes>"
      ]
     },
     "metadata": {
      "needs_background": "light"
     },
     "output_type": "display_data"
    }
   ],
   "source": [
    "plot_loss(history_model_tfidf_goodfit.history['loss'], history_model_tfidf_goodfit.history['val_loss'])"
   ]
  },
  {
   "cell_type": "code",
   "execution_count": 67,
   "id": "42d90475",
   "metadata": {},
   "outputs": [
    {
     "data": {
      "image/png": "[encoded data removed]",
      "text/plain": [
       "<Figure size 432x288 with 1 Axes>"
      ]
     },
     "metadata": {
      "needs_background": "light"
     },
     "output_type": "display_data"
    }
   ],
   "source": [
    "plot_accuracy(history_model_tfidf_goodfit.history['accuracy'], history_model_tfidf_goodfit.history['val_accuracy'])"
   ]
  },
  {
   "cell_type": "markdown",
   "id": "d8a384fc",
   "metadata": {},
   "source": [
    "We evaluate the good-fit model to obtain results of loss and accuracy"
   ]
  },
  {
   "cell_type": "code",
   "execution_count": 68,
   "id": "88ac5fab",
   "metadata": {},
   "outputs": [
    {
     "name": "stdout",
     "output_type": "stream",
     "text": [
      "115/115 [==============================] - 0s 4ms/step - loss: 0.3396 - accuracy: 0.6604\n"
     ]
    }
   ],
   "source": [
    "test_loss, test_acc = model_tfidf_goodfit.evaluate(X_val, y_val)"
   ]
  },
  {
   "cell_type": "markdown",
   "id": "732b94e8",
   "metadata": {},
   "source": [
    "### Running hyper tuning based on Good Model\n",
    "Although we have managed to generate a goodfit model of satisfactory standards, at 66% accuracy which is better than a naive guess of 16.6% accuracy (at best). We will attempt to achieve better accuracy, by using Hyperband from the keras library to perform automated hyper parameter tuning.\n",
    "\n",
    "Below we create a function to build our model, this helps define the hyperparameter search space and the model architecture."
   ]
  },
  {
   "cell_type": "code",
   "execution_count": 89,
   "id": "18d8e94b",
   "metadata": {},
   "outputs": [],
   "source": [
    "def model_builder(hp):\n",
    "    hp_learning_rate = hp.Choice('learning_rate', values=[1e-2, 1e-3, 1e-4, 1e-5])\n",
    "    input_tensor = Input(shape=X_train.shape[1:])\n",
    "    \n",
    "    x = layers.Dense(units=hp.Choice('dense1_layer', values=[16,32,64,128,256,512]), activation = 'relu',\n",
    "                   kernel_regularizer=tf.keras.regularizers.L1(hp.Float('dense1_L1', min_value=0.00001, max_value=0.001)))(input_tensor)\n",
    "    x = layers.Dense(units=hp.Choice('dense2_layer', values=[16,32,64,128,256,512]), activation = 'relu',\n",
    "                   kernel_regularizer=tf.keras.regularizers.L1(hp.Float('dense2_L1', min_value=0.00001, max_value=0.001)))(x)\n",
    "\n",
    "    output_tensor = layers.Dense(6, activation = 'sigmoid')(x)\n",
    "    model = Model(input_tensor, output_tensor)\n",
    "    tf.random.set_seed(42)\n",
    "    model.compile(optimizer=tf.keras.optimizers.Adam(learning_rate=hp_learning_rate),loss='binary_crossentropy', metrics=['accuracy'])\n",
    "    return model"
   ]
  },
  {
   "cell_type": "markdown",
   "id": "e457eb79",
   "metadata": {},
   "source": [
    "Instantiate the Hyperband tuner and perform hypertuning"
   ]
  },
  {
   "cell_type": "code",
   "execution_count": 99,
   "id": "125fdff4",
   "metadata": {},
   "outputs": [],
   "source": [
    "tuner = Hyperband(\n",
    "    hypermodel=model_builder,\n",
    "    max_epochs=10,\n",
    "    objective='val_accuracy',\n",
    "    factor=3,\n",
    "    directory='tfidf_models/',\n",
    "    project_name='tfidf'\n",
    ")"
   ]
  },
  {
   "cell_type": "code",
   "execution_count": 100,
   "id": "b265f383",
   "metadata": {},
   "outputs": [
    {
     "name": "stdout",
     "output_type": "stream",
     "text": [
      "Search space summary\n",
      "Default search space size: 5\n",
      "learning_rate (Choice)\n",
      "{'default': 0.01, 'conditions': [], 'values': [0.01, 0.001, 0.0001, 1e-05], 'ordered': True}\n",
      "dense1_layer (Choice)\n",
      "{'default': 16, 'conditions': [], 'values': [16, 32, 64, 128, 256, 512], 'ordered': True}\n",
      "dense1_L1 (Float)\n",
      "{'default': 1e-05, 'conditions': [], 'min_value': 1e-05, 'max_value': 0.001, 'step': None, 'sampling': None}\n",
      "dense2_layer (Choice)\n",
      "{'default': 16, 'conditions': [], 'values': [16, 32, 64, 128, 256, 512], 'ordered': True}\n",
      "dense2_L1 (Float)\n",
      "{'default': 1e-05, 'conditions': [], 'min_value': 1e-05, 'max_value': 0.001, 'step': None, 'sampling': None}\n"
     ]
    }
   ],
   "source": [
    "tuner.search_space_summary()"
   ]
  },
  {
   "cell_type": "markdown",
   "id": "2e1ddfdc",
   "metadata": {},
   "source": [
    "We use a callback called EarlyStopping to stop the training when validation loss has reached a certain value, or when no improvements are made for 5 epochs."
   ]
  },
  {
   "cell_type": "code",
   "execution_count": 101,
   "id": "9f132047",
   "metadata": {},
   "outputs": [
    {
     "name": "stdout",
     "output_type": "stream",
     "text": [
      "Trial 30 Complete [00h 00m 18s]\n",
      "val_accuracy: 0.5653005242347717\n",
      "\n",
      "Best val_accuracy So Far: 0.7098360657691956\n",
      "Total elapsed time: 02h 36m 01s\n",
      "INFO:tensorflow:Oracle triggered exit\n"
     ]
    }
   ],
   "source": [
    "tuner.search(X_train, y_train, epochs = 30, validation_data = (X_val,y_val), batch_size= 128, callbacks = [EarlyStopping(monitor='val_loss', patience=5)])"
   ]
  },
  {
   "cell_type": "code",
   "execution_count": 103,
   "id": "c12c1149",
   "metadata": {},
   "outputs": [
    {
     "name": "stdout",
     "output_type": "stream",
     "text": [
      "{'learning_rate': 0.01, 'dense1_layer': 64, 'dense1_L1': 6.068273485491787e-05, 'dense2_layer': 64, 'dense2_L1': 0.00011159242349100687, 'tuner/epochs': 10, 'tuner/initial_epoch': 4, 'tuner/bracket': 2, 'tuner/round': 2, 'tuner/trial_id': '0012'}\n"
     ]
    }
   ],
   "source": [
    "best_hps=tuner.get_best_hyperparameters()[0]\n",
    "print(best_hps.values)"
   ]
  },
  {
   "cell_type": "markdown",
   "id": "f85e667c",
   "metadata": {},
   "source": [
    "Build the model with the optimal hyper-parameters and obtain the optimal number of epochs to train the model."
   ]
  },
  {
   "cell_type": "code",
   "execution_count": 104,
   "id": "db95103d",
   "metadata": {},
   "outputs": [
    {
     "name": "stdout",
     "output_type": "stream",
     "text": [
      "Best epoch: 26\n"
     ]
    }
   ],
   "source": [
    "best_model_tuner = tuner.hypermodel.build(best_hps)\n",
    "histry_best_tunder =best_model_tuner.fit(X_train, y_train, epochs=30, validation_data=(X_val,y_val), batch_size= 128, verbose=0)\n",
    "tf.random.set_seed(42)\n",
    "val_acc_per_epoch = histry_best_tunder.history['val_accuracy']\n",
    "best_epoch = val_acc_per_epoch.index(max(val_acc_per_epoch)) + 1\n",
    "print('Best epoch: %d' % (best_epoch,))"
   ]
  },
  {
   "cell_type": "markdown",
   "id": "686b305c",
   "metadata": {},
   "source": [
    "We retrain the hyper-tuned model using the best epochs and evaluate to obtain the loss and accuracy results."
   ]
  },
  {
   "cell_type": "code",
   "execution_count": 105,
   "id": "e4e9ba47",
   "metadata": {},
   "outputs": [],
   "source": [
    "hypermodel = tuner.hypermodel.build(best_hps)\n",
    "# Retrain the model\n",
    "history=hypermodel.fit(X_train, y_train, epochs=best_epoch, batch_size= 128, validation_data=(X_val,y_val), verbose=0)"
   ]
  },
  {
   "cell_type": "code",
   "execution_count": 106,
   "id": "d007cc78",
   "metadata": {},
   "outputs": [
    {
     "name": "stdout",
     "output_type": "stream",
     "text": [
      "115/115 [==============================] - 0s 3ms/step - loss: 0.4353 - accuracy: 0.7104\n"
     ]
    }
   ],
   "source": [
    "test_loss, test_acc = hypermodel.evaluate(X_val, y_val)"
   ]
  },
  {
   "cell_type": "markdown",
   "id": "62e85b81",
   "metadata": {},
   "source": [
    "### Training models on full train data\n",
    "Now that we have the final models/networks, we will perform the training on the complete training set instead of the partial training set. Hence, we have concatenated both the training and validation text and labels below. In addition, the evaluation function generates a table to compare the metrics of the manually tuned model and the hyper-tuned model by keras Hyperband."
   ]
  },
  {
   "cell_type": "code",
   "execution_count": 123,
   "id": "5aaeb183",
   "metadata": {},
   "outputs": [],
   "source": [
    "summary_table = PrettyTable([\"Loss\",\"Accuracy\",\"Precision\",\"Recall\",\"F1\",\"Cohen Kappa\",\"Model\"])\n",
    "\n",
    "def evaluation (x_test, y_test,x_val, y_val,model,model_name):\n",
    "    test_loss, test_acc = model.evaluate(x_val, y_val)\n",
    "    \n",
    "    y_pred = model.predict(x_test)\n",
    "    Y_test=y_test.values.argmax(axis=1)\n",
    "    Y_pred = np.argmax(y_pred,axis=1)\n",
    "\n",
    "    cm = confusion_matrix(Y_test, Y_pred)\n",
    "    p = precision_score(Y_test, Y_pred, average='micro')\n",
    "    r = recall_score(Y_test, Y_pred, average='micro')\n",
    "    f = f1_score(Y_test,Y_pred, average='micro')\n",
    "    ck = cohen_kappa_score(Y_test, Y_pred)\n",
    "    \n",
    "    values = [test_loss,test_acc,p,r,f,ck]\n",
    "    rounded_row = [round(elem, 3) for elem in values]\n",
    "    rounded_row.append(model_name)\n",
    "    \n",
    "    summary_table.add_row(rounded_row)"
   ]
  },
  {
   "cell_type": "markdown",
   "id": "a15a511a",
   "metadata": {},
   "source": [
    "### Manually-tuned model"
   ]
  },
  {
   "cell_type": "code",
   "execution_count": 124,
   "id": "df2b7423",
   "metadata": {},
   "outputs": [
    {
     "name": "stdout",
     "output_type": "stream",
     "text": [
      "Model: \"model_7\"\n",
      "_________________________________________________________________\n",
      " Layer (type)                Output Shape              Param #   \n",
      "=================================================================\n",
      " input_8 (InputLayer)        [(None, 20163)]           0         \n",
      "                                                                 \n",
      " dense_21 (Dense)            (None, 64)                1290496   \n",
      "                                                                 \n",
      " dense_22 (Dense)            (None, 32)                2080      \n",
      "                                                                 \n",
      " dense_23 (Dense)            (None, 6)                 198       \n",
      "                                                                 \n",
      "=================================================================\n",
      "Total params: 1,292,774\n",
      "Trainable params: 1,292,774\n",
      "Non-trainable params: 0\n",
      "_________________________________________________________________\n"
     ]
    }
   ],
   "source": [
    "input_tensor = Input(shape=X_train.shape[1:])\n",
    "x = layers.Dense(64, activation='relu',kernel_regularizer=regularizers.l1(0.00015))(input_tensor)\n",
    "x = layers.Dense(32, activation='relu',kernel_regularizer=regularizers.l2(0.0001))(x)\n",
    "output_tensor = layers.Dense(6, activation='sigmoid',kernel_regularizer=regularizers.l1(0.00015))(x)\n",
    "model_tfidf_goodfit = Model(input_tensor, output_tensor)\n",
    "model_tfidf_goodfit.summary()\n",
    "\n",
    "model_tfidf_goodfit.compile(optimizer='adam', loss='binary_crossentropy',metrics=['accuracy'])\n"
   ]
  },
  {
   "cell_type": "code",
   "execution_count": 125,
   "id": "6c059d3a",
   "metadata": {},
   "outputs": [
    {
     "name": "stdout",
     "output_type": "stream",
     "text": [
      "115/115 [==============================] - 1s 6ms/step - loss: 0.3260 - accuracy: 0.6863\n",
      "114/114 [==============================] - 0s 3ms/step\n"
     ]
    }
   ],
   "source": [
    "#training on full dataset\n",
    "final_fit = model_tfidf_goodfit.fit(np.concatenate([X_train,X_val]),np.concatenate([y_train,y_val]), epochs=20, batch_size=128, verbose=0)\n",
    "evaluation (X_test, y_test,X_val, y_val,model_tfidf_goodfit,'manual-tuned model')"
   ]
  },
  {
   "cell_type": "markdown",
   "id": "e18ff48b",
   "metadata": {},
   "source": [
    "### Hyper-tuned Model (Automated HyperBand)"
   ]
  },
  {
   "cell_type": "code",
   "execution_count": 126,
   "id": "2a77731f",
   "metadata": {},
   "outputs": [
    {
     "name": "stdout",
     "output_type": "stream",
     "text": [
      "Model: \"model_8\"\n",
      "_________________________________________________________________\n",
      " Layer (type)                Output Shape              Param #   \n",
      "=================================================================\n",
      " input_9 (InputLayer)        [(None, 20163)]           0         \n",
      "                                                                 \n",
      " dense_24 (Dense)            (None, 64)                1290496   \n",
      "                                                                 \n",
      " dense_25 (Dense)            (None, 64)                4160      \n",
      "                                                                 \n",
      " dense_26 (Dense)            (None, 6)                 390       \n",
      "                                                                 \n",
      "=================================================================\n",
      "Total params: 1,295,046\n",
      "Trainable params: 1,295,046\n",
      "Non-trainable params: 0\n",
      "_________________________________________________________________\n"
     ]
    }
   ],
   "source": [
    "hypermodel = tuner.hypermodel.build(best_hps)\n",
    "hypermodel.summary()"
   ]
  },
  {
   "cell_type": "code",
   "execution_count": 127,
   "id": "a40f2833",
   "metadata": {},
   "outputs": [
    {
     "name": "stdout",
     "output_type": "stream",
     "text": [
      "115/115 [==============================] - 1s 5ms/step - loss: 0.4348 - accuracy: 0.6973\n",
      "114/114 [==============================] - 1s 4ms/step\n"
     ]
    }
   ],
   "source": [
    "#training on full dataset\n",
    "final_fit = hypermodel.fit(np.concatenate([X_train,X_val]),np.concatenate([y_train,y_val]), epochs=8, batch_size=128, verbose=0)\n",
    "evaluation (X_test, y_test,X_val, y_val,best_model_tuner,'hyper-tuned model')"
   ]
  },
  {
   "cell_type": "markdown",
   "id": "88152177",
   "metadata": {},
   "source": [
    "From the evaluation metrics below, we can say that both models are able to perform generally decent as they have higher accuracy than a naive guess of 16.6%. Comparing both models, the hyper-tuned model is able generate better metric results and will be the most suitable representation model when used with TF-IDF."
   ]
  },
  {
   "cell_type": "code",
   "execution_count": 128,
   "id": "232e43a8",
   "metadata": {},
   "outputs": [
    {
     "name": "stdout",
     "output_type": "stream",
     "text": [
      "+-------+----------+-----------+--------+-------+-------------+--------------------+\n",
      "|  Loss | Accuracy | Precision | Recall |   F1  | Cohen Kappa |       Model        |\n",
      "+-------+----------+-----------+--------+-------+-------------+--------------------+\n",
      "| 0.326 |  0.686   |   0.646   | 0.646  | 0.646 |    0.371    | manual-tuned model |\n",
      "| 0.435 |  0.697   |   0.696   | 0.696  | 0.696 |     0.51    | hyper-tuned model  |\n",
      "+-------+----------+-----------+--------+-------+-------------+--------------------+\n"
     ]
    }
   ],
   "source": [
    "print(summary_table)"
   ]
  }
 ],
 "metadata": {
  "kernelspec": {
   "display_name": "Python 3 (ipykernel)",
   "language": "python",
   "name": "python3"
  },
  "language_info": {
   "codemirror_mode": {
    "name": "ipython",
    "version": 3
   },
   "file_extension": ".py",
   "mimetype": "text/x-python",
   "name": "python",
   "nbconvert_exporter": "python",
   "pygments_lexer": "ipython3",
   "version": "3.9.12"
  }
 },
 "nbformat": 4,
 "nbformat_minor": 5
}
